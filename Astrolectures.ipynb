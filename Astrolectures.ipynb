{
 "cells": [
  {
   "cell_type": "markdown",
   "metadata": {},
   "source": [
    "## Astrophysical Lectures \n",
    "### Advanced numerical methods"
   ]
  },
  {
   "cell_type": "markdown",
   "metadata": {},
   "source": [
    "1. [Úvod do výpočetních metod]()\n",
    "2. [Numerické řešení parciálních diferenciálních rovnic]\n",
    "3. [Částicové metody pro modelování plazmatu (PIC)]\n",
    "4. [Metody automatického zpracování dat]\n",
    "\n",
    "[Particle-in-cell](./PIC1d/introPICcz.ipynb)\n",
    "2. [Data Mining](./DataMining/dataminig.ipynb)"
   ]
  },
  {
   "cell_type": "code",
   "execution_count": null,
   "metadata": {},
   "outputs": [],
   "source": []
  }
 ],
 "metadata": {
  "kernelspec": {
   "display_name": "Python 3",
   "language": "python",
   "name": "python3"
  },
  "language_info": {
   "codemirror_mode": {
    "name": "ipython",
    "version": 3
   },
   "file_extension": ".py",
   "mimetype": "text/x-python",
   "name": "python",
   "nbconvert_exporter": "python",
   "pygments_lexer": "ipython3",
   "version": "3.7.7"
  }
 },
 "nbformat": 4,
 "nbformat_minor": 2
}
