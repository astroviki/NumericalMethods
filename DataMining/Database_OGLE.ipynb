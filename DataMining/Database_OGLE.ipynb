{
 "cells": [
  {
   "cell_type": "markdown",
   "metadata": {},
   "source": [
    "# Creation of Be stars database from catalogs of variable stars#\n",
    "(see Zebrun et al. (2001), [Sabogal et al. (2005)](http://cdsads.u-strasbg.fr/cgi-bin/nph-data_query?bibcode=2005MNRAS.361.1055S&db_key=AST&link_type=ABSTRACT&high=5c40bd528c12691)) and OGLE archive)\n",
    "\n",
    "I want to show you, howto create database of interestings astrophysical objects for scientfic study. Namely, we will query online database (Vizier,OGLE,ASAS etc.), select objects according predefined selection criteria, download source data and store result to local database file.\n",
    "\n",
    "As the example, I will select *Be* stars from *Vizier* database according catalog, published by [Sabogal et al. (2005)](http://cdsads.u-strasbg.fr/cgi-bin/nph-data_query?bibcode=2005MNRAS.361.1055S&db_key=AST&link_type=ABSTRACT&high=5c40bd528c12691). They used Zebrun catalog of variable stars, and select *Be* stars candidates using photometric criteria. Zebrun catalog  is represented by *Table zebruncatalog* and Sabogal catalog of Be stars by *Table sabogalcatalog*. SQL database contains both catalogs, and is stored in the file *test.db*"
   ]
  },
  {
   "cell_type": "code",
   "execution_count": 1,
   "metadata": {},
   "outputs": [],
   "source": [
    "import os\n",
    "import ipywidgets as widgets\n",
    "from sqlalchemy import *\n",
    "from IPython.display import display\n",
    "\n",
    "if os.path.isfile('BeStarsCatalog.db'):\n",
    "    os.remove('BeStarsCatalog.db')\n",
    "    \n",
    "\n",
    "db = create_engine('sqlite:///BeStarsCatalog.db')\n",
    "db.echo = False #\n",
    "\n",
    "metadata = MetaData()\n",
    "\n",
    "sabogalcatalog = Table('Sabogal',metadata,\n",
    "                   Column('Type', String(3)),\n",
    "                   Column('OGLE', String(16), primary_key=True),\n",
    "                   Column('Vmag',Float(precision=2)),\n",
    "                   Column('B-V', Float(precision=2)),\n",
    "                   Column('V-I', Float(precision=2)),\n",
    "                   Column('rms', Float(precision=2)),\n",
    "                   Column('Per', Float(precision=2)),\n",
    "                   Column('Per2', Float(precision=2)),)\n",
    "\n",
    "zebruncatalog = Table('Zebrun',metadata,\n",
    "                   Column('OGLE', String(16), primary_key=True),\n",
    "                   Column('RAJ2000',Float(precision=6)),\n",
    "                   Column('DEJ2000',Float(precision=6)),\n",
    "                   Column('MC', String(1)),\n",
    "                   Column('Field',Integer),\n",
    "                   Column('Idat',Integer),\n",
    "                   Column('OGLEII',String),\n",
    "                   Column('Mag', Float(precision=4)),)\n",
    "\n",
    "metadata.bind = db\n",
    "metadata.create_all(db)\n",
    "\n",
    "i = sabogalcatalog.insert()\n",
    "j = zebruncatalog.insert()"
   ]
  },
  {
   "cell_type": "markdown",
   "metadata": {},
   "source": [
    "## Be stars candidate in LMC ##\n",
    "\n",
    "Catalogue made by Sabogal [(see more Sabogal et al. MNRAS (2005)](http://adsabs.harvard.edu/abs/2005MNRAS.361.1055S)). Acces to catalogue provide Vizier ID *J/MNRAS/361/1055/table1*. Before creation of SQL database we define conversion function for conversion between *Table* and *Dictionary* object"
   ]
  },
  {
   "cell_type": "code",
   "execution_count": 2,
   "metadata": {},
   "outputs": [],
   "source": [
    "def tableRow_to_Dict(catalog):\n",
    "    resultDict = {}\n",
    "    resultDict['OGLE'] = catalog['OGLE'].data[0]\n",
    "    resultDict['RAJ2000'] = catalog['RAJ2000'].data[0]\n",
    "    resultDict['DEJ2000'] = catalog['DEJ2000'].data[0]\n",
    "    resultDict['MC'] = catalog['MC'].data[0]\n",
    "    resultDict['Field'] = int(catalog['Fld'].data[0])\n",
    "    resultDict['Idat'] = int(catalog['Idat'].data[0])\n",
    "    resultDict['OGLEII'] = str(catalog['ID2'].data[0])\n",
    "    resultDict['Mag'] = catalog['mag2'].data[0]\n",
    "    return resultDict"
   ]
  },
  {
   "cell_type": "markdown",
   "metadata": {},
   "source": [
    "Finally, we have list of Be stars (using Zebrun catalogue *ID*). As the next step, we will query online *Vizier* database, which contains Zebrun catalog and download available information about stars with corresponding to the *ID*. All information are stored in the database"
   ]
  },
  {
   "cell_type": "code",
   "execution_count": 3,
   "metadata": {},
   "outputs": [
    {
     "data": {
      "application/vnd.jupyter.widget-view+json": {
       "model_id": "4614a7a6bde74f069a16b264cf3593b6",
       "version_major": 2,
       "version_minor": 0
      },
      "text/plain": [
       "FloatProgress(value=0.0, description='Database filling', max=2446.0)"
      ]
     },
     "metadata": {},
     "output_type": "display_data"
    },
    {
     "name": "stdout",
     "output_type": "stream",
     "text": [
      "==05261038-6932021\n",
      "--------Catalog created=-------\n"
     ]
    }
   ],
   "source": [
    "import warnings\n",
    "from astroquery.vizier import Vizier\n",
    "from sqlalchemy import exc\n",
    "\n",
    "f = widgets.FloatProgress(min=0, max=2446,description='Database filling')\n",
    "display(f)\n",
    "\n",
    "Vizier.ROW_LIMIT = -1\n",
    "catalog_sabogal = 'J/MNRAS/361/1055/table1'\n",
    "catalog_zebrun = 'J/AcA/51/317/ogle2mc'\n",
    "\n",
    "catalog = Vizier.get_catalogs(catalog_sabogal)\n",
    "\n",
    "table = catalog[0]\n",
    "\n",
    "warnings.filterwarnings(action='ignore')\n",
    "warnings.simplefilter(action='ignore')\n",
    "for counter,row in enumerate(table):\n",
    "    try:\n",
    "        i.execute({'Type': row['Type'],'OGLE': row['OGLE'],\\\n",
    "               'Vmag': row['Vmag'],'B-V': row['B-V'],'V-I': row['V-I'],\\\n",
    "               'rms': row['rms'],'Per': row['Per'],'Per2': row['Per2']})\n",
    "        \n",
    "        ogleid = '=='+str(row['OGLE'])\n",
    "        result=Vizier(columns=['OGLE','RAJ2000','DEJ2000','MC','Fld','Idat','ID2','mag2']).query_constraints(catalog=catalog_zebrun,OGLE=ogleid)\n",
    "        \n",
    "        infozebrun = result[0]\n",
    "#        print tableRow_to_Dict(infozebrun)\n",
    "        j.execute(tableRow_to_Dict(infozebrun))\n",
    "        f.value=counter\n",
    "        \n",
    "    except exc.IntegrityError:\n",
    "        pass\n",
    "        #print('Duplicite entry - Star  OGLE%s' % (str(row['OGLE'])))\n",
    "print(ogleid)    \n",
    "print('--------Catalog created=-------')\n"
   ]
  },
  {
   "cell_type": "markdown",
   "metadata": {},
   "source": [
    "Output type of VIZIER query is object Astropy [*Table*](http://docs.astropy.org/en/stable/table/). SQLAlchemy store data to database using type [*dictionary*](https://www.tutorialspoint.com/python/python_dictionary.htm). Thus it is neccessary to convert object *Table* to type *dictionary*."
   ]
  },
  {
   "cell_type": "code",
   "execution_count": null,
   "metadata": {},
   "outputs": [],
   "source": []
  }
 ],
 "metadata": {
  "kernelspec": {
   "display_name": "Python 3",
   "language": "python",
   "name": "python3"
  },
  "language_info": {
   "codemirror_mode": {
    "name": "ipython",
    "version": 3
   },
   "file_extension": ".py",
   "mimetype": "text/x-python",
   "name": "python",
   "nbconvert_exporter": "python",
   "pygments_lexer": "ipython3",
   "version": "3.7.3"
  }
 },
 "nbformat": 4,
 "nbformat_minor": 2
}
