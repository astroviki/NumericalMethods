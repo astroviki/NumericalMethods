{
 "cells": [
  {
   "cell_type": "markdown",
   "metadata": {},
   "source": [
    "## Analysis of coordinates crossmatch sources compared with Zebrun##"
   ]
  },
  {
   "cell_type": "code",
   "execution_count": 1,
   "metadata": {},
   "outputs": [],
   "source": [
    "import os\n",
    "import ipywidgets as widgets\n",
    "from sqlalchemy import *\n",
    "from IPython.display import display"
   ]
  },
  {
   "cell_type": "markdown",
   "metadata": {},
   "source": [
    "Firstly, let's select all the records in our **Be star candidates** table defined by *Sabogal et. al (2005)*"
   ]
  },
  {
   "cell_type": "code",
   "execution_count": 2,
   "metadata": {},
   "outputs": [],
   "source": [
    "engine = create_engine('sqlite:///BeStarsCatalog.db')\n",
    "metadata = MetaData()\n",
    "metadata.reflect(bind=engine)\n",
    "\n",
    "conn = engine.connect()\n",
    "sabogal = metadata.tables['Sabogal']\n",
    "zebrun = metadata.tables['Zebrun']\n",
    "\n",
    "selection = select([sabogal])\n",
    "result = conn.execute(selection).fetchall()\n"
   ]
  },
  {
   "cell_type": "markdown",
   "metadata": {},
   "source": [
    "Result of the database query for *Sabogal* sources is [**Result Proxy**](http://docs.sqlalchemy.org/en/latest/core/connections.html?highlight=proxy#sqlalchemy.engine.ResultProxy). The next step is to transform result to the *Astropy Table* type"
   ]
  },
  {
   "cell_type": "code",
   "execution_count": 3,
   "metadata": {},
   "outputs": [
    {
     "data": {
      "text/html": [
       "<i>Table length=2442</i>\n",
       "<table id=\"table2278382201936\" class=\"table-striped table-bordered table-condensed\">\n",
       "<thead><tr><th>B-V</th><th>OGLE</th><th>Per</th><th>Per2</th><th>Type</th><th>V-I</th><th>Vmag</th><th>rms</th></tr></thead>\n",
       "<thead><tr><th>float32</th><th>bytes16</th><th>bytes6</th><th>bytes18</th><th>bytes3</th><th>float32</th><th>float32</th><th>float32</th></tr></thead>\n",
       "<tr><td>0.007</td><td>04595836-6925494</td><td>None</td><td>None</td><td>1</td><td>0.185</td><td>15.949</td><td>0.068</td></tr>\n",
       "<tr><td>-0.028</td><td>05013017-6908270</td><td>None</td><td>None</td><td>1</td><td>0.126</td><td>16.058</td><td>0.08</td></tr>\n",
       "<tr><td>-0.043</td><td>05064631-6843094</td><td>None</td><td>None</td><td>1</td><td>-0.04</td><td>17.666</td><td>0.026</td></tr>\n",
       "<tr><td>-0.117</td><td>05064687-6842250</td><td>None</td><td>None</td><td>1</td><td>-0.114</td><td>16.337</td><td>0.028</td></tr>\n",
       "<tr><td>-0.015</td><td>05064836-6837230</td><td>None</td><td>None</td><td>1</td><td>0.145</td><td>15.573</td><td>0.052</td></tr>\n",
       "<tr><td>-0.085</td><td>05065094-7000527</td><td>None</td><td>None</td><td>1</td><td>-0.067</td><td>16.11</td><td>0.013</td></tr>\n",
       "<tr><td>-0.016</td><td>05065274-6834374</td><td>None</td><td>None</td><td>1</td><td>0.158</td><td>15.698</td><td>0.081</td></tr>\n",
       "<tr><td>-0.094</td><td>05070209-6829173</td><td>None</td><td>None</td><td>1</td><td>-0.078</td><td>16.488</td><td>0.026</td></tr>\n",
       "<tr><td>-0.037</td><td>05070440-6842256</td><td>None</td><td>None</td><td>1</td><td>0.113</td><td>16.465</td><td>0.094</td></tr>\n",
       "<tr><td>0.072</td><td>05070447-6847599</td><td>None</td><td>None</td><td>1</td><td>0.088</td><td>18.654</td><td>0.085</td></tr>\n",
       "<tr><td>...</td><td>...</td><td>...</td><td>...</td><td>...</td><td>...</td><td>...</td><td>...</td></tr>\n",
       "<tr><td>0.049</td><td>05260295-7010457</td><td>None</td><td>None</td><td>4</td><td>0.177</td><td>17.118</td><td>0.02</td></tr>\n",
       "<tr><td>0.644</td><td>05260298-6945417</td><td>None</td><td>None</td><td>4</td><td>0.773</td><td>15.188</td><td>0.01</td></tr>\n",
       "<tr><td>-0.091</td><td>05260474-7000500</td><td>None</td><td>None</td><td>4</td><td>0.064</td><td>16.428</td><td>0.055</td></tr>\n",
       "<tr><td>-0.15</td><td>05260477-6930036</td><td>None</td><td>None</td><td>4</td><td>-0.105</td><td>15.547</td><td>0.068</td></tr>\n",
       "<tr><td>0.641</td><td>05260770-6954161</td><td>None</td><td>None</td><td>4</td><td>0.761</td><td>14.942</td><td>0.011</td></tr>\n",
       "<tr><td>0.611</td><td>05260774-6941125</td><td>None</td><td>None</td><td>4</td><td>0.784</td><td>15.976</td><td>0.02</td></tr>\n",
       "<tr><td>0.68</td><td>05260927-6921461</td><td>None</td><td>None</td><td>4</td><td>0.772</td><td>15.252</td><td>0.01</td></tr>\n",
       "<tr><td>-0.15</td><td>05260967-7012121</td><td>None</td><td>None</td><td>4</td><td>-0.09</td><td>15.999</td><td>0.015</td></tr>\n",
       "<tr><td>-0.086</td><td>05261022-7015407</td><td>None</td><td>None</td><td>4</td><td>0.049</td><td>16.11</td><td>0.015</td></tr>\n",
       "<tr><td>0.544</td><td>05261038-6932021</td><td>None</td><td>None</td><td>4</td><td>0.708</td><td>16.384</td><td>0.014</td></tr>\n",
       "</table>"
      ],
      "text/plain": [
       "<Table length=2442>\n",
       "  B-V         OGLE        Per     Per2   Type    V-I     Vmag    rms  \n",
       "float32     bytes16      bytes6 bytes18 bytes3 float32 float32 float32\n",
       "------- ---------------- ------ ------- ------ ------- ------- -------\n",
       "  0.007 04595836-6925494   None    None      1   0.185  15.949   0.068\n",
       " -0.028 05013017-6908270   None    None      1   0.126  16.058    0.08\n",
       " -0.043 05064631-6843094   None    None      1   -0.04  17.666   0.026\n",
       " -0.117 05064687-6842250   None    None      1  -0.114  16.337   0.028\n",
       " -0.015 05064836-6837230   None    None      1   0.145  15.573   0.052\n",
       " -0.085 05065094-7000527   None    None      1  -0.067   16.11   0.013\n",
       " -0.016 05065274-6834374   None    None      1   0.158  15.698   0.081\n",
       " -0.094 05070209-6829173   None    None      1  -0.078  16.488   0.026\n",
       " -0.037 05070440-6842256   None    None      1   0.113  16.465   0.094\n",
       "  0.072 05070447-6847599   None    None      1   0.088  18.654   0.085\n",
       "    ...              ...    ...     ...    ...     ...     ...     ...\n",
       "  0.049 05260295-7010457   None    None      4   0.177  17.118    0.02\n",
       "  0.644 05260298-6945417   None    None      4   0.773  15.188    0.01\n",
       " -0.091 05260474-7000500   None    None      4   0.064  16.428   0.055\n",
       "  -0.15 05260477-6930036   None    None      4  -0.105  15.547   0.068\n",
       "  0.641 05260770-6954161   None    None      4   0.761  14.942   0.011\n",
       "  0.611 05260774-6941125   None    None      4   0.784  15.976    0.02\n",
       "   0.68 05260927-6921461   None    None      4   0.772  15.252    0.01\n",
       "  -0.15 05260967-7012121   None    None      4   -0.09  15.999   0.015\n",
       " -0.086 05261022-7015407   None    None      4   0.049   16.11   0.015\n",
       "  0.544 05261038-6932021   None    None      4   0.708  16.384   0.014"
      ]
     },
     "execution_count": 3,
     "metadata": {},
     "output_type": "execute_result"
    }
   ],
   "source": [
    "from astropy.io import ascii\n",
    "from astropy.table import Table\n",
    "\n",
    "table_data=[]\n",
    "for row in result:\n",
    "    table_data.append(dict(row))\n",
    "\n",
    "sabogal_table = Table(rows=table_data,dtype=('f4','S','S','S','S','f4','f4','f4'))\n",
    "sabogal_table"
   ]
  },
  {
   "cell_type": "markdown",
   "metadata": {},
   "source": [
    "Now we have all Be stars candidates with OGLE id analysed by *Sabogal et al. (2005)* in our database. We can also qeury  *Zebrun* catalog database, extract extra informations about stars and their light  curves and store result again to the different *Table* **Zebrun**"
   ]
  },
  {
   "cell_type": "code",
   "execution_count": 4,
   "metadata": {},
   "outputs": [
    {
     "data": {
      "text/html": [
       "<i>Table length=2442</i>\n",
       "<table id=\"table2278382594872\" class=\"table-striped table-bordered table-condensed\">\n",
       "<thead><tr><th>DEJ2000</th><th>Field</th><th>Idat</th><th>MC</th><th>Mag</th><th>OGLE</th><th>OGLEII</th><th>RAJ2000</th></tr></thead>\n",
       "<thead><tr><th>float32</th><th>uint32</th><th>uint32</th><th>bytes1</th><th>float32</th><th>bytes16</th><th>uint32</th><th>float32</th></tr></thead>\n",
       "<tr><td>-69.43039</td><td>15</td><td>136</td><td>L</td><td>15.767</td><td>04595836-6925494</td><td>5876</td><td>74.99316</td></tr>\n",
       "<tr><td>-69.14083</td><td>15</td><td>256</td><td>L</td><td>15.945</td><td>05013017-6908270</td><td>133526</td><td>75.3757</td></tr>\n",
       "<tr><td>-68.71928</td><td>13</td><td>244</td><td>L</td><td>17.598</td><td>05064631-6843094</td><td>173999</td><td>76.69296</td></tr>\n",
       "<tr><td>-68.70695</td><td>13</td><td>244</td><td>L</td><td>16.344</td><td>05064687-6842250</td><td>173858</td><td>76.69528</td></tr>\n",
       "<tr><td>-68.62305</td><td>13</td><td>223</td><td>L</td><td>15.309</td><td>05064836-6837230</td><td>178889</td><td>76.70149</td></tr>\n",
       "<tr><td>-70.01464</td><td>12</td><td>301</td><td>L</td><td>16.19</td><td>05065094-7000527</td><td>111511</td><td>76.71225</td></tr>\n",
       "<tr><td>-68.57706</td><td>13</td><td>237</td><td>L</td><td>15.435</td><td>05065274-6834374</td><td>183876</td><td>76.71975</td></tr>\n",
       "<tr><td>-68.48814</td><td>13</td><td>250</td><td>L</td><td>16.467</td><td>05070209-6829173</td><td>261089</td><td>76.7587</td></tr>\n",
       "<tr><td>-68.70711</td><td>13</td><td>252</td><td>L</td><td>16.245</td><td>05070440-6842256</td><td>242802</td><td>76.76833</td></tr>\n",
       "<tr><td>-68.79997</td><td>13</td><td>245</td><td>L</td><td>18.462</td><td>05070447-6847599</td><td>234486</td><td>76.76862</td></tr>\n",
       "<tr><td>...</td><td>...</td><td>...</td><td>...</td><td>...</td><td>...</td><td>...</td><td>...</td></tr>\n",
       "<tr><td>-70.17936</td><td>4</td><td>462</td><td>L</td><td>16.947</td><td>05260295-7010457</td><td>131929</td><td>81.51229</td></tr>\n",
       "<tr><td>-69.76158</td><td>4</td><td>423</td><td>L</td><td>14.418</td><td>05260298-6945417</td><td>185072</td><td>81.51241</td></tr>\n",
       "<tr><td>-70.01388</td><td>4</td><td>449</td><td>L</td><td>16.374</td><td>05260474-7000500</td><td>152445</td><td>81.51975</td></tr>\n",
       "<tr><td>-69.501</td><td>4</td><td>449</td><td>L</td><td>15.654</td><td>05260477-6930036</td><td>227081</td><td>81.51987</td></tr>\n",
       "<tr><td>-69.90447</td><td>4</td><td>424</td><td>L</td><td>14.192</td><td>05260770-6954161</td><td>167930</td><td>81.53208</td></tr>\n",
       "<tr><td>-69.68681</td><td>4</td><td>439</td><td>L</td><td>15.2</td><td>05260774-6941125</td><td>194416</td><td>81.53224</td></tr>\n",
       "<tr><td>-69.36281</td><td>4</td><td>433</td><td>L</td><td>14.486</td><td>05260927-6921461</td><td>240184</td><td>81.53862</td></tr>\n",
       "<tr><td>-70.20336</td><td>4</td><td>456</td><td>L</td><td>16.096</td><td>05260967-7012121</td><td>131763</td><td>81.54028</td></tr>\n",
       "<tr><td>-70.26131</td><td>4</td><td>453</td><td>L</td><td>16.07</td><td>05261022-7015407</td><td>125633</td><td>81.54258</td></tr>\n",
       "<tr><td>-69.53392</td><td>4</td><td>457</td><td>L</td><td>15.684</td><td>05261038-6932021</td><td>219917</td><td>81.54325</td></tr>\n",
       "</table>"
      ],
      "text/plain": [
       "<Table length=2442>\n",
       " DEJ2000  Field   Idat    MC     Mag         OGLE       OGLEII RAJ2000 \n",
       " float32  uint32 uint32 bytes1 float32     bytes16      uint32 float32 \n",
       "--------- ------ ------ ------ ------- ---------------- ------ --------\n",
       "-69.43039     15    136      L  15.767 04595836-6925494   5876 74.99316\n",
       "-69.14083     15    256      L  15.945 05013017-6908270 133526  75.3757\n",
       "-68.71928     13    244      L  17.598 05064631-6843094 173999 76.69296\n",
       "-68.70695     13    244      L  16.344 05064687-6842250 173858 76.69528\n",
       "-68.62305     13    223      L  15.309 05064836-6837230 178889 76.70149\n",
       "-70.01464     12    301      L   16.19 05065094-7000527 111511 76.71225\n",
       "-68.57706     13    237      L  15.435 05065274-6834374 183876 76.71975\n",
       "-68.48814     13    250      L  16.467 05070209-6829173 261089  76.7587\n",
       "-68.70711     13    252      L  16.245 05070440-6842256 242802 76.76833\n",
       "-68.79997     13    245      L  18.462 05070447-6847599 234486 76.76862\n",
       "      ...    ...    ...    ...     ...              ...    ...      ...\n",
       "-70.17936      4    462      L  16.947 05260295-7010457 131929 81.51229\n",
       "-69.76158      4    423      L  14.418 05260298-6945417 185072 81.51241\n",
       "-70.01388      4    449      L  16.374 05260474-7000500 152445 81.51975\n",
       "  -69.501      4    449      L  15.654 05260477-6930036 227081 81.51987\n",
       "-69.90447      4    424      L  14.192 05260770-6954161 167930 81.53208\n",
       "-69.68681      4    439      L    15.2 05260774-6941125 194416 81.53224\n",
       "-69.36281      4    433      L  14.486 05260927-6921461 240184 81.53862\n",
       "-70.20336      4    456      L  16.096 05260967-7012121 131763 81.54028\n",
       "-70.26131      4    453      L   16.07 05261022-7015407 125633 81.54258\n",
       "-69.53392      4    457      L  15.684 05261038-6932021 219917 81.54325"
      ]
     },
     "execution_count": 4,
     "metadata": {},
     "output_type": "execute_result"
    }
   ],
   "source": [
    "selection = select([zebrun])\n",
    "result = conn.execute(selection).fetchall()\n",
    "\n",
    "table_data=[]\n",
    "for row in result:\n",
    "    table_data.append(dict(row))\n",
    "\n",
    "zebrun_table = Table(rows=table_data,dtype=('f4','I','I','S','f4','S','I','f4'))\n",
    "\n",
    "zebrun_table"
   ]
  },
  {
   "cell_type": "markdown",
   "metadata": {},
   "source": [
    "Optional step is to convert table to *LaTeX* format, decrease/increase precision of the real numbers and change order of the columns itself."
   ]
  },
  {
   "cell_type": "markdown",
   "metadata": {},
   "source": [
    "We can also compare crossmatched sources between OGLE II database and coordinates of Be sources from *Sabogal et al. (2005)*  stored in database file *classification.db* in database table *BeSummary* with original *Zebrun* catalogue."
   ]
  },
  {
   "cell_type": "code",
   "execution_count": 50,
   "metadata": {},
   "outputs": [],
   "source": [
    "engine = create_engine('sqlite:///classification.db')\n",
    "metadata = MetaData()\n",
    "metadata.reflect(bind=engine)\n",
    "\n",
    "conn_classification = engine.connect()\n",
    "\n",
    "classification_result = metadata.tables['BeSummary']\n",
    "selection_classification = select([classification_result])\n",
    "result = conn_classification.execute(selection_classification).fetchall()"
   ]
  },
  {
   "cell_type": "code",
   "execution_count": 51,
   "metadata": {},
   "outputs": [
    {
     "data": {
      "text/html": [
       "&lt;Table length=2431&gt;\n",
       "<table id=\"table139849148083280\" class=\"table-striped table-bordered table-condensed\">\n",
       "<thead><tr><th>Per_Det</th><th>VCheck</th><th>name</th><th>oglename</th><th>per_1</th><th>per_2</th><th>type_mennickent</th><th>v_i</th><th>vmag</th></tr></thead>\n",
       "<thead><tr><th>str4</th><th>str4</th><th>str17</th><th>str20</th><th>float32</th><th>float32</th><th>str3</th><th>float32</th><th>float32</th></tr></thead>\n",
       "<tr><td>None</td><td>None</td><td>lmc_sc15_i_5876</td><td>OGLE04595836-6925494</td><td>nan</td><td>nan</td><td>1</td><td>0.185</td><td>15.949</td></tr>\n",
       "<tr><td>None</td><td>None</td><td>lmc_sc15_i_133526</td><td>OGLE05013017-6908270</td><td>nan</td><td>nan</td><td>1</td><td>0.126</td><td>16.058</td></tr>\n",
       "<tr><td>None</td><td>None</td><td>lmc_sc13_i_173999</td><td>OGLE05064631-6843094</td><td>nan</td><td>nan</td><td>1</td><td>-0.04</td><td>17.666</td></tr>\n",
       "<tr><td>None</td><td>None</td><td>lmc_sc13_i_173858</td><td>OGLE05064687-6842250</td><td>nan</td><td>nan</td><td>1</td><td>-0.114</td><td>16.337</td></tr>\n",
       "<tr><td>None</td><td>None</td><td>lmc_sc13_i_178889</td><td>OGLE05064836-6837230</td><td>nan</td><td>nan</td><td>1</td><td>0.145</td><td>15.573</td></tr>\n",
       "<tr><td>None</td><td>None</td><td>lmc_sc12_i_111511</td><td>OGLE05065094-7000527</td><td>nan</td><td>nan</td><td>1</td><td>-0.067</td><td>16.11</td></tr>\n",
       "<tr><td>None</td><td>None</td><td>lmc_sc13_i_183876</td><td>OGLE05065274-6834374</td><td>nan</td><td>nan</td><td>1</td><td>0.158</td><td>15.698</td></tr>\n",
       "<tr><td>None</td><td>None</td><td>lmc_sc13_i_261089</td><td>OGLE05070209-6829173</td><td>nan</td><td>nan</td><td>1</td><td>-0.078</td><td>16.488</td></tr>\n",
       "<tr><td>None</td><td>None</td><td>lmc_sc13_i_242802</td><td>OGLE05070440-6842256</td><td>nan</td><td>nan</td><td>1</td><td>0.113</td><td>16.465</td></tr>\n",
       "<tr><td>None</td><td>None</td><td>lmc_sc13_i_234486</td><td>OGLE05070447-6847599</td><td>nan</td><td>nan</td><td>1</td><td>0.088</td><td>18.654</td></tr>\n",
       "<tr><td>...</td><td>...</td><td>...</td><td>...</td><td>...</td><td>...</td><td>...</td><td>...</td><td>...</td></tr>\n",
       "<tr><td>None</td><td>None</td><td>lmc_sc4_i_131929</td><td>OGLE05260295-7010457</td><td>nan</td><td>nan</td><td>4</td><td>0.177</td><td>17.118</td></tr>\n",
       "<tr><td>None</td><td>None</td><td>lmc_sc4_i_185072</td><td>OGLE05260298-6945417</td><td>nan</td><td>nan</td><td>4</td><td>0.773</td><td>15.188</td></tr>\n",
       "<tr><td>None</td><td>None</td><td>lmc_sc4_i_152445</td><td>OGLE05260474-7000500</td><td>nan</td><td>nan</td><td>4</td><td>0.064</td><td>16.428</td></tr>\n",
       "<tr><td>None</td><td>None</td><td>lmc_sc4_i_227081</td><td>OGLE05260477-6930036</td><td>nan</td><td>nan</td><td>4</td><td>-0.105</td><td>15.547</td></tr>\n",
       "<tr><td>None</td><td>None</td><td>lmc_sc4_i_167930</td><td>OGLE05260770-6954161</td><td>nan</td><td>nan</td><td>4</td><td>0.761</td><td>14.942</td></tr>\n",
       "<tr><td>None</td><td>None</td><td>lmc_sc4_i_194416</td><td>OGLE05260774-6941125</td><td>nan</td><td>nan</td><td>4</td><td>0.784</td><td>15.976</td></tr>\n",
       "<tr><td>None</td><td>None</td><td>lmc_sc4_i_240184</td><td>OGLE05260927-6921461</td><td>nan</td><td>nan</td><td>4</td><td>0.772</td><td>15.252</td></tr>\n",
       "<tr><td>None</td><td>None</td><td>lmc_sc4_i_131763</td><td>OGLE05260967-7012121</td><td>nan</td><td>nan</td><td>4</td><td>-0.09</td><td>15.999</td></tr>\n",
       "<tr><td>None</td><td>None</td><td>lmc_sc4_i_125633</td><td>OGLE05261022-7015407</td><td>nan</td><td>nan</td><td>4</td><td>0.049</td><td>16.11</td></tr>\n",
       "<tr><td>None</td><td>None</td><td>lmc_sc4_i_219917</td><td>OGLE05261038-6932021</td><td>nan</td><td>nan</td><td>4</td><td>0.708</td><td>16.384</td></tr>\n",
       "</table>"
      ],
      "text/plain": [
       "<Table length=2431>\n",
       "Per_Det VCheck        name       ... type_mennickent   v_i     vmag \n",
       "  str4   str4        str17       ...       str3      float32 float32\n",
       "------- ------ ----------------- ... --------------- ------- -------\n",
       "   None   None   lmc_sc15_i_5876 ...               1   0.185  15.949\n",
       "   None   None lmc_sc15_i_133526 ...               1   0.126  16.058\n",
       "   None   None lmc_sc13_i_173999 ...               1   -0.04  17.666\n",
       "   None   None lmc_sc13_i_173858 ...               1  -0.114  16.337\n",
       "   None   None lmc_sc13_i_178889 ...               1   0.145  15.573\n",
       "   None   None lmc_sc12_i_111511 ...               1  -0.067   16.11\n",
       "   None   None lmc_sc13_i_183876 ...               1   0.158  15.698\n",
       "   None   None lmc_sc13_i_261089 ...               1  -0.078  16.488\n",
       "   None   None lmc_sc13_i_242802 ...               1   0.113  16.465\n",
       "   None   None lmc_sc13_i_234486 ...               1   0.088  18.654\n",
       "    ...    ...               ... ...             ...     ...     ...\n",
       "   None   None  lmc_sc4_i_131929 ...               4   0.177  17.118\n",
       "   None   None  lmc_sc4_i_185072 ...               4   0.773  15.188\n",
       "   None   None  lmc_sc4_i_152445 ...               4   0.064  16.428\n",
       "   None   None  lmc_sc4_i_227081 ...               4  -0.105  15.547\n",
       "   None   None  lmc_sc4_i_167930 ...               4   0.761  14.942\n",
       "   None   None  lmc_sc4_i_194416 ...               4   0.784  15.976\n",
       "   None   None  lmc_sc4_i_240184 ...               4   0.772  15.252\n",
       "   None   None  lmc_sc4_i_131763 ...               4   -0.09  15.999\n",
       "   None   None  lmc_sc4_i_125633 ...               4   0.049   16.11\n",
       "   None   None  lmc_sc4_i_219917 ...               4   0.708  16.384"
      ]
     },
     "execution_count": 51,
     "metadata": {},
     "output_type": "execute_result"
    }
   ],
   "source": [
    "table_data=[]\n",
    "\n",
    "for row in result:\n",
    "    table_data.append(dict(row))\n",
    "\n",
    "summary_table = Table(rows=table_data,dtype=('S','S','S','S','f4','f4','S','f4','f4'))\n",
    "summary_table"
   ]
  },
  {
   "cell_type": "markdown",
   "metadata": {},
   "source": [
    "Porovnej crossmatch v databazi *BeSummary* s oficialními publikovanými daty v databázi *Vizier*. We want to know, which *Sabogal* sources published in **Vizier** was not crossmatched by coordinates in our pipeline"
   ]
  },
  {
   "cell_type": "code",
   "execution_count": 52,
   "metadata": {},
   "outputs": [
    {
     "name": "stdout",
     "output_type": "stream",
     "text": [
      " OGLE05144218-6915585 missing in Sabogal catalogue with OGLE II id lmc_sc9_i_335785\n",
      " OGLE05365595-6953158 missing in Sabogal catalogue with OGLE II id lmc_sc16_i_195859\n",
      "OGLE05123350-6849228 have differet OGLEII id lmc_sc10_i_278725 compare with Zebrun id lmc_sc9_i_84478\n",
      " OGLE05053187-6825516 missing in Sabogal catalogue with OGLE II id lmc_sc13_i_57192\n",
      " OGLE05234024-6936239 missing in Sabogal catalogue with OGLE II id lmc_sc5_i_187350\n",
      " OGLE05274224-6922279 missing in Sabogal catalogue with OGLE II id lmc_sc3_i_113787\n",
      " OGLE05341459-6940395 missing in Sabogal catalogue with OGLE II id lmc_sc1_i_262410\n",
      "OGLE05060829-6910053 have differet OGLEII id lmc_sc13_i_69027 compare with Zebrun id lmc_sc12_i_104452\n",
      " OGLE05450685-7058509 missing in Sabogal catalogue with OGLE II id lmc_sc20_i_14792\n",
      " OGLE05172067-6920088 missing in Sabogal catalogue with OGLE II id lmc_sc8_i_325275\n",
      " OGLE05182388-6905058 missing in Sabogal catalogue with OGLE II id lmc_sc7_i_221151\n",
      " OGLE05195728-6919108 missing in Sabogal catalogue with OGLE II id lmc_sc7_i_433061\n",
      " OGLE05201427-7007382 missing in Sabogal catalogue with OGLE II id lmc_sc21_i_45899\n"
     ]
    }
   ],
   "source": [
    "for row in zebrun_table:\n",
    "        ogle_id = 'OGLE'+str(row['OGLE'])\n",
    "        prefix = str(row['MC']).lower()+'mc_sc'\n",
    "        ogleii_id = prefix+str(row['Field'])+'_i_'+str(row['OGLEII'])\n",
    "        select_st = select([classification_result]).where(\n",
    "            classification_result.c.oglename == ogle_id)\n",
    "\n",
    "        result= conn_classification.execute(select_st).fetchall()\n",
    "        if not result:\n",
    "            print(' %s missing in Sabogal catalogue with OGLE II id %s' %(ogle_id,ogleii_id))\n",
    "        elif result[0]['name']==ogleii_id:\n",
    "            pass\n",
    "        else:\n",
    "            print('%s have differet OGLEII id %s compare with Zebrun id %s' % (ogle_id,result[0]['name'],ogleii_id))"
   ]
  },
  {
   "cell_type": "markdown",
   "metadata": {},
   "source": [
    "We can ask also in opposite way, namely which *Sabogal* sources in crossmatched catalog are not published in **Vizier** catalog"
   ]
  },
  {
   "cell_type": "code",
   "execution_count": 53,
   "metadata": {},
   "outputs": [],
   "source": [
    "import re\n",
    "\n",
    "def extract_info(text):\n",
    "    m = re.search('lmc_sc(\\d+)_i_(\\d+).*', text)\n",
    "    if m:\n",
    "        field = int(m.group(1))\n",
    "        id_number = int(m.group(2))\n",
    "    else:\n",
    "        field = np.nan\n",
    "        id_number = np.nan\n",
    "        \n",
    "    return field,id_number"
   ]
  },
  {
   "cell_type": "code",
   "execution_count": 54,
   "metadata": {},
   "outputs": [
    {
     "name": "stdout",
     "output_type": "stream",
     "text": [
      "Crossmatched source with OGLEII id lmc_sc10_i_278725 does not exist in Zebrun OGLE05123350-6849228\n",
      "Crossmatched source with OGLEII id lmc_sc13_i_69027 does not exist in Zebrun OGLE05060829-6910053\n"
     ]
    }
   ],
   "source": [
    "engine = create_engine('sqlite:///BeStarsCatalog.db')\n",
    "metadata = MetaData()\n",
    "metadata.reflect(bind=engine)\n",
    "zebrun = metadata.tables['Zebrun']\n",
    "\n",
    "conn = engine.connect()\n",
    "\n",
    "id = 0\n",
    "for row in summary_table:\n",
    "        id += 1\n",
    "        ogleii_id = str(row['name'])\n",
    "        ogle_id =  str(row['oglename']).replace('OGLE','')\n",
    "        field,id_number = extract_info(ogleii_id)\n",
    "        \n",
    "        select_st = select([zebrun]).where(\n",
    "            (zebrun.c.OGLEII ==id_number) &\n",
    "            (zebrun.c.Field == field))\n",
    "        \n",
    "        result= conn.execute(select_st).fetchall()\n",
    "        if not result:\n",
    "            print('Crossmatched source with OGLEII id %s does not exist in Zebrun OGLE%s' %(ogleii_id,ogle_id))           \n"
   ]
  },
  {
   "cell_type": "markdown",
   "metadata": {},
   "source": [
    "From the result, it is clear, that coordinates crossmatch of Zebrun sources with **OGLE** id *OGLE05123350-6849228, OGLE05060829-6910053* led to the fail **OGLEII** identification of the sources. \n",
    "\n",
    "Originally, light curves of **Be star candidates** sumarized by *Sabogal et. al (2005)* came from *OGLE* photometry archive. But they are also present in the succesor *OGLE II* archive with more measurements inside. We downloaded all sources from archive using [webscrapOGLE.ipynb](webscrapOGLE.ipynb). Three sources listed below does not contains points (Error: No good DIA photometry for this object)\n",
    "- lmc_sc20_i_14792.dat \n",
    "- lmc_sc8_i_325275.dat \n",
    "- lmc_sc7_i_433061.dat"
   ]
  },
  {
   "cell_type": "code",
   "execution_count": null,
   "metadata": {},
   "outputs": [],
   "source": []
  }
 ],
 "metadata": {
  "kernelspec": {
   "display_name": "Python 3",
   "language": "python",
   "name": "python3"
  },
  "language_info": {
   "codemirror_mode": {
    "name": "ipython",
    "version": 3
   },
   "file_extension": ".py",
   "mimetype": "text/x-python",
   "name": "python",
   "nbconvert_exporter": "python",
   "pygments_lexer": "ipython3",
   "version": "3.7.3"
  }
 },
 "nbformat": 4,
 "nbformat_minor": 2
}
