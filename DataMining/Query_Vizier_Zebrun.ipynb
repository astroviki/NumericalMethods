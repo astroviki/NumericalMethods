{
 "cells": [
  {
   "cell_type": "code",
   "execution_count": 1,
   "metadata": {},
   "outputs": [],
   "source": [
    "from astroquery.vizier import Vizier\n",
    "from sqlalchemy import exc"
   ]
  },
  {
   "cell_type": "markdown",
   "metadata": {},
   "source": [
    "## Catalogue selection\n",
    "\n",
    "Database of variable stars identified by project OGLE published by Zebrun et al. (2001) Acta Astronomica v.51,  pp. 317\n",
    "\n",
    "Vizier ID of article is *J/AcA/51/317/ogle2mc*"
   ]
  },
  {
   "cell_type": "code",
   "execution_count": 3,
   "metadata": {},
   "outputs": [
    {
     "data": {
      "text/plain": [
       "<bound method TableList.pprint of TableList with 1 tables:\n",
       "\t'0:J/AcA/51/317/ogle2mc' with 16 column(s) and 68194 row(s) >"
      ]
     },
     "execution_count": 3,
     "metadata": {},
     "output_type": "execute_result"
    }
   ],
   "source": [
    "Vizier.ROW_LIMIT = -1\n",
    "catalog_name = 'J/AcA/51/317/ogle2mc'\n",
    "catalog = Vizier.get_catalogs(catalog_name)\n",
    "catalog.pprint"
   ]
  },
  {
   "cell_type": "markdown",
   "metadata": {},
   "source": [
    "Output is in the form *TableList* - list of astropy Table (see https://docs.astropy.org/en/stable/api/astropy.table.Table.html)\n",
    "\n",
    "Table contains 68194 rows, one row per one variable star. Columns contains information about stars like RA,DEC coordinates, magnitudes, observational erros and other observed quantities or useful informations. We can print all column names by using"
   ]
  },
  {
   "cell_type": "code",
   "execution_count": 4,
   "metadata": {},
   "outputs": [
    {
     "name": "stdout",
     "output_type": "stream",
     "text": [
      "['OGLE', 'RAJ2000', 'DEJ2000', 'MC', 'Fld', 'Idat', 'LC', 'ID1', 'dist1', 'mag1', 'e_mag1', 'ID2', 'dist2', 'mag2', 'e_mag2', 'Remarks']\n"
     ]
    }
   ],
   "source": [
    "print(catalog[0].colnames)"
   ]
  },
  {
   "cell_type": "markdown",
   "metadata": {},
   "source": [
    "- **OGLE** is ID number (constructed from coordinates) originally used by OGLE project\n",
    "- **RAJ2000,DEJ2000** are coordinates\n",
    "- **MC** is flag for Large Magellanic Cloud or Small Magellanic Cloud\n",
    "- **Fld** is observed field number from OGLE project\n",
    "- **Idat** Number of I-band data from OGLE database\n",
    "- **ID1** DOPHOT ID number of the closest star identified by DOPHoT on the DIA reference frame\n",
    "- **dist1** Distance to DOPHOT star **ID1**\n",
    "- **mag1** Magnitude of DOPHOT star **ID1**\n",
    "- **e_mag1** Error on **mag1**\n",
    "- **ID2** OGLE ID number of the closest star identified by OGLE\n",
    "- **dist2** Distance to OGLE star ientified by OGLE template\n",
    "- **mag2** Magnitude of OGLE star **ID2**\n",
    "- **e_mag2** Error on **mag2**\n",
    "\n",
    "As a test we tried to find information about star *OGLE05201427-7007382* and for our purpose we reduce columns only on **OGLE,RAJ2000,DEJ2000,MC,Fld,Idat,ID2,mag2,e_mag2**."
   ]
  },
  {
   "cell_type": "code",
   "execution_count": 4,
   "metadata": {},
   "outputs": [
    {
     "data": {
      "text/plain": [
       "<bound method TableList.pprint of TableList with 1 tables:\n",
       "\t'0:J/AcA/51/317/ogle2mc' with 7 column(s) and 1 row(s) >"
      ]
     },
     "execution_count": 4,
     "metadata": {},
     "output_type": "execute_result"
    }
   ],
   "source": [
    "result=Vizier(columns=['RAJ2000','DEJ2000','Idat','ID2','MC','Fld','mag2']).query_constraints(catalog=catalog_name,OGLE='==05201427-7007382')\n",
    "result.pprint"
   ]
  },
  {
   "cell_type": "markdown",
   "metadata": {},
   "source": [
    "Result in the form of *TableList* contains Table with the selected information about the star."
   ]
  },
  {
   "cell_type": "code",
   "execution_count": 7,
   "metadata": {
    "scrolled": true
   },
   "outputs": [
    {
     "data": {
      "text/html": [
       "&lt;Table masked=True length=1&gt;\n",
       "<table id=\"table139958226883984\" class=\"table-striped table-bordered table-condensed\">\n",
       "<thead><tr><th>RAJ2000</th><th>DEJ2000</th><th>Idat</th><th>ID2</th><th>MC</th><th>Fld</th><th>mag2</th></tr></thead>\n",
       "<thead><tr><th>deg</th><th>deg</th><th></th><th></th><th></th><th></th><th>mag</th></tr></thead>\n",
       "<thead><tr><th>float64</th><th>float64</th><th>int16</th><th>int32</th><th>str1</th><th>int16</th><th>float32</th></tr></thead>\n",
       "<tr><td>80.05945</td><td>-70.12728</td><td>273</td><td>45899</td><td>L</td><td>21</td><td>17.802</td></tr>\n",
       "</table>"
      ],
      "text/plain": [
       "<Table masked=True length=1>\n",
       " RAJ2000   DEJ2000   Idat  ID2   MC   Fld    mag2 \n",
       "   deg       deg                             mag  \n",
       " float64   float64  int16 int32 str1 int16 float32\n",
       "--------- --------- ----- ----- ---- ----- -------\n",
       " 80.05945 -70.12728   273 45899    L    21  17.802"
      ]
     },
     "execution_count": 7,
     "metadata": {},
     "output_type": "execute_result"
    }
   ],
   "source": [
    "table=result[0]\n",
    "table"
   ]
  },
  {
   "cell_type": "markdown",
   "metadata": {},
   "source": [
    "Coordinates of the **RAJ2000,DEJ2000** of the star are in the unit *deg*. It is useful to have coordinates in other format"
   ]
  },
  {
   "cell_type": "code",
   "execution_count": 10,
   "metadata": {},
   "outputs": [
    {
     "data": {
      "text/plain": [
       "[u'05h20m14.268s -70d07m38.208s']"
      ]
     },
     "execution_count": 10,
     "metadata": {},
     "output_type": "execute_result"
    }
   ],
   "source": [
    "from astropy import units as u\n",
    "from astropy.coordinates import SkyCoord\n",
    "\n",
    "coords_star = SkyCoord(table['RAJ2000'].data*u.deg,table['DEJ2000'].data*u.deg)\n",
    "coords_star.to_string('hmsdms')\n",
    "\n"
   ]
  },
  {
   "cell_type": "markdown",
   "metadata": {},
   "source": [
    "Similarly we can query catalog of LMC Be stars published by *Sabogal et al. (2005)* in Monthly Notices of the Royal Astronomy\n",
    "\n",
    "Vizier ID of the catalog is *J/MNRAS/361/1055/table1*"
   ]
  },
  {
   "cell_type": "code",
   "execution_count": 11,
   "metadata": {},
   "outputs": [
    {
     "data": {
      "text/plain": [
       "<bound method TableList.pprint of TableList with 1 tables:\n",
       "\t'0:J/MNRAS/361/1055/table1' with 12 column(s) and 2446 row(s) >"
      ]
     },
     "execution_count": 11,
     "metadata": {},
     "output_type": "execute_result"
    }
   ],
   "source": [
    "catalog_name = 'J/MNRAS/361/1055/table1'\n",
    "catalog = Vizier.get_catalogs(catalog_name)\n",
    "catalog.pprint"
   ]
  },
  {
   "cell_type": "code",
   "execution_count": 12,
   "metadata": {},
   "outputs": [
    {
     "name": "stdout",
     "output_type": "stream",
     "text": [
      "['Type', 'OGLE', 'Dist', 'Vmag', 'B-V', 'V-I', 'rms', 'Per', 'Per2', 'Notes', '_RA', '_DE']\n"
     ]
    }
   ],
   "source": [
    "print(catalog[0].colnames)"
   ]
  },
  {
   "cell_type": "markdown",
   "metadata": {},
   "source": [
    "- **Type** Types of the star (1,1/2,2,3 or 4)\n",
    "- **OGLE** Ogle designation ID (HHMMSSss-DDMMSs) J2000\n",
    "- **Dist** Distance to the nearest star detected with DOPHOT\n",
    "- **Vmag** V magnitude \n",
    "- **B-V** B-V colour index\n",
    "- **V-I** V-I colour index\n",
    "- **rms** Scatter of I-band magnitude\n",
    "- **Per** Period (only for type 3)\n",
    "- **Per2** Second period for double variable (only type 3)\n",
    "- **e_Per** rms uncertainty of Per\n",
    "- **e_Per2** rms uncertainty of Per2"
   ]
  },
  {
   "cell_type": "code",
   "execution_count": 13,
   "metadata": {},
   "outputs": [
    {
     "data": {
      "text/plain": [
       "<bound method TableList.pprint of TableList with 1 tables:\n",
       "\t'0:J/MNRAS/361/1055/table1' with 8 column(s) and 1 row(s) >"
      ]
     },
     "execution_count": 13,
     "metadata": {},
     "output_type": "execute_result"
    }
   ],
   "source": [
    "result=Vizier(columns=['Type','OGLE','Vmag','B-V','V-I','rms','Per','Per2']).query_constraints(catalog=catalog_name,OGLE='==05201427-7007382')\n",
    "result.pprint"
   ]
  },
  {
   "cell_type": "code",
   "execution_count": 14,
   "metadata": {},
   "outputs": [
    {
     "data": {
      "text/html": [
       "&lt;Table masked=True length=1&gt;\n",
       "<table id=\"table139958225764880\" class=\"table-striped table-bordered table-condensed\">\n",
       "<thead><tr><th>Type</th><th>OGLE</th><th>Vmag</th><th>B-V</th><th>V-I</th><th>rms</th><th>Per</th><th>Per2</th></tr></thead>\n",
       "<thead><tr><th></th><th></th><th>mag</th><th>mag</th><th>mag</th><th>mag</th><th>d</th><th>d</th></tr></thead>\n",
       "<thead><tr><th>str3</th><th>str16</th><th>float32</th><th>float32</th><th>float32</th><th>float32</th><th>float64</th><th>float32</th></tr></thead>\n",
       "<tr><td>4</td><td>05201427-7007382</td><td>18.278</td><td>0.424</td><td>0.321</td><td>0.129</td><td>--</td><td>--</td></tr>\n",
       "</table>"
      ],
      "text/plain": [
       "<Table masked=True length=1>\n",
       "Type       OGLE         Vmag    B-V     V-I     rms     Per     Per2 \n",
       "                        mag     mag     mag     mag      d       d   \n",
       "str3      str16       float32 float32 float32 float32 float64 float32\n",
       "---- ---------------- ------- ------- ------- ------- ------- -------\n",
       "   4 05201427-7007382  18.278   0.424   0.321   0.129      --      --"
      ]
     },
     "execution_count": 14,
     "metadata": {},
     "output_type": "execute_result"
    }
   ],
   "source": [
    "table=result[0]\n",
    "table"
   ]
  }
 ],
 "metadata": {
  "kernelspec": {
   "display_name": "Python 3",
   "language": "python",
   "name": "python3"
  },
  "language_info": {
   "codemirror_mode": {
    "name": "ipython",
    "version": 3
   },
   "file_extension": ".py",
   "mimetype": "text/x-python",
   "name": "python",
   "nbconvert_exporter": "python",
   "pygments_lexer": "ipython3",
   "version": "3.7.0"
  }
 },
 "nbformat": 4,
 "nbformat_minor": 2
}
