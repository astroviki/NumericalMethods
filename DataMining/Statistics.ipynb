{
 "cells": [
  {
   "cell_type": "code",
   "execution_count": 1,
   "metadata": {},
   "outputs": [
    {
     "ename": "ModuleNotFoundError",
     "evalue": "No module named 'pyts.bow'",
     "output_type": "error",
     "traceback": [
      "\u001b[1;31m---------------------------------------------------------------------------\u001b[0m",
      "\u001b[1;31mModuleNotFoundError\u001b[0m                       Traceback (most recent call last)",
      "\u001b[1;32m<ipython-input-1-9c48ba73c119>\u001b[0m in \u001b[0;36m<module>\u001b[1;34m\u001b[0m\n\u001b[0;32m      6\u001b[0m \u001b[1;33m\u001b[0m\u001b[0m\n\u001b[0;32m      7\u001b[0m \u001b[1;32mfrom\u001b[0m \u001b[0mastropy\u001b[0m\u001b[1;33m.\u001b[0m\u001b[0mio\u001b[0m \u001b[1;32mimport\u001b[0m \u001b[0mascii\u001b[0m\u001b[1;33m\u001b[0m\u001b[0m\n\u001b[1;32m----> 8\u001b[1;33m \u001b[1;32mfrom\u001b[0m \u001b[0mpyts\u001b[0m\u001b[1;33m.\u001b[0m\u001b[0mbow\u001b[0m \u001b[1;32mimport\u001b[0m \u001b[0mBOW\u001b[0m\u001b[1;33m\u001b[0m\u001b[0m\n\u001b[0m\u001b[0;32m      9\u001b[0m \u001b[1;32mfrom\u001b[0m \u001b[0mpyts\u001b[0m\u001b[1;33m.\u001b[0m\u001b[0mapproximation\u001b[0m \u001b[1;32mimport\u001b[0m \u001b[0mPAA\u001b[0m\u001b[1;33m\u001b[0m\u001b[0m\n\u001b[0;32m     10\u001b[0m \u001b[1;32mfrom\u001b[0m \u001b[0mpyts\u001b[0m\u001b[1;33m.\u001b[0m\u001b[0mclassification\u001b[0m \u001b[1;32mimport\u001b[0m \u001b[0mSAXVSMClassifier\u001b[0m\u001b[1;33m\u001b[0m\u001b[0m\n",
      "\u001b[1;31mModuleNotFoundError\u001b[0m: No module named 'pyts.bow'"
     ]
    }
   ],
   "source": [
    "%matplotlib inline\n",
    "import numpy as np\n",
    "import numpy.ma as ma\n",
    "import matplotlib.pylab as plt\n",
    "plt.style.use('seaborn-white')\n",
    "\n",
    "from astropy.io import ascii\n",
    "from pyts.bow import BOW\n",
    "from pyts.approximation import PAA\n",
    "from pyts.classification import SAXVSMClassifier\n",
    "from pyts.quantization import SAX\n",
    "from pyts.preprocessing import StandardScaler"
   ]
  },
  {
   "cell_type": "code",
   "execution_count": 2,
   "metadata": {},
   "outputs": [],
   "source": [
    "class LightCurve():\n",
    "    def __init__(self,filename,info):\n",
    "        self.filename = filename\n",
    "        self.info = info\n",
    "        self.lightcurve=None\n",
    "        self.lc_table = None\n",
    "        \n",
    "    def _load_ogle(self):\n",
    "        names = [\"HJD\",\"mag\",\"error\"]\n",
    "        data = ascii.read(self.filename, data_start=2, delimiter=' ', format='csv', names=names)\n",
    "        return data\n",
    "    \n",
    "    def _load_ogle2(self):\n",
    "        names = [\"HJD\",\"mag\",\"error\",\"points\",\"flag\"]\n",
    "        data = ascii.read(self.filename, data_start=2, delimiter=' ', format='csv', names=names)\n",
    "        data[\"HJD\"]=data[\"HJD\"]-2400000.0\n",
    "        return data\n",
    "    \n",
    "    def _load_ogle_nami(self):\n",
    "        names = [\"HJD\",\"mag\",\"error\",\"points\",\"number\",\"flag\",\"logical\",\"mag_nami\"]\n",
    "        data = ascii.read(self.filename, data_start=1, delimiter=' ',names = names)\n",
    "        data[\"HJD\"]=data[\"HJD\"]-2400000.0\n",
    "        return data\n",
    "    \n",
    "    def _remove_outliers(data):\n",
    "        raw_number_outliers,raw_outliers = pyasl.generalizedESD(data[\"mag\"],4,0.15)\n",
    "\n",
    "        mask = np.zeros(np.size(data[\"mag\"]))\n",
    "        mask[raw_outliers] = 1\n",
    "\n",
    "        ma_array = ma.array(data[\"mag\"], mask = mask)\n",
    "        masked_data = data[~ma_array.mask,:]\n",
    "        return masked_data\n",
    "    \n",
    "    def loader(self):\n",
    "        if self.info[\"Survey\"]==\"OGLE\":\n",
    "            data = self._load_ogle()\n",
    "        if self.info[\"Survey\"]==\"OGLEII\":\n",
    "            data = self._load_ogle2()\n",
    "        if self.info[\"Survey\"]==\"OGLENAMI\":\n",
    "            data = self._load_ogle_nami()\n",
    "        self.lc_table = data.to_pandas()\n",
    "        return data\n",
    "    \n",
    "    def envelope(self):\n",
    "        params={\"span\": 0.2, \"npoints\": 400}\n",
    "        self.envelope_table = env.envelope(self.lc_table,params=params)\n",
    "        return \n",
    "    \n",
    "    "
   ]
  },
  {
   "cell_type": "code",
   "execution_count": 3,
   "metadata": {},
   "outputs": [],
   "source": [
    "import envelope as env\n",
    "\n",
    "name = './lmc_sc10_i_199435.dat'\n",
    "info = {\"Survey\": 'OGLENAMI'}\n",
    "lightcurve = LightCurve(name,info)\n",
    "lightcurve.loader()\n",
    "lightcurve.envelope()"
   ]
  },
  {
   "cell_type": "code",
   "execution_count": 4,
   "metadata": {},
   "outputs": [
    {
     "name": "stdout",
     "output_type": "stream",
     "text": [
      "              HJD        mag\n",
      "0    50459.700670  16.367694\n",
      "1    50463.242165  16.368123\n",
      "2    50466.783661  16.368536\n",
      "3    50470.325156  16.368929\n",
      "4    50473.866651  16.369298\n",
      "5    50477.408147  16.369656\n",
      "6    50480.949642  16.370003\n",
      "7    50484.491138  16.370338\n",
      "8    50488.032633  16.370660\n",
      "9    50491.574128  16.370968\n",
      "10   50495.115624  16.371259\n",
      "11   50498.657119  16.371533\n",
      "12   50502.198614  16.371794\n",
      "13   50505.740110  16.372043\n",
      "14   50509.281605  16.372284\n",
      "15   50512.823100  16.372518\n",
      "16   50516.364596  16.372738\n",
      "17   50519.906091  16.372935\n",
      "18   50523.447587  16.373111\n",
      "19   50526.989082  16.373267\n",
      "20   50530.530577  16.373405\n",
      "21   50534.072073  16.373526\n",
      "22   50537.613568  16.373632\n",
      "23   50541.155063  16.373724\n",
      "24   50544.696559  16.373803\n",
      "25   50548.238054  16.373871\n",
      "26   50551.779549  16.373930\n",
      "27   50555.321045  16.373979\n",
      "28   50558.862540  16.374022\n",
      "29   50562.404036  16.374060\n",
      "..            ...        ...\n",
      "370  51770.053954  16.339978\n",
      "371  51773.595450  16.341068\n",
      "372  51777.136945  16.342133\n",
      "373  51780.678441  16.343174\n",
      "374  51784.219936  16.344190\n",
      "375  51787.761431  16.345181\n",
      "376  51791.302927  16.346149\n",
      "377  51794.844422  16.347093\n",
      "378  51798.385917  16.348013\n",
      "379  51801.927413  16.348909\n",
      "380  51805.468908  16.349781\n",
      "381  51809.010403  16.350631\n",
      "382  51812.551899  16.351456\n",
      "383  51816.093394  16.352259\n",
      "384  51819.634890  16.353038\n",
      "385  51823.176385  16.353795\n",
      "386  51826.717880  16.354528\n",
      "387  51830.259376  16.355239\n",
      "388  51833.800871  16.355928\n",
      "389  51837.342366  16.356594\n",
      "390  51840.883862  16.357238\n",
      "391  51844.425357  16.357859\n",
      "392  51847.966852  16.358460\n",
      "393  51851.508348  16.359039\n",
      "394  51855.049843  16.359598\n",
      "395  51858.591339  16.360135\n",
      "396  51862.132834  16.360650\n",
      "397  51865.674329  16.361142\n",
      "398  51869.215825  16.361611\n",
      "399  51872.757320  16.362058\n",
      "\n",
      "[400 rows x 2 columns]\n"
     ]
    }
   ],
   "source": [
    "print lightcurve.envelope_table"
   ]
  },
  {
   "cell_type": "code",
   "execution_count": 5,
   "metadata": {},
   "outputs": [],
   "source": [
    "import os\n",
    "import ipywidgets as widgets\n",
    "from sqlalchemy import *\n",
    "from IPython.display import display"
   ]
  },
  {
   "cell_type": "code",
   "execution_count": 6,
   "metadata": {},
   "outputs": [
    {
     "data": {
      "application/vnd.jupyter.widget-view+json": {
       "model_id": "46fc6047665449868c9bbf2b6d1d353a",
       "version_major": 2,
       "version_minor": 0
      },
      "text/plain": [
       "FloatProgress(value=0.0, description=u'Analysis', max=2446.0)"
      ]
     },
     "metadata": {},
     "output_type": "display_data"
    },
    {
     "ename": "TypeError",
     "evalue": "__init__() takes exactly 3 arguments (1 given)",
     "output_type": "error",
     "traceback": [
      "\u001b[0;31m---------------------------------------------------------------------------\u001b[0m",
      "\u001b[0;31mTypeError\u001b[0m                                 Traceback (most recent call last)",
      "\u001b[0;32m<ipython-input-6-532dab2b1e18>\u001b[0m in \u001b[0;36m<module>\u001b[0;34m()\u001b[0m\n\u001b[1;32m     15\u001b[0m \u001b[0;34m\u001b[0m\u001b[0m\n\u001b[1;32m     16\u001b[0m \u001b[0mid\u001b[0m \u001b[0;34m=\u001b[0m \u001b[0;36m0\u001b[0m\u001b[0;34m\u001b[0m\u001b[0m\n\u001b[0;32m---> 17\u001b[0;31m \u001b[0mlightcurve\u001b[0m \u001b[0;34m=\u001b[0m \u001b[0mLightCurve\u001b[0m\u001b[0;34m(\u001b[0m\u001b[0;34m)\u001b[0m\u001b[0;34m\u001b[0m\u001b[0m\n\u001b[0m\u001b[1;32m     18\u001b[0m \u001b[0ma\u001b[0m \u001b[0;34m=\u001b[0m \u001b[0mFATS\u001b[0m\u001b[0;34m.\u001b[0m\u001b[0mFeatureSpace\u001b[0m\u001b[0;34m(\u001b[0m\u001b[0mfeatureList\u001b[0m\u001b[0;34m=\u001b[0m\u001b[0;34m[\u001b[0m\u001b[0;34m'Skew'\u001b[0m \u001b[0;34m]\u001b[0m\u001b[0;34m)\u001b[0m\u001b[0;34m\u001b[0m\u001b[0m\n\u001b[1;32m     19\u001b[0m \u001b[0merror_count\u001b[0m \u001b[0;34m=\u001b[0m \u001b[0;36m0\u001b[0m\u001b[0;34m\u001b[0m\u001b[0m\n",
      "\u001b[0;31mTypeError\u001b[0m: __init__() takes exactly 3 arguments (1 given)"
     ]
    }
   ],
   "source": [
    "from sklearn import preprocessing\n",
    "import FATS\n",
    "\n",
    "f = widgets.FloatProgress(min=0, max=2446,description='Analysis')\n",
    "display(f)\n",
    "\n",
    "engine = create_engine('sqlite:///BeStarsCatalog.db')\n",
    "metadata = MetaData()\n",
    "metadata.reflect(bind=engine)\n",
    "zebrun = metadata.tables['Zebrun']\n",
    "\n",
    "conn = engine.connect()\n",
    "selection = select([zebrun])\n",
    "result = conn.execute(selection).fetchall()\n",
    "\n",
    "id = 0\n",
    "lightcurve = LightCurve()\n",
    "a = FATS.FeatureSpace(featureList=['Skew' ])\n",
    "error_count = 0\n",
    "\n",
    "skewness = []\n",
    "\n",
    "for counter,row in enumerate(result):\n",
    "        id += 1\n",
    "        zebrunname = str(row['OGLE'])\n",
    "        filename =  'OGLE'+zebrunname+'.dat'\n",
    "        name = './ZebrunSource/LMC/'+filename\n",
    "        info = {\"Filename\": name, \"Survey\": 'OGLE'}\n",
    "        \n",
    "        try:\n",
    "            lightcurve.loader(info)\n",
    "            lightcurve.envelope()\n",
    "            lc = lightcurve.lc_table\n",
    "            a.calculateFeature(np.array([lightcurve.envelope_table[\"mag\"],lightcurve.envelope_table[\"HJD\"]]))\n",
    "            skewness = a.result()\n",
    "        except:\n",
    "            error_count +=1\n",
    "            print('%s missing light curve - %d' % (filename,counter))\n",
    "\n",
    "        fig = plt.figure()\n",
    "        ax = fig.add_subplot(1,1,1)\n",
    "        plt.title(filename)\n",
    "        plt.xlabel('mag')\n",
    "        plt.ylabel('HJD')\n",
    "        skew_label = \"Sk: %.3f\" % float(skewness[0])\n",
    "        plt.text(0.1, 0.8,skew_label, horizontalalignment='center',verticalalignment='center', transform=ax.transAxes)\n",
    "        plt.plot(lc[\"HJD\"],lc[\"mag\"],'b.')\n",
    "        plt.plot(lightcurve.envelope_table[\"HJD\"],lightcurve.envelope_table[\"mag\"],'r-')\n",
    "        figname = './ZebrunSource/LMC/'+filename.replace('dat','png')\n",
    "        \n",
    "        plt.savefig(figname,format=\"png\")\n",
    "        f.value=counter\n",
    "        print(\"%s %.3f %d\" % (filename,float(skewness),counter))"
   ]
  },
  {
   "cell_type": "markdown",
   "metadata": {},
   "source": [
    "Test of three light curves with different profiles. Comparison of skewness values *Sk*\n",
    "(symmetry/asymmetry of light curve points distribution). With the help of python library [*FATS*](http://isadoranun.github.io/tsfeat/FeaturesDocumentation.html) it is very easy. Envelope of light curve is unnormalized, but *FATS* library automatically normalize data."
   ]
  },
  {
   "cell_type": "code",
   "execution_count": 7,
   "metadata": {},
   "outputs": [
    {
     "name": "stderr",
     "output_type": "stream",
     "text": [
      "/home/viktor/Envs/besax/local/lib/python2.7/site-packages/sklearn/utils/validation.py:475: DataConversionWarning: Data with input dtype int64 was converted to float64 by the scale function.\n",
      "  warnings.warn(msg, DataConversionWarning)\n",
      "/home/viktor/Envs/besax/local/lib/python2.7/site-packages/sklearn/utils/validation.py:475: DataConversionWarning: Data with input dtype int64 was converted to float64 by the scale function.\n",
      "  warnings.warn(msg, DataConversionWarning)\n",
      "/home/viktor/Envs/besax/local/lib/python2.7/site-packages/sklearn/utils/validation.py:475: DataConversionWarning: Data with input dtype int64 was converted to float64 by the scale function.\n",
      "  warnings.warn(msg, DataConversionWarning)\n"
     ]
    }
   ],
   "source": [
    "import scipy.stats as st\n",
    "from sklearn import preprocessing\n",
    "import FATS\n",
    "a = FATS.FeatureSpace(featureList=['Skew' ])\n",
    "\n",
    "name = './ZebrunSource/LMC/'\n",
    "examples = ['OGLE05070900-7001007.dat','OGLE05072801-6823515.dat','OGLE05013451-6907575.dat']\n",
    "info = {\"Survey\": 'OGLE'}\n",
    "\n",
    "skewness_envelopes = []\n",
    "curtosis_envelopes = []\n",
    "params={\"span\": 0.2, \"npoints\": 400}\n",
    "\n",
    "examples_lcs = []\n",
    "width_correction = 0.9\n",
    "\n",
    "envelope_histogram={}\n",
    "envelope_histogram[\"x\"]=[]\n",
    "envelope_histogram[\"y\"]=[]\n",
    "\n",
    "width = []\n",
    "\n",
    "for example in examples:\n",
    "    filename = name+example\n",
    "    buffer_lc = LightCurve(filename,info)\n",
    "    lc = buffer_lc.loader().to_pandas()\n",
    "    buffer_lc.envelope()\n",
    "    examples_lcs.append(buffer_lc.envelope_table)\n",
    "    curtosis_envelopes.append(st.kurtosis(np.array(buffer_lc.envelope_table[\"mag\"])))\n",
    "    a.calculateFeature(np.array([buffer_lc.envelope_table[\"mag\"],buffer_lc.envelope_table[\"HJD\"]]))\n",
    "    skewness = a.result()\n",
    "    \n",
    "    histogram = np.histogram(buffer_lc.envelope_table[\"mag\"],bins=12)\n",
    "    histogram_norm  = preprocessing.scale(histogram[0])\n",
    "    histogram_x = histogram[1]\n",
    "    centers = (histogram_x[1:]+histogram_x[:-1])*0.5\n",
    "    \n",
    "    envelope_histogram[\"y\"].append(histogram_norm)\n",
    "    envelope_histogram[\"x\"].append(centers)\n",
    "    \n",
    "    bin_size = (centers[0]-centers[1])\n",
    "    width.append(bin_size*width_correction)\n",
    "    \n",
    "    skewness_envelopes.append(skewness)\n"
   ]
  },
  {
   "cell_type": "markdown",
   "metadata": {},
   "source": [
    "Visualization of selected light curves with different profiles and skewness values. It is clear, that skewness value does not contain direct information about profile of the light curve and thus light curves with the close skewness values does not not mean similiraity their profiles necessarily."
   ]
  },
  {
   "cell_type": "code",
   "execution_count": 9,
   "metadata": {},
   "outputs": [
    {
     "data": {
      "image/png": "[encoded data removed]",
      "text/plain": [
       "<Figure size 1080x216 with 3 Axes>"
      ]
     },
     "metadata": {},
     "output_type": "display_data"
    }
   ],
   "source": [
    "fig, ax = plt.subplots(1, 3,figsize=(15,3))\n",
    "\n",
    "#LMC SC12 163324 - OGLE05070900-7001007\n",
    "ax[0].set_title('OGLE05070900-7001007')\n",
    "ax[0].set_xlabel('HJD [days]')\n",
    "ax[0].set_ylabel('Magnitudes [mag]')\n",
    "\n",
    "Sk = 'Sk = %.2f' % (skewness_envelopes[0])\n",
    "Ku = 'Ku = %.2f' % (curtosis_envelopes[0])\n",
    "\n",
    "ax[0].text(0.2,0.2,Sk,transform=ax[0].transAxes,\n",
    "           fontsize=13, ha='center')\n",
    "ax[0].text(0.2,0.1,Ku,transform=ax[0].transAxes,\n",
    "           fontsize=13, ha='center')\n",
    "\n",
    "ax[0].plot(examples_lcs[0][\"HJD\"],examples_lcs[0][\"mag\"])\n",
    "\n",
    "#LMC SC13 264415 - OGLE05072801-6823515\n",
    "ax[1].set_title('OGLE05072801-6823515')\n",
    "ax[1].set_xlabel('HJD [days]')\n",
    "ax[1].set_ylabel('Magnitudes [mag]')\n",
    "\n",
    "Sk = 'Sk = %.2f' % (skewness_envelopes[1])\n",
    "Ku = 'Ku = %.2f' % (curtosis_envelopes[1])\n",
    "\n",
    "ax[1].text(1.4,0.2,Sk,transform=ax[0].transAxes,\n",
    "           fontsize=13, ha='center')\n",
    "ax[1].text(1.4,0.1,Ku,transform=ax[0].transAxes,\n",
    "           fontsize=13, ha='center')\n",
    "ax[1].plot(examples_lcs[1][\"HJD\"],examples_lcs[1][\"mag\"])\n",
    "\n",
    "#LMC SC15 137470 - OGLE05013451-6907575\n",
    "ax[2].set_title('OGLE05013451-6907575')\n",
    "ax[2].set_xlabel('HJD [days]')\n",
    "ax[2].set_ylabel('Magnitudes [mag]')\n",
    "\n",
    "Sk = 'Sk = %.2f' % (skewness_envelopes[2])\n",
    "Ku = 'Ku = %.2f' % (curtosis_envelopes[2])\n",
    "ax[2].text(2.6,0.2,Sk,transform=ax[0].transAxes,\n",
    "           fontsize=13, ha='center')\n",
    "ax[2].text(2.6,0.1,Ku,transform=ax[0].transAxes,\n",
    "           fontsize=13, ha='center')\n",
    "\n",
    "ax[2].plot(examples_lcs[2][\"HJD\"],examples_lcs[2][\"mag\"])\n",
    "plt.savefig(\"A1envelope.pdf\")"
   ]
  },
  {
   "cell_type": "code",
   "execution_count": 27,
   "metadata": {},
   "outputs": [
    {
     "data": {
      "image/png": "[encoded data removed]",
      "text/plain": [
       "<Figure size 1080x216 with 3 Axes>"
      ]
     },
     "metadata": {},
     "output_type": "display_data"
    }
   ],
   "source": [
    "fig, ax = plt.subplots(1, 3,figsize=(15,3))\n",
    "\n",
    "\n",
    "ax[0].set_title('Histogram')\n",
    "ax[0].set_xlabel('Magnitudes')\n",
    "ax[0].set_ylabel('Normalized counts')\n",
    "ax[0].bar(envelope_histogram[\"x\"][0],envelope_histogram[\"y\"][0],width[0],align='center')\n",
    "\n",
    "ax[1].set_title('Histogram')\n",
    "ax[1].set_xlabel('Magnitudes')\n",
    "ax[1].set_ylabel('Normalized counts')\n",
    "ax[1].bar(envelope_histogram[\"x\"][1],envelope_histogram[\"y\"][1],width[1],align='center')\n",
    "\n",
    "ax[2].set_title('Histogram')\n",
    "ax[2].set_xlabel('Magnitudes')\n",
    "ax[2].set_ylabel('Normalized counts')\n",
    "ax[2].bar(envelope_histogram[\"x\"][2],envelope_histogram[\"y\"][2],width[2],align='center')\n",
    "\n",
    "plt.savefig(\"A1histograms.pdf\")"
   ]
  },
  {
   "cell_type": "code",
   "execution_count": null,
   "metadata": {},
   "outputs": [],
   "source": []
  }
 ],
 "metadata": {
  "kernelspec": {
   "display_name": "Python 3",
   "language": "python",
   "name": "python3"
  },
  "language_info": {
   "codemirror_mode": {
    "name": "ipython",
    "version": 3
   },
   "file_extension": ".py",
   "mimetype": "text/x-python",
   "name": "python",
   "nbconvert_exporter": "python",
   "pygments_lexer": "ipython3",
   "version": "3.7.0"
  }
 },
 "nbformat": 4,
 "nbformat_minor": 2
}
