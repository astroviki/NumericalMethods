{
  "nbformat": 4,
  "nbformat_minor": 0,
  "metadata": {
    "colab": {
      "name": "ForestDynamics.ipynb",
      "provenance": [],
      "authorship_tag": "ABX9TyM2JopSEqyWHXWrwSjBRD8Q",
      "include_colab_link": true
    },
    "kernelspec": {
      "name": "python3",
      "display_name": "Python 3"
    },
    "language_info": {
      "name": "python"
    }
  },
  "cells": [
    {
      "cell_type": "markdown",
      "metadata": {
        "id": "view-in-github",
        "colab_type": "text"
      },
      "source": [
        "<a href=\"https://colab.research.google.com/github/astroviki/NumericalMethods/blob/main/ForestDynamics.ipynb\" target=\"_parent\"><img src=\"https://colab.research.google.com/assets/colab-badge.svg\" alt=\"Open In Colab\"/></a>"
      ]
    },
    {
      "cell_type": "code",
      "metadata": {
        "id": "gNMPFJZDlDc5"
      },
      "source": [
        "import numpy as np"
      ],
      "execution_count": null,
      "outputs": []
    },
    {
      "cell_type": "markdown",
      "metadata": {
        "id": "LvYzgLjjlJ3A"
      },
      "source": [
        "# Dynamické modelování populace kůrovce \n",
        "\n",
        "Základní literatura\n",
        "\n",
        "\n",
        "*   **A simple population model for bark beetles providing general guidelines for the application of aggregation and anti-aggregation pheromones**, Holartic Ecology 12, 395-407, Copenhagen 1989\n",
        "*   **Population dynamics in changing environments: the case of an eruptive forest pest species**, Biological Reviews (2012), 87, pp. 34-51\n",
        "\n",
        "\n",
        "---\n",
        "\n",
        "Z hlediska modelů se můžeme na celý problém dívat ze dvou základních úhlů pohledu, konkrétně\n",
        "\n",
        "1.   Lokální přístup, kdy modelujeme problematiku kůrovce z pohledu jednotlivého stromu\n",
        "2.   Globální přístup, kdy modelujeme problematiku napadení z pohledu celého lesa\n",
        "\n",
        "*Lokální přístup* je důležitý k pochopení komplexního mechanismu svazujícího životní cyklus kůrovce se stavem napadeného stromu.\n",
        "\n",
        "*Globální přístup* nám umožňuje modelovat vývoj populace kůrovce resp. stav lesa v závislosti na čase v dané studované oblasti. Tyto modely pak lze statisticky srovnávat s experimentálními daty naměřenými v terénu. Nejlépe vyhovující modely pak mohou sloužit i pro predikci vývoje kůrovce v dalších rocích.\n",
        "\n",
        "\n",
        "\n"
      ]
    },
    {
      "cell_type": "markdown",
      "metadata": {
        "id": "OnXGphAgCjPG"
      },
      "source": [
        "# Diskrétní model populace kůrovce v lese \n",
        "\n",
        "Modely vychází především z článku Stenseth (1989). Diskrétní model znamená, že vývoj stavu populace kůrovce bude sledován v časově diskrétních krocích, například po jednotlivých rocích. Schématicky si můžeme celý proces v daném roce shrnout do několika fází z hlediska vývoje kůrovce. \n",
        "\n",
        "\n",
        "*   **Počateční stav populace** - je dán počtem kůrovců, kteří přečkali zimu (přezimovali). Je menší, maximálně stejně velký, než počet kůrovců na konci roku předchozího (ne všichni přezimující kůrovci přežijí)\n",
        "*   **Napadení hostitele**  - je dán počtem kůrovců, kteří parazitují na stromech (hostitel)\n",
        "*   **Vývoj nové generace** - nově vzniklá populace kůrovců, která se rozmnožila z populace parazitujících kůrovců. Stará generace zaniká.\n",
        "*   **Přezimování** - část nové populace, která přezimuje do nového roku a stane se tak základem pro nový cyklus.\n",
        "\n",
        "## Počáteční stav populace\n",
        "\\begin{equation}\n",
        "N_{\\rm t+1} = R(N_{\\rm t})N_{\\rm t}\n",
        "\\end{equation}\n",
        "$N_{\\rm t+1}$ je hustota kůrovce na jednotku plochy lesa v novém roce  a $N_{\\rm t}$ je hustota kůrovce na jednotku plochy lesa na začátku roku. Funkce $R(t)$ udává změnu v populaci kůrovce za jeden rok. Tato, obecně velmi komplexní funkce, popisuje změny v populaci v důsledku jednotlivých fází vývoje kůrovce (napadení hostitele, obranu hostitele, rozmnožení kůrovce apod.)\n",
        "\n",
        "## Parazitující populace\n",
        "\n",
        "\\begin{equation}\n",
        "A_{\\rm t} = P_{\\rm parazit}(N_{\\rm t},H_{\\rm t})N_{\\rm t}\n",
        "\\end{equation}\n",
        "\n",
        "## Vývoj nové generace\n",
        "\n",
        "\\begin{equation}\n",
        "E_{\\rm t} = P_{\\rm rozmnožování}\\left(\\frac{A_{\\rm t}}{H_t}\\right)A_{\\rm t}\n",
        "\\end{equation}\n",
        "\n",
        "Zlomek $A_{\\rm t}/H_{\\rm t}$ vyjadřuje hustotu kůrovce vztažená na jednotku plochy lesa."
      ]
    }
  ]
}