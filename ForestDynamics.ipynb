{
  "nbformat": 4,
  "nbformat_minor": 0,
  "metadata": {
    "colab": {
      "name": "ForestDynamics.ipynb",
      "provenance": [],
      "authorship_tag": "ABX9TyOlMjt0Q+vp8URMxXRFjw0A",
      "include_colab_link": true
    },
    "kernelspec": {
      "name": "python3",
      "display_name": "Python 3"
    },
    "language_info": {
      "name": "python"
    }
  },
  "cells": [
    {
      "cell_type": "markdown",
      "metadata": {
        "id": "view-in-github",
        "colab_type": "text"
      },
      "source": [
        "<a href=\"https://colab.research.google.com/github/astroviki/NumericalMethods/blob/main/ForestDynamics.ipynb\" target=\"_parent\"><img src=\"https://colab.research.google.com/assets/colab-badge.svg\" alt=\"Open In Colab\"/></a>"
      ]
    },
    {
      "cell_type": "code",
      "metadata": {
        "id": "gNMPFJZDlDc5"
      },
      "source": [
        "import numpy as np"
      ],
      "execution_count": null,
      "outputs": []
    },
    {
      "cell_type": "markdown",
      "metadata": {
        "id": "LvYzgLjjlJ3A"
      },
      "source": [
        "# Dynamické modelování populace kůrovce \n",
        "\n",
        "Základní literatura\n",
        "\n",
        "\n",
        "*   **A simple population model for bark beetles providing general guidelines for the application of aggregation and anti-aggregation pheromones**, Holartic Ecology 12, 395-407, Copenhagen 1989\n",
        "*   **Population dynamics in changing environments: the case of an eruptive forest pest species**, Biological Reviews (2012), 87, pp. 34-51\n",
        "\n",
        "\n",
        "---\n",
        "\n",
        "Z hlediska modelů se můžeme na celý problém dívat ze dvou základních úhlů pohledu, konkrétně\n",
        "\n",
        "1.   Lokální přístup, kdy modelujeme problematiku kůrovce z pohledu jednotlivého stromu\n",
        "2.   Globální přístup, kdy modelujeme problematiku napadení z pohledu celého lesa\n",
        "\n",
        "*Lokální přístup* je důležitý k pochopení komplexního mechanismu svazujícího životní cyklus kůrovce se stavem napadeného stromu.\n",
        "\n",
        "*Globální přístup* nám umožňuje modelovat vývoj populace kůrovce resp. stav lesa v závislosti na čase v dané studované oblasti. Tyto modely pak lze statisticky srovnávat s experimentálními daty naměřenými v terénu. Nejlépe vyhovující modely pak mohou sloužit i pro predikci vývoje kůrovce v dalších rocích.\n",
        "\n",
        "\n",
        "\n"
      ]
    }
  ]
}