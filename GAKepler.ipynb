{
  "nbformat": 4,
  "nbformat_minor": 0,
  "metadata": {
    "colab": {
      "name": "GAKepler.ipynb",
      "provenance": [],
      "collapsed_sections": [],
      "authorship_tag": "ABX9TyM8hgHF8+J19AlDa8HUs6ph",
      "include_colab_link": true
    },
    "kernelspec": {
      "name": "python3",
      "display_name": "Python 3"
    },
    "language_info": {
      "name": "python"
    }
  },
  "cells": [
    {
      "cell_type": "markdown",
      "metadata": {
        "id": "view-in-github",
        "colab_type": "text"
      },
      "source": [
        "<a href=\"https://colab.research.google.com/github/astroviki/NumericalMethods/blob/main/GAKepler.ipynb\" target=\"_parent\"><img src=\"https://colab.research.google.com/assets/colab-badge.svg\" alt=\"Open In Colab\"/></a>"
      ]
    },
    {
      "cell_type": "code",
      "metadata": {
        "colab": {
          "resources": {
            "http://localhost:8080/nbextensions/google.colab/files.js": {
              "data": "Ly8gQ29weXJpZ2h0IDIwMTcgR29vZ2xlIExMQwovLwovLyBMaWNlbnNlZCB1bmRlciB0aGUgQXBhY2hlIExpY2Vuc2UsIFZlcnNpb24gMi4wICh0aGUgIkxpY2Vuc2UiKTsKLy8geW91IG1heSBub3QgdXNlIHRoaXMgZmlsZSBleGNlcHQgaW4gY29tcGxpYW5jZSB3aXRoIHRoZSBMaWNlbnNlLgovLyBZb3UgbWF5IG9idGFpbiBhIGNvcHkgb2YgdGhlIExpY2Vuc2UgYXQKLy8KLy8gICAgICBodHRwOi8vd3d3LmFwYWNoZS5vcmcvbGljZW5zZXMvTElDRU5TRS0yLjAKLy8KLy8gVW5sZXNzIHJlcXVpcmVkIGJ5IGFwcGxpY2FibGUgbGF3IG9yIGFncmVlZCB0byBpbiB3cml0aW5nLCBzb2Z0d2FyZQovLyBkaXN0cmlidXRlZCB1bmRlciB0aGUgTGljZW5zZSBpcyBkaXN0cmlidXRlZCBvbiBhbiAiQVMgSVMiIEJBU0lTLAovLyBXSVRIT1VUIFdBUlJBTlRJRVMgT1IgQ09ORElUSU9OUyBPRiBBTlkgS0lORCwgZWl0aGVyIGV4cHJlc3Mgb3IgaW1wbGllZC4KLy8gU2VlIHRoZSBMaWNlbnNlIGZvciB0aGUgc3BlY2lmaWMgbGFuZ3VhZ2UgZ292ZXJuaW5nIHBlcm1pc3Npb25zIGFuZAovLyBsaW1pdGF0aW9ucyB1bmRlciB0aGUgTGljZW5zZS4KCi8qKgogKiBAZmlsZW92ZXJ2aWV3IEhlbHBlcnMgZm9yIGdvb2dsZS5jb2xhYiBQeXRob24gbW9kdWxlLgogKi8KKGZ1bmN0aW9uKHNjb3BlKSB7CmZ1bmN0aW9uIHNwYW4odGV4dCwgc3R5bGVBdHRyaWJ1dGVzID0ge30pIHsKICBjb25zdCBlbGVtZW50ID0gZG9jdW1lbnQuY3JlYXRlRWxlbWVudCgnc3BhbicpOwogIGVsZW1lbnQudGV4dENvbnRlbnQgPSB0ZXh0OwogIGZvciAoY29uc3Qga2V5IG9mIE9iamVjdC5rZXlzKHN0eWxlQXR0cmlidXRlcykpIHsKICAgIGVsZW1lbnQuc3R5bGVba2V5XSA9IHN0eWxlQXR0cmlidXRlc1trZXldOwogIH0KICByZXR1cm4gZWxlbWVudDsKfQoKLy8gTWF4IG51bWJlciBvZiBieXRlcyB3aGljaCB3aWxsIGJlIHVwbG9hZGVkIGF0IGEgdGltZS4KY29uc3QgTUFYX1BBWUxPQURfU0laRSA9IDEwMCAqIDEwMjQ7CgpmdW5jdGlvbiBfdXBsb2FkRmlsZXMoaW5wdXRJZCwgb3V0cHV0SWQpIHsKICBjb25zdCBzdGVwcyA9IHVwbG9hZEZpbGVzU3RlcChpbnB1dElkLCBvdXRwdXRJZCk7CiAgY29uc3Qgb3V0cHV0RWxlbWVudCA9IGRvY3VtZW50LmdldEVsZW1lbnRCeUlkKG91dHB1dElkKTsKICAvLyBDYWNoZSBzdGVwcyBvbiB0aGUgb3V0cHV0RWxlbWVudCB0byBtYWtlIGl0IGF2YWlsYWJsZSBmb3IgdGhlIG5leHQgY2FsbAogIC8vIHRvIHVwbG9hZEZpbGVzQ29udGludWUgZnJvbSBQeXRob24uCiAgb3V0cHV0RWxlbWVudC5zdGVwcyA9IHN0ZXBzOwoKICByZXR1cm4gX3VwbG9hZEZpbGVzQ29udGludWUob3V0cHV0SWQpOwp9CgovLyBUaGlzIGlzIHJvdWdobHkgYW4gYXN5bmMgZ2VuZXJhdG9yIChub3Qgc3VwcG9ydGVkIGluIHRoZSBicm93c2VyIHlldCksCi8vIHdoZXJlIHRoZXJlIGFyZSBtdWx0aXBsZSBhc3luY2hyb25vdXMgc3RlcHMgYW5kIHRoZSBQeXRob24gc2lkZSBpcyBnb2luZwovLyB0byBwb2xsIGZvciBjb21wbGV0aW9uIG9mIGVhY2ggc3RlcC4KLy8gVGhpcyB1c2VzIGEgUHJvbWlzZSB0byBibG9jayB0aGUgcHl0aG9uIHNpZGUgb24gY29tcGxldGlvbiBvZiBlYWNoIHN0ZXAsCi8vIHRoZW4gcGFzc2VzIHRoZSByZXN1bHQgb2YgdGhlIHByZXZpb3VzIHN0ZXAgYXMgdGhlIGlucHV0IHRvIHRoZSBuZXh0IHN0ZXAuCmZ1bmN0aW9uIF91cGxvYWRGaWxlc0NvbnRpbnVlKG91dHB1dElkKSB7CiAgY29uc3Qgb3V0cHV0RWxlbWVudCA9IGRvY3VtZW50LmdldEVsZW1lbnRCeUlkKG91dHB1dElkKTsKICBjb25zdCBzdGVwcyA9IG91dHB1dEVsZW1lbnQuc3RlcHM7CgogIGNvbnN0IG5leHQgPSBzdGVwcy5uZXh0KG91dHB1dEVsZW1lbnQubGFzdFByb21pc2VWYWx1ZSk7CiAgcmV0dXJuIFByb21pc2UucmVzb2x2ZShuZXh0LnZhbHVlLnByb21pc2UpLnRoZW4oKHZhbHVlKSA9PiB7CiAgICAvLyBDYWNoZSB0aGUgbGFzdCBwcm9taXNlIHZhbHVlIHRvIG1ha2UgaXQgYXZhaWxhYmxlIHRvIHRoZSBuZXh0CiAgICAvLyBzdGVwIG9mIHRoZSBnZW5lcmF0b3IuCiAgICBvdXRwdXRFbGVtZW50Lmxhc3RQcm9taXNlVmFsdWUgPSB2YWx1ZTsKICAgIHJldHVybiBuZXh0LnZhbHVlLnJlc3BvbnNlOwogIH0pOwp9CgovKioKICogR2VuZXJhdG9yIGZ1bmN0aW9uIHdoaWNoIGlzIGNhbGxlZCBiZXR3ZWVuIGVhY2ggYXN5bmMgc3RlcCBvZiB0aGUgdXBsb2FkCiAqIHByb2Nlc3MuCiAqIEBwYXJhbSB7c3RyaW5nfSBpbnB1dElkIEVsZW1lbnQgSUQgb2YgdGhlIGlucHV0IGZpbGUgcGlja2VyIGVsZW1lbnQuCiAqIEBwYXJhbSB7c3RyaW5nfSBvdXRwdXRJZCBFbGVtZW50IElEIG9mIHRoZSBvdXRwdXQgZGlzcGxheS4KICogQHJldHVybiB7IUl0ZXJhYmxlPCFPYmplY3Q+fSBJdGVyYWJsZSBvZiBuZXh0IHN0ZXBzLgogKi8KZnVuY3Rpb24qIHVwbG9hZEZpbGVzU3RlcChpbnB1dElkLCBvdXRwdXRJZCkgewogIGNvbnN0IGlucHV0RWxlbWVudCA9IGRvY3VtZW50LmdldEVsZW1lbnRCeUlkKGlucHV0SWQpOwogIGlucHV0RWxlbWVudC5kaXNhYmxlZCA9IGZhbHNlOwoKICBjb25zdCBvdXRwdXRFbGVtZW50ID0gZG9jdW1lbnQuZ2V0RWxlbWVudEJ5SWQob3V0cHV0SWQpOwogIG91dHB1dEVsZW1lbnQuaW5uZXJIVE1MID0gJyc7CgogIGNvbnN0IHBpY2tlZFByb21pc2UgPSBuZXcgUHJvbWlzZSgocmVzb2x2ZSkgPT4gewogICAgaW5wdXRFbGVtZW50LmFkZEV2ZW50TGlzdGVuZXIoJ2NoYW5nZScsIChlKSA9PiB7CiAgICAgIHJlc29sdmUoZS50YXJnZXQuZmlsZXMpOwogICAgfSk7CiAgfSk7CgogIGNvbnN0IGNhbmNlbCA9IGRvY3VtZW50LmNyZWF0ZUVsZW1lbnQoJ2J1dHRvbicpOwogIGlucHV0RWxlbWVudC5wYXJlbnRFbGVtZW50LmFwcGVuZENoaWxkKGNhbmNlbCk7CiAgY2FuY2VsLnRleHRDb250ZW50ID0gJ0NhbmNlbCB1cGxvYWQnOwogIGNvbnN0IGNhbmNlbFByb21pc2UgPSBuZXcgUHJvbWlzZSgocmVzb2x2ZSkgPT4gewogICAgY2FuY2VsLm9uY2xpY2sgPSAoKSA9PiB7CiAgICAgIHJlc29sdmUobnVsbCk7CiAgICB9OwogIH0pOwoKICAvLyBXYWl0IGZvciB0aGUgdXNlciB0byBwaWNrIHRoZSBmaWxlcy4KICBjb25zdCBmaWxlcyA9IHlpZWxkIHsKICAgIHByb21pc2U6IFByb21pc2UucmFjZShbcGlja2VkUHJvbWlzZSwgY2FuY2VsUHJvbWlzZV0pLAogICAgcmVzcG9uc2U6IHsKICAgICAgYWN0aW9uOiAnc3RhcnRpbmcnLAogICAgfQogIH07CgogIGNhbmNlbC5yZW1vdmUoKTsKCiAgLy8gRGlzYWJsZSB0aGUgaW5wdXQgZWxlbWVudCBzaW5jZSBmdXJ0aGVyIHBpY2tzIGFyZSBub3QgYWxsb3dlZC4KICBpbnB1dEVsZW1lbnQuZGlzYWJsZWQgPSB0cnVlOwoKICBpZiAoIWZpbGVzKSB7CiAgICByZXR1cm4gewogICAgICByZXNwb25zZTogewogICAgICAgIGFjdGlvbjogJ2NvbXBsZXRlJywKICAgICAgfQogICAgfTsKICB9CgogIGZvciAoY29uc3QgZmlsZSBvZiBmaWxlcykgewogICAgY29uc3QgbGkgPSBkb2N1bWVudC5jcmVhdGVFbGVtZW50KCdsaScpOwogICAgbGkuYXBwZW5kKHNwYW4oZmlsZS5uYW1lLCB7Zm9udFdlaWdodDogJ2JvbGQnfSkpOwogICAgbGkuYXBwZW5kKHNwYW4oCiAgICAgICAgYCgke2ZpbGUudHlwZSB8fCAnbi9hJ30pIC0gJHtmaWxlLnNpemV9IGJ5dGVzLCBgICsKICAgICAgICBgbGFzdCBtb2RpZmllZDogJHsKICAgICAgICAgICAgZmlsZS5sYXN0TW9kaWZpZWREYXRlID8gZmlsZS5sYXN0TW9kaWZpZWREYXRlLnRvTG9jYWxlRGF0ZVN0cmluZygpIDoKICAgICAgICAgICAgICAgICAgICAgICAgICAgICAgICAgICAgJ24vYSd9IC0gYCkpOwogICAgY29uc3QgcGVyY2VudCA9IHNwYW4oJzAlIGRvbmUnKTsKICAgIGxpLmFwcGVuZENoaWxkKHBlcmNlbnQpOwoKICAgIG91dHB1dEVsZW1lbnQuYXBwZW5kQ2hpbGQobGkpOwoKICAgIGNvbnN0IGZpbGVEYXRhUHJvbWlzZSA9IG5ldyBQcm9taXNlKChyZXNvbHZlKSA9PiB7CiAgICAgIGNvbnN0IHJlYWRlciA9IG5ldyBGaWxlUmVhZGVyKCk7CiAgICAgIHJlYWRlci5vbmxvYWQgPSAoZSkgPT4gewogICAgICAgIHJlc29sdmUoZS50YXJnZXQucmVzdWx0KTsKICAgICAgfTsKICAgICAgcmVhZGVyLnJlYWRBc0FycmF5QnVmZmVyKGZpbGUpOwogICAgfSk7CiAgICAvLyBXYWl0IGZvciB0aGUgZGF0YSB0byBiZSByZWFkeS4KICAgIGxldCBmaWxlRGF0YSA9IHlpZWxkIHsKICAgICAgcHJvbWlzZTogZmlsZURhdGFQcm9taXNlLAogICAgICByZXNwb25zZTogewogICAgICAgIGFjdGlvbjogJ2NvbnRpbnVlJywKICAgICAgfQogICAgfTsKCiAgICAvLyBVc2UgYSBjaHVua2VkIHNlbmRpbmcgdG8gYXZvaWQgbWVzc2FnZSBzaXplIGxpbWl0cy4gU2VlIGIvNjIxMTU2NjAuCiAgICBsZXQgcG9zaXRpb24gPSAwOwogICAgZG8gewogICAgICBjb25zdCBsZW5ndGggPSBNYXRoLm1pbihmaWxlRGF0YS5ieXRlTGVuZ3RoIC0gcG9zaXRpb24sIE1BWF9QQVlMT0FEX1NJWkUpOwogICAgICBjb25zdCBjaHVuayA9IG5ldyBVaW50OEFycmF5KGZpbGVEYXRhLCBwb3NpdGlvbiwgbGVuZ3RoKTsKICAgICAgcG9zaXRpb24gKz0gbGVuZ3RoOwoKICAgICAgY29uc3QgYmFzZTY0ID0gYnRvYShTdHJpbmcuZnJvbUNoYXJDb2RlLmFwcGx5KG51bGwsIGNodW5rKSk7CiAgICAgIHlpZWxkIHsKICAgICAgICByZXNwb25zZTogewogICAgICAgICAgYWN0aW9uOiAnYXBwZW5kJywKICAgICAgICAgIGZpbGU6IGZpbGUubmFtZSwKICAgICAgICAgIGRhdGE6IGJhc2U2NCwKICAgICAgICB9LAogICAgICB9OwoKICAgICAgbGV0IHBlcmNlbnREb25lID0gZmlsZURhdGEuYnl0ZUxlbmd0aCA9PT0gMCA/CiAgICAgICAgICAxMDAgOgogICAgICAgICAgTWF0aC5yb3VuZCgocG9zaXRpb24gLyBmaWxlRGF0YS5ieXRlTGVuZ3RoKSAqIDEwMCk7CiAgICAgIHBlcmNlbnQudGV4dENvbnRlbnQgPSBgJHtwZXJjZW50RG9uZX0lIGRvbmVgOwoKICAgIH0gd2hpbGUgKHBvc2l0aW9uIDwgZmlsZURhdGEuYnl0ZUxlbmd0aCk7CiAgfQoKICAvLyBBbGwgZG9uZS4KICB5aWVsZCB7CiAgICByZXNwb25zZTogewogICAgICBhY3Rpb246ICdjb21wbGV0ZScsCiAgICB9CiAgfTsKfQoKc2NvcGUuZ29vZ2xlID0gc2NvcGUuZ29vZ2xlIHx8IHt9OwpzY29wZS5nb29nbGUuY29sYWIgPSBzY29wZS5nb29nbGUuY29sYWIgfHwge307CnNjb3BlLmdvb2dsZS5jb2xhYi5fZmlsZXMgPSB7CiAgX3VwbG9hZEZpbGVzLAogIF91cGxvYWRGaWxlc0NvbnRpbnVlLAp9Owp9KShzZWxmKTsK",
              "ok": true,
              "headers": [
                [
                  "content-type",
                  "application/javascript"
                ]
              ],
              "status": 200,
              "status_text": ""
            }
          },
          "base_uri": "https://localhost:8080/",
          "height": 72
        },
        "id": "k0klLBD1THG4",
        "outputId": "6b5c1c3a-e370-4544-8a01-1a030e12a768"
      },
      "source": [
        "from google.colab import files\n",
        "uploaded = files.upload()\n",
        "\n",
        "from astropy.table import Table\n"
      ],
      "execution_count": 1,
      "outputs": [
        {
          "output_type": "display_data",
          "data": {
            "text/html": [
              "\n",
              "     <input type=\"file\" id=\"files-f2b91d9d-a824-423f-9976-419178dffab2\" name=\"files[]\" multiple disabled\n",
              "        style=\"border:none\" />\n",
              "     <output id=\"result-f2b91d9d-a824-423f-9976-419178dffab2\">\n",
              "      Upload widget is only available when the cell has been executed in the\n",
              "      current browser session. Please rerun this cell to enable.\n",
              "      </output>\n",
              "      <script src=\"/nbextensions/google.colab/files.js\"></script> "
            ],
            "text/plain": [
              "<IPython.core.display.HTML object>"
            ]
          },
          "metadata": {}
        },
        {
          "output_type": "stream",
          "text": [
            "Saving CescoThetaAquilea.txt to CescoThetaAquilea (2).txt\n"
          ],
          "name": "stdout"
        }
      ]
    },
    {
      "cell_type": "code",
      "metadata": {
        "colab": {
          "base_uri": "https://localhost:8080/",
          "height": 519
        },
        "id": "8l-XFxWCXd_Y",
        "outputId": "5caa9485-1169-410f-b8e5-bfdb86821f07"
      },
      "source": [
        "data = Table.read('CescoThetaAquilea.txt', format='pandas.csv', delim_whitespace=True, names=['JD', 'Vrad', 'error'])\n",
        "data"
      ],
      "execution_count": 2,
      "outputs": [
        {
          "output_type": "execute_result",
          "data": {
            "text/html": [
              "<div><i>Table length=29</i>\n",
              "<table id=\"table140274230517456\" class=\"table-striped table-bordered table-condensed\">\n",
              "<thead><tr><th>JD</th><th>Vrad</th><th>error</th></tr></thead>\n",
              "<thead><tr><th>float64</th><th>float64</th><th>float64</th></tr></thead>\n",
              "<tr><td>7642.75</td><td>-21.8</td><td>2.5</td></tr>\n",
              "<tr><td>7644.75</td><td>12.7</td><td>2.5</td></tr>\n",
              "<tr><td>7647.75</td><td>-30.2</td><td>2.5</td></tr>\n",
              "<tr><td>7648.71</td><td>-39.8</td><td>2.5</td></tr>\n",
              "<tr><td>7648.82</td><td>-44.9</td><td>2.5</td></tr>\n",
              "<tr><td>7650.68</td><td>-41.2</td><td>2.5</td></tr>\n",
              "<tr><td>7652.7</td><td>-44.7</td><td>2.5</td></tr>\n",
              "<tr><td>7653.78</td><td>-45.2</td><td>2.5</td></tr>\n",
              "<tr><td>7656.67</td><td>-38.1</td><td>2.5</td></tr>\n",
              "<tr><td>7662.59</td><td>27.0</td><td>2.5</td></tr>\n",
              "<tr><td>...</td><td>...</td><td>...</td></tr>\n",
              "<tr><td>7717.52</td><td>-35.9</td><td>2.5</td></tr>\n",
              "<tr><td>7718.51</td><td>-41.2</td><td>2.5</td></tr>\n",
              "<tr><td>7720.53</td><td>-48.6</td><td>2.5</td></tr>\n",
              "<tr><td>7722.51</td><td>-39.6</td><td>2.5</td></tr>\n",
              "<tr><td>7723.5</td><td>-36.8</td><td>2.5</td></tr>\n",
              "<tr><td>7731.62</td><td>33.2</td><td>2.5</td></tr>\n",
              "<tr><td>7731.65</td><td>46.8</td><td>2.5</td></tr>\n",
              "<tr><td>7732.51</td><td>1.9</td><td>2.5</td></tr>\n",
              "<tr><td>7732.56</td><td>-3.5</td><td>2.5</td></tr>\n",
              "<tr><td>7734.6</td><td>-27.4</td><td>2.5</td></tr>\n",
              "</table></div>"
            ],
            "text/plain": [
              "<Table length=29>\n",
              "   JD     Vrad   error \n",
              "float64 float64 float64\n",
              "------- ------- -------\n",
              "7642.75   -21.8     2.5\n",
              "7644.75    12.7     2.5\n",
              "7647.75   -30.2     2.5\n",
              "7648.71   -39.8     2.5\n",
              "7648.82   -44.9     2.5\n",
              "7650.68   -41.2     2.5\n",
              " 7652.7   -44.7     2.5\n",
              "7653.78   -45.2     2.5\n",
              "7656.67   -38.1     2.5\n",
              "7662.59    27.0     2.5\n",
              "    ...     ...     ...\n",
              "7717.52   -35.9     2.5\n",
              "7718.51   -41.2     2.5\n",
              "7720.53   -48.6     2.5\n",
              "7722.51   -39.6     2.5\n",
              " 7723.5   -36.8     2.5\n",
              "7731.62    33.2     2.5\n",
              "7731.65    46.8     2.5\n",
              "7732.51     1.9     2.5\n",
              "7732.56    -3.5     2.5\n",
              " 7734.6   -27.4     2.5"
            ]
          },
          "metadata": {},
          "execution_count": 2
        }
      ]
    },
    {
      "cell_type": "code",
      "metadata": {
        "colab": {
          "base_uri": "https://localhost:8080/",
          "height": 282
        },
        "id": "zqdiD0K7Hhrq",
        "outputId": "8c434320-4c88-436a-8b08-10847cd146c4"
      },
      "source": [
        "import matplotlib.pyplot as plt\n",
        "\n",
        "plt.plot(data['JD'],data['Vrad'],'.')"
      ],
      "execution_count": 3,
      "outputs": [
        {
          "output_type": "execute_result",
          "data": {
            "text/plain": [
              "[<matplotlib.lines.Line2D at 0x7f9421512c50>]"
            ]
          },
          "metadata": {},
          "execution_count": 3
        },
        {
          "output_type": "display_data",
          "data": {
            "image/png": "[encoded data removed]",
            "text/plain": [
              "<Figure size 432x288 with 1 Axes>"
            ]
          },
          "metadata": {
            "needs_background": "light"
          }
        }
      ]
    },
    {
      "cell_type": "code",
      "metadata": {
        "colab": {
          "base_uri": "https://localhost:8080/"
        },
        "id": "wbEPtuzrIZJw",
        "outputId": "eb09bea7-86ea-4f28-cc8b-4697bb339cf0"
      },
      "source": [
        "!pip install pyastronomy\n",
        "import numpy as np\n",
        "from astropy.timeseries import LombScargle\n",
        "from PyAstronomy.pyasl import foldAt\n",
        "\n",
        "# Index of maximal radial velocity in observed data \n",
        "vrad_max_index = np.argmax(data['Vrad'])\n",
        "#t0 =data['JD'][vrad_max_index]\n",
        "\n",
        "t = data['JD']\n",
        "y = data['Vrad']\n",
        "\n",
        "y_error = data['error']\n",
        "\n",
        "frequency, power = LombScargle(t, y).autopower()\n",
        "period_estimate = 1.0/frequency[np.argmax(power)] \n",
        "\n",
        "print('Period estimate %.2f ' % period_estimate)"
      ],
      "execution_count": 4,
      "outputs": [
        {
          "output_type": "stream",
          "text": [
            "Requirement already satisfied: pyastronomy in /usr/local/lib/python3.7/dist-packages (0.16.0)\n",
            "Requirement already satisfied: six in /usr/local/lib/python3.7/dist-packages (from pyastronomy) (1.15.0)\n",
            "Requirement already satisfied: numpy in /usr/local/lib/python3.7/dist-packages (from pyastronomy) (1.19.5)\n",
            "Period estimate 17.33 \n"
          ],
          "name": "stdout"
        }
      ]
    },
    {
      "cell_type": "code",
      "metadata": {
        "colab": {
          "base_uri": "https://localhost:8080/",
          "height": 282
        },
        "id": "RsjcNBB4ABH8",
        "outputId": "b43150e1-2b93-478d-b4f2-4a3531327a43"
      },
      "source": [
        "\n",
        "phase = t/period_estimate - np.floor(t/period_estimate)\n",
        "sortIndexes = np.argsort(phase)\n",
        "sort_x = phase[sortIndexes]\n",
        "sort_y = y[sortIndexes]\n",
        "\n",
        "phase_0 = sort_x[np.argmax(sort_y)]\n",
        "sort_x = sort_x - phase_0\n",
        "indxs = np.where(sort_x < 0.0)\n",
        "sort_x[indxs] = sort_x[indxs]+1.0\n",
        "plt.plot(sort_x,sort_y,'.')\n"
      ],
      "execution_count": 5,
      "outputs": [
        {
          "output_type": "execute_result",
          "data": {
            "text/plain": [
              "[<matplotlib.lines.Line2D at 0x7f94131ad310>]"
            ]
          },
          "metadata": {},
          "execution_count": 5
        },
        {
          "output_type": "display_data",
          "data": {
            "image/png": "[encoded data removed]",
            "text/plain": [
              "<Figure size 432x288 with 1 Axes>"
            ]
          },
          "metadata": {
            "needs_background": "light"
          }
        }
      ]
    },
    {
      "cell_type": "code",
      "metadata": {
        "colab": {
          "base_uri": "https://localhost:8080/"
        },
        "id": "3TTHvAJ5StEJ",
        "outputId": "b2b434f5-c7da-49e6-9a85-69a3903849f8"
      },
      "source": [
        "print('Maximal measured radial velocity: %.2f' % (np.max(y)))\n",
        "print('Minimal measured radial velocity: %.2f' % (np.min(y)))\n",
        "print('Mean line radial velocity: %.2f' % (((np.max(y))+np.min(y))/2))"
      ],
      "execution_count": 6,
      "outputs": [
        {
          "output_type": "stream",
          "text": [
            "Maximal measured radial velocity: 46.80\n",
            "Minimal measured radial velocity: -48.60\n",
            "Mean line radial velocity: -0.90\n"
          ],
          "name": "stdout"
        }
      ]
    },
    {
      "cell_type": "code",
      "metadata": {
        "colab": {
          "base_uri": "https://localhost:8080/",
          "height": 282
        },
        "id": "bMK0L9LvMH5D",
        "outputId": "875131d8-7639-43fa-dde6-6643ad1de139"
      },
      "source": [
        "# Folding data using PyAstronomy method FoldAt\n",
        "\n",
        "# Obtain the phases with respect to some\n",
        "# reference point (in this case T0=217.4)\n",
        "t0 = t[np.argmax(y)]\n",
        "phases = foldAt(t, period_estimate, T0=t0)\n",
        "\n",
        "# Sort with respect to phase\n",
        "# First, get the order of indices ...\n",
        "sortIndexes = np.argsort(phases)\n",
        "# ... and, second, rearrange the arrays.\n",
        "sort_phases = phases[sortIndexes]\n",
        "vrad_obs = y[sortIndexes]\n",
        "\n",
        "plt.plot(sort_phases,vrad_obs,'.')"
      ],
      "execution_count": 7,
      "outputs": [
        {
          "output_type": "execute_result",
          "data": {
            "text/plain": [
              "[<matplotlib.lines.Line2D at 0x7f9413126810>]"
            ]
          },
          "metadata": {},
          "execution_count": 7
        },
        {
          "output_type": "display_data",
          "data": {
            "image/png": "[encoded data removed]",
            "text/plain": [
              "<Figure size 432x288 with 1 Axes>"
            ]
          },
          "metadata": {
            "needs_background": "light"
          }
        }
      ]
    },
    {
      "cell_type": "markdown",
      "metadata": {
        "id": "M8vrmkICVUFI"
      },
      "source": [
        "\\begin{equation}\n",
        "V_{\\rm rad}=K\\left[\\cos(\\nu+\\omega)+e\\cos(\\omega)\\right]+\\gamma\n",
        "\\end{equation}\n",
        "$V_{\\rm rad}$ is observed radial velocity, $K$ semi-amplitude, $e$ eccentricity, $\\omega$ longitude of periastron and $\\gamma$ systemic velocity of orbit.\n",
        "\n",
        "$$\n",
        "\\tan\\left(\\frac{\\nu}{2}\\right)=\\sqrt{\\frac{1+e}{1-e}}\\tan{\\frac{E}{2}}\n",
        "$$\n",
        "\n",
        "$$\n",
        "E - e\\sin{E} = \\frac{2\\pi}{T}(t-\\tau_0)\n",
        "$$"
      ]
    },
    {
      "cell_type": "code",
      "metadata": {
        "id": "CTRx7Fz2-vc1",
        "colab": {
          "base_uri": "https://localhost:8080/",
          "height": 282
        },
        "outputId": "8aefddab-0264-40bf-b050-e1f23fcec62a"
      },
      "source": [
        "# Cesco Aquilae parameters\n",
        "K = 42.3859\n",
        "gamma = -26.5092\n",
        "e = 0.65121\n",
        "omega = 21.017*np.pi/180\n",
        "T = 17.18\n",
        "\n",
        "def Kepler(t):\n",
        "  # Time in phase\n",
        "  tau = 0.02\n",
        "  T = 1.0\n",
        "  E = np.zeros(np.size(t))\n",
        "\n",
        "  for i,time in enumerate(np.nditer(t)):\n",
        "    error =10.0\n",
        "    while (error > 0.000001):\n",
        "      buffer = E[i]\n",
        "      E[i] = 2*np.pi/T*(time-tau)+e*np.sin(E[i])\n",
        "      error = np.abs(E[i] - buffer)\n",
        "\n",
        "  return E\n",
        "\n",
        "def true_anomaly(E):\n",
        "  return np.arctan(np.sqrt((1+e)/(1-e))*np.tan(E/2))*2\n",
        "\n",
        "def radial_velocity(time):\n",
        "  E = Kepler(time)\n",
        "  nu = true_anomaly(E)\n",
        "  return K*(np.cos(nu+omega)+e*np.cos(omega))+gamma\n",
        "\n",
        "time = np.linspace(0,1.0,100)\n",
        "vrad_syntetic = radial_velocity(time)\n",
        "\n",
        "plt.plot(time,vrad_syntetic,'.')\n",
        "plt.plot(sort_phases,vrad_obs,'.')\n",
        "\n",
        "\n"
      ],
      "execution_count": 8,
      "outputs": [
        {
          "output_type": "execute_result",
          "data": {
            "text/plain": [
              "[<matplotlib.lines.Line2D at 0x7f94130a2750>]"
            ]
          },
          "metadata": {},
          "execution_count": 8
        },
        {
          "output_type": "display_data",
          "data": {
            "image/png": "[encoded data removed]",
            "text/plain": [
              "<Figure size 432x288 with 1 Axes>"
            ]
          },
          "metadata": {
            "needs_background": "light"
          }
        }
      ]
    },
    {
      "cell_type": "code",
      "metadata": {
        "id": "ygpCYX4-g-M4",
        "colab": {
          "base_uri": "https://localhost:8080/",
          "height": 282
        },
        "outputId": "8fc1f80c-ccbf-4be5-bcf0-be16a9347993"
      },
      "source": [
        "def residuum(vrad_syntetic,vrad):\n",
        "  N = np.size(vrad)\n",
        "  return np.sqrt(np.sum(np.square(vrad-vrad_syntetic))/(N-1))\n",
        "\n",
        "vrad_syntetic = radial_velocity(sort_phases)\n",
        "\n",
        "plt.plot(sort_phases,vrad_obs,'.')\n",
        "plt.plot(sort_phases,vrad_syntetic,'.')\n",
        "print(residuum(vrad_syntetic,vrad_obs))"
      ],
      "execution_count": 9,
      "outputs": [
        {
          "output_type": "stream",
          "text": [
            "6.162492676907352\n"
          ],
          "name": "stdout"
        },
        {
          "output_type": "display_data",
          "data": {
            "image/png": "[encoded data removed]",
            "text/plain": [
              "<Figure size 432x288 with 1 Axes>"
            ]
          },
          "metadata": {
            "needs_background": "light"
          }
        }
      ]
    },
    {
      "cell_type": "code",
      "metadata": {
        "colab": {
          "base_uri": "https://localhost:8080/",
          "height": 282
        },
        "id": "RHImdSWRTSrg",
        "outputId": "17495631-b176-46c6-c2b9-704a0d412349"
      },
      "source": [
        "plt.plot(sort_phases,vrad_syntetic-vrad_obs,'.')"
      ],
      "execution_count": 11,
      "outputs": [
        {
          "output_type": "execute_result",
          "data": {
            "text/plain": [
              "[<matplotlib.lines.Line2D at 0x7f9412fd2b90>]"
            ]
          },
          "metadata": {},
          "execution_count": 11
        },
        {
          "output_type": "display_data",
          "data": {
            "image/png": "[encoded data removed]",
            "text/plain": [
              "<Figure size 432x288 with 1 Axes>"
            ]
          },
          "metadata": {
            "needs_background": "light"
          }
        }
      ]
    },
    {
      "cell_type": "markdown",
      "metadata": {
        "id": "_rdHfr1EhnT7"
      },
      "source": [
        "Solution calculated by *Single-line binary solver*\n",
        "\n",
        "K      42.3859\n",
        "\\nu        "
      ]
    },
    {
      "cell_type": "code",
      "metadata": {
        "id": "9EiX9G9-fg9-"
      },
      "source": [
        "def vradial_calculation(solution):\n",
        "\n",
        "  K = solution[0]\n",
        "  theta = solution[1]\n",
        "  omega = solution[2]\n",
        "  e = solution[3]\n",
        "  gamma = solution[4]\n",
        "\n",
        "  return K*(np.cos(theta+omega)+e*cos(omega))+gamma\n",
        "\n",
        "def fitness_func(solution):\n",
        "\n",
        "  vrad_calc = vradial_calculation(solution)\n",
        "  \n",
        "  return np.sum(np.square(vrad_calc - vrad_obs))/(N-1)\n"
      ],
      "execution_count": null,
      "outputs": []
    },
    {
      "cell_type": "markdown",
      "metadata": {
        "id": "XjpVys72G0lv"
      },
      "source": [
        "https://pypi.org/project/genetic-algorithm/"
      ]
    },
    {
      "cell_type": "code",
      "metadata": {
        "id": "mNvrOqKeWp3T",
        "colab": {
          "base_uri": "https://localhost:8080/"
        },
        "outputId": "ec90e77a-caf0-4795-9f66-e3709b0b1e10"
      },
      "source": [
        "!pip install genetic_algorithm\n",
        "from genetic_algorithm import GeneticAlgorithm"
      ],
      "execution_count": null,
      "outputs": [
        {
          "output_type": "stream",
          "text": [
            "Requirement already satisfied: genetic_algorithm in /usr/local/lib/python3.7/dist-packages (1.0.0)\n",
            "Requirement already satisfied: scipy in /usr/local/lib/python3.7/dist-packages (from genetic_algorithm) (1.4.1)\n",
            "Requirement already satisfied: pandas in /usr/local/lib/python3.7/dist-packages (from genetic_algorithm) (1.1.5)\n",
            "Requirement already satisfied: numpy in /usr/local/lib/python3.7/dist-packages (from genetic_algorithm) (1.19.5)\n",
            "Requirement already satisfied: pytz>=2017.2 in /usr/local/lib/python3.7/dist-packages (from pandas->genetic_algorithm) (2018.9)\n",
            "Requirement already satisfied: python-dateutil>=2.7.3 in /usr/local/lib/python3.7/dist-packages (from pandas->genetic_algorithm) (2.8.2)\n",
            "Requirement already satisfied: six>=1.5 in /usr/local/lib/python3.7/dist-packages (from python-dateutil>=2.7.3->pandas->genetic_algorithm) (1.15.0)\n"
          ],
          "name": "stdout"
        }
      ]
    },
    {
      "cell_type": "code",
      "metadata": {
        "id": "yCjZ7C1gBtaG"
      },
      "source": [
        "param_space = {\"K\": {'type': 'float', 'range':[0, 100]},\n",
        "\"nu\": {'type': 'float', 'range':[-1, 5]},\n",
        "\"omega\": {'type': 'int', 'range':[0, 2.0*np.pi]},\n",
        "\"e\": {'type': 'float', 'range':[0, 1.0]},\n",
        "\"gamma\": {'type': 'float', 'range':[-10, 10]},\n",
        "}"
      ],
      "execution_count": null,
      "outputs": []
    },
    {
      "cell_type": "code",
      "metadata": {
        "colab": {
          "base_uri": "https://localhost:8080/"
        },
        "id": "EYDkL3kiGj-q",
        "outputId": "27274f5d-d09d-45b6-db8e-a2b97e5bf5f0"
      },
      "source": [
        "data['JD'][vrad_max_index]"
      ],
      "execution_count": 13,
      "outputs": [
        {
          "output_type": "execute_result",
          "data": {
            "text/plain": [
              "7731.65"
            ]
          },
          "metadata": {},
          "execution_count": 13
        }
      ]
    }
  ]
}