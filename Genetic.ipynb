{
  "nbformat": 4,
  "nbformat_minor": 0,
  "metadata": {
    "colab": {
      "name": "Genetic.ipynb",
      "provenance": [],
      "authorship_tag": "ABX9TyOLSwoxiP/YaZ84XQE2Wo4p",
      "include_colab_link": true
    },
    "kernelspec": {
      "name": "python3",
      "display_name": "Python 3"
    },
    "language_info": {
      "name": "python"
    }
  },
  "cells": [
    {
      "cell_type": "markdown",
      "metadata": {
        "id": "view-in-github",
        "colab_type": "text"
      },
      "source": [
        "<a href=\"https://colab.research.google.com/github/astroviki/NumericalMethods/blob/main/Genetic.ipynb\" target=\"_parent\"><img src=\"https://colab.research.google.com/assets/colab-badge.svg\" alt=\"Open In Colab\"/></a>"
      ]
    },
    {
      "cell_type": "code",
      "metadata": {
        "colab": {
          "base_uri": "https://localhost:8080/"
        },
        "id": "epyDR-whS5Re",
        "outputId": "e1429e7d-e567-490b-bd33-3366f4201a8f"
      },
      "source": [
        "! pip install pygad"
      ],
      "execution_count": null,
      "outputs": [
        {
          "output_type": "stream",
          "text": [
            "Collecting pygad\n",
            "\u001b[?25l  Downloading https://files.pythonhosted.org/packages/99/28/b8f74343c067667efdd7b68d7055c61a39a9f594552ebc7a7ba05d75b492/pygad-2.16.0-py3-none-any.whl (52kB)\n",
            "\r\u001b[K     |██████▏                         | 10kB 17.2MB/s eta 0:00:01\r\u001b[K     |████████████▍                   | 20kB 23.8MB/s eta 0:00:01\r\u001b[K     |██████████████████▌             | 30kB 22.0MB/s eta 0:00:01\r\u001b[K     |████████████████████████▊       | 40kB 17.3MB/s eta 0:00:01\r\u001b[K     |███████████████████████████████ | 51kB 19.6MB/s eta 0:00:01\r\u001b[K     |████████████████████████████████| 61kB 7.7MB/s \n",
            "\u001b[?25hRequirement already satisfied: matplotlib in /usr/local/lib/python3.7/dist-packages (from pygad) (3.2.2)\n",
            "Requirement already satisfied: numpy in /usr/local/lib/python3.7/dist-packages (from pygad) (1.19.5)\n",
            "Requirement already satisfied: cycler>=0.10 in /usr/local/lib/python3.7/dist-packages (from matplotlib->pygad) (0.10.0)\n",
            "Requirement already satisfied: kiwisolver>=1.0.1 in /usr/local/lib/python3.7/dist-packages (from matplotlib->pygad) (1.3.1)\n",
            "Requirement already satisfied: pyparsing!=2.0.4,!=2.1.2,!=2.1.6,>=2.0.1 in /usr/local/lib/python3.7/dist-packages (from matplotlib->pygad) (2.4.7)\n",
            "Requirement already satisfied: python-dateutil>=2.1 in /usr/local/lib/python3.7/dist-packages (from matplotlib->pygad) (2.8.1)\n",
            "Requirement already satisfied: six in /usr/local/lib/python3.7/dist-packages (from cycler>=0.10->matplotlib->pygad) (1.15.0)\n",
            "Installing collected packages: pygad\n",
            "Successfully installed pygad-2.16.0\n"
          ],
          "name": "stdout"
        }
      ]
    }
  ]
}