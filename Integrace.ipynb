{
  "nbformat": 4,
  "nbformat_minor": 0,
  "metadata": {
    "colab": {
      "name": "Integrace.ipynb",
      "provenance": [],
      "toc_visible": true,
      "authorship_tag": "ABX9TyPTBcJ0iiDmdtbwPVZ6FaNR",
      "include_colab_link": true
    },
    "kernelspec": {
      "name": "python3",
      "display_name": "Python 3"
    },
    "language_info": {
      "name": "python"
    }
  },
  "cells": [
    {
      "cell_type": "markdown",
      "metadata": {
        "id": "view-in-github",
        "colab_type": "text"
      },
      "source": [
        "<a href=\"https://colab.research.google.com/github/astroviki/NumericalMethods/blob/main/Integrace.ipynb\" target=\"_parent\"><img src=\"https://colab.research.google.com/assets/colab-badge.svg\" alt=\"Open In Colab\"/></a>"
      ]
    },
    {
      "cell_type": "code",
      "metadata": {
        "colab": {
          "base_uri": "https://localhost:8080/"
        },
        "id": "aRPnXi_TKLZK",
        "outputId": "66995471-c509-4132-8e34-5496ad9ffcbb"
      },
      "source": [
        "# for Table of Contents use:\n",
        "#\n",
        "# pip install jupyter_contrib_nbextensions\n",
        "# jupyter contrib nbextension install --sys-prefix\n",
        "# jupyter nbextension enable scratchpad/main --sys-prefix\n",
        "#\n",
        "!pip install jupyterthemes\n",
        "%matplotlib inline\n",
        "import numpy as np\n",
        "import scipy\n",
        "import matplotlib.pylab as plt\n",
        "import pandas as pd\n",
        "import plotly.express as px\n",
        "import plotly.graph_objects as go\n",
        "import plotly.io as pio\n",
        "\n",
        "from plotly.subplots import make_subplots\n",
        "from jupyterthemes import jtplot\n",
        "\n",
        "\n",
        "jtplot.style(theme='gruvboxd')"
      ],
      "execution_count": 1,
      "outputs": [
        {
          "output_type": "stream",
          "text": [
            "Requirement already satisfied: jupyterthemes in /usr/local/lib/python3.7/dist-packages (0.20.0)\n",
            "Requirement already satisfied: notebook>=5.6.0 in /usr/local/lib/python3.7/dist-packages (from jupyterthemes) (6.3.0)\n",
            "Requirement already satisfied: lesscpy>=0.11.2 in /usr/local/lib/python3.7/dist-packages (from jupyterthemes) (0.14.0)\n",
            "Requirement already satisfied: matplotlib>=1.4.3 in /usr/local/lib/python3.7/dist-packages (from jupyterthemes) (3.2.2)\n",
            "Requirement already satisfied: ipython>=5.4.1 in /usr/local/lib/python3.7/dist-packages (from jupyterthemes) (5.5.0)\n",
            "Requirement already satisfied: jupyter-core in /usr/local/lib/python3.7/dist-packages (from jupyterthemes) (4.7.1)\n",
            "Requirement already satisfied: argon2-cffi in /usr/local/lib/python3.7/dist-packages (from notebook>=5.6.0->jupyterthemes) (20.1.0)\n",
            "Requirement already satisfied: jupyter-client>=5.3.4 in /usr/local/lib/python3.7/dist-packages (from notebook>=5.6.0->jupyterthemes) (5.3.5)\n",
            "Requirement already satisfied: nbconvert in /usr/local/lib/python3.7/dist-packages (from notebook>=5.6.0->jupyterthemes) (5.6.1)\n",
            "Requirement already satisfied: jinja2 in /usr/local/lib/python3.7/dist-packages (from notebook>=5.6.0->jupyterthemes) (2.11.3)\n",
            "Requirement already satisfied: ipykernel in /usr/local/lib/python3.7/dist-packages (from notebook>=5.6.0->jupyterthemes) (4.10.1)\n",
            "Requirement already satisfied: traitlets>=4.2.1 in /usr/local/lib/python3.7/dist-packages (from notebook>=5.6.0->jupyterthemes) (5.0.5)\n",
            "Requirement already satisfied: nbformat in /usr/local/lib/python3.7/dist-packages (from notebook>=5.6.0->jupyterthemes) (5.1.2)\n",
            "Requirement already satisfied: Send2Trash>=1.5.0 in /usr/local/lib/python3.7/dist-packages (from notebook>=5.6.0->jupyterthemes) (1.5.0)\n",
            "Requirement already satisfied: ipython-genutils in /usr/local/lib/python3.7/dist-packages (from notebook>=5.6.0->jupyterthemes) (0.2.0)\n",
            "Requirement already satisfied: pyzmq>=17 in /usr/local/lib/python3.7/dist-packages (from notebook>=5.6.0->jupyterthemes) (22.0.3)\n",
            "Requirement already satisfied: terminado>=0.8.3 in /usr/local/lib/python3.7/dist-packages (from notebook>=5.6.0->jupyterthemes) (0.9.3)\n",
            "Requirement already satisfied: prometheus-client in /usr/local/lib/python3.7/dist-packages (from notebook>=5.6.0->jupyterthemes) (0.9.0)\n",
            "Requirement already satisfied: tornado>=6.1 in /usr/local/lib/python3.7/dist-packages (from notebook>=5.6.0->jupyterthemes) (6.1)\n",
            "Requirement already satisfied: six in /usr/local/lib/python3.7/dist-packages (from lesscpy>=0.11.2->jupyterthemes) (1.15.0)\n",
            "Requirement already satisfied: ply in /usr/local/lib/python3.7/dist-packages (from lesscpy>=0.11.2->jupyterthemes) (3.11)\n",
            "Requirement already satisfied: pyparsing!=2.0.4,!=2.1.2,!=2.1.6,>=2.0.1 in /usr/local/lib/python3.7/dist-packages (from matplotlib>=1.4.3->jupyterthemes) (2.4.7)\n",
            "Requirement already satisfied: cycler>=0.10 in /usr/local/lib/python3.7/dist-packages (from matplotlib>=1.4.3->jupyterthemes) (0.10.0)\n",
            "Requirement already satisfied: kiwisolver>=1.0.1 in /usr/local/lib/python3.7/dist-packages (from matplotlib>=1.4.3->jupyterthemes) (1.3.1)\n",
            "Requirement already satisfied: numpy>=1.11 in /usr/local/lib/python3.7/dist-packages (from matplotlib>=1.4.3->jupyterthemes) (1.19.5)\n",
            "Requirement already satisfied: python-dateutil>=2.1 in /usr/local/lib/python3.7/dist-packages (from matplotlib>=1.4.3->jupyterthemes) (2.8.1)\n",
            "Requirement already satisfied: pexpect; sys_platform != \"win32\" in /usr/local/lib/python3.7/dist-packages (from ipython>=5.4.1->jupyterthemes) (4.8.0)\n",
            "Requirement already satisfied: decorator in /usr/local/lib/python3.7/dist-packages (from ipython>=5.4.1->jupyterthemes) (4.4.2)\n",
            "Requirement already satisfied: prompt-toolkit<2.0.0,>=1.0.4 in /usr/local/lib/python3.7/dist-packages (from ipython>=5.4.1->jupyterthemes) (1.0.18)\n",
            "Requirement already satisfied: setuptools>=18.5 in /usr/local/lib/python3.7/dist-packages (from ipython>=5.4.1->jupyterthemes) (54.2.0)\n",
            "Requirement already satisfied: pickleshare in /usr/local/lib/python3.7/dist-packages (from ipython>=5.4.1->jupyterthemes) (0.7.5)\n",
            "Requirement already satisfied: pygments in /usr/local/lib/python3.7/dist-packages (from ipython>=5.4.1->jupyterthemes) (2.6.1)\n",
            "Requirement already satisfied: simplegeneric>0.8 in /usr/local/lib/python3.7/dist-packages (from ipython>=5.4.1->jupyterthemes) (0.8.1)\n",
            "Requirement already satisfied: cffi>=1.0.0 in /usr/local/lib/python3.7/dist-packages (from argon2-cffi->notebook>=5.6.0->jupyterthemes) (1.14.5)\n",
            "Requirement already satisfied: entrypoints>=0.2.2 in /usr/local/lib/python3.7/dist-packages (from nbconvert->notebook>=5.6.0->jupyterthemes) (0.3)\n",
            "Requirement already satisfied: mistune<2,>=0.8.1 in /usr/local/lib/python3.7/dist-packages (from nbconvert->notebook>=5.6.0->jupyterthemes) (0.8.4)\n",
            "Requirement already satisfied: defusedxml in /usr/local/lib/python3.7/dist-packages (from nbconvert->notebook>=5.6.0->jupyterthemes) (0.7.1)\n",
            "Requirement already satisfied: bleach in /usr/local/lib/python3.7/dist-packages (from nbconvert->notebook>=5.6.0->jupyterthemes) (3.3.0)\n",
            "Requirement already satisfied: pandocfilters>=1.4.1 in /usr/local/lib/python3.7/dist-packages (from nbconvert->notebook>=5.6.0->jupyterthemes) (1.4.3)\n",
            "Requirement already satisfied: testpath in /usr/local/lib/python3.7/dist-packages (from nbconvert->notebook>=5.6.0->jupyterthemes) (0.4.4)\n",
            "Requirement already satisfied: MarkupSafe>=0.23 in /usr/local/lib/python3.7/dist-packages (from jinja2->notebook>=5.6.0->jupyterthemes) (1.1.1)\n",
            "Requirement already satisfied: jsonschema!=2.5.0,>=2.4 in /usr/local/lib/python3.7/dist-packages (from nbformat->notebook>=5.6.0->jupyterthemes) (2.6.0)\n",
            "Requirement already satisfied: ptyprocess; os_name != \"nt\" in /usr/local/lib/python3.7/dist-packages (from terminado>=0.8.3->notebook>=5.6.0->jupyterthemes) (0.7.0)\n",
            "Requirement already satisfied: wcwidth in /usr/local/lib/python3.7/dist-packages (from prompt-toolkit<2.0.0,>=1.0.4->ipython>=5.4.1->jupyterthemes) (0.2.5)\n",
            "Requirement already satisfied: pycparser in /usr/local/lib/python3.7/dist-packages (from cffi>=1.0.0->argon2-cffi->notebook>=5.6.0->jupyterthemes) (2.20)\n",
            "Requirement already satisfied: webencodings in /usr/local/lib/python3.7/dist-packages (from bleach->nbconvert->notebook>=5.6.0->jupyterthemes) (0.5.1)\n",
            "Requirement already satisfied: packaging in /usr/local/lib/python3.7/dist-packages (from bleach->nbconvert->notebook>=5.6.0->jupyterthemes) (20.9)\n"
          ],
          "name": "stdout"
        }
      ]
    },
    {
      "cell_type": "markdown",
      "metadata": {
        "id": "JMy2Olp1KcvZ"
      },
      "source": [
        "# Integrace Funkce\n",
        "Integrace funkce patří mezi nejčastější problémy, se kterými se můžete setkat v praxi. Na rozdíl od učebnic, ve vetšině případů jsou funkce analyticky neintegrovatelné a jejich integrál je tak nutné hledat numerickou cestou. \n",
        "\n",
        "Celá podstata problému numerické integrace spočívá v obecně v aproximaci integrace funkce sumací jejich reprezentativních funkčních hodnot\n",
        "\n",
        "$$\n",
        "\\int_a^b f(x){\\rm d}x \\approx \\sum_{i=0}^{n-1}c_i f(x_i)\n",
        "$$\n",
        "\n",
        "Velkou skupinu tvoří integrační metody, které využívají k numerickému výpočtu interpolační funkci v podobě polynomu. Vzhledem k vlastnostem polynomu, především oscilaci polynomu vyšších řádu při interpolaci mezi body, jsou praxi využívány polynomy nižších řádu."
      ]
    },
    {
      "cell_type": "markdown",
      "metadata": {
        "id": "EF52Yi0_FS9Y"
      },
      "source": [
        "## Obdelníková metoda\n",
        "\n",
        "\\begin{equation}\n",
        "\\int_a^b f(x){\\rm d}x = \\frac{\\Delta x}{2}\\sum_{k=1}^N f\\left(\\frac{x_{k+1}+x_k}{2}\\right) = \\frac{b-a}{2N}\\left(x_1+2x_2+2x_3+\\dots 2x_N+x_{N+1}\\right),\n",
        "\\end{equation}\n"
      ]
    },
    {
      "cell_type": "markdown",
      "metadata": {
        "id": "bh-2igxjK5IN"
      },
      "source": [
        "## Lichoběžníkové pravidlo\n",
        "<img src='https://github.com/astroviki/NumericalMethods/blob/main/PDE/Images/trapez.png?raw=1' align='right'></img>\n",
        "Metoda spočívá v aproximaci určitého integrálu součtem obsahu lichoběžníků,\n",
        "\n",
        "\\begin{equation}\n",
        "\\int_a^b f(x){\\rm d}x = \\frac{\\Delta x}{2}\\sum_{k=1}^N (f(x_{k+1})+f(x_k)) = \\frac{b-a}{2N}\\left(f(x_1)+2f(x_2)+2f(x_3)+\\dots 2f(x_N)+f(x_{N+1})\\right),\n",
        "\\end{equation}\n",
        "\n",
        "které tvoří na daném intervalu $(a,b)$ sada $N$ ekvidistantních bodů.\n",
        "\n",
        "### Algoritmus\n",
        "\n",
        "* Stanovíme počet bodů $N$ na daném intervalu $(a,b)$, v těchto bodech vyčíslíme integrovanou funkci\n",
        "* Určíme odhad integralu podle vzorce $\\frac{b-a}{2N}\\left(f(x_1)+2f(x_2)+2f(x_3)+\\dots 2f(x_N)+f(x_{N+1})\\right)$"
      ]
    },
    {
      "cell_type": "markdown",
      "metadata": {
        "id": "Dg6nHcuTQV1T"
      },
      "source": [
        "## Simpsonova metoda\n",
        " \n",
        " Metoda spočívá v aproximaci určitého integrálu součtem obsahu parabol,\n",
        "\n",
        "\\begin{equation}\n",
        "\\int_a^b f(x){\\rm d}x = \\frac{\\Delta x}{3}\\left(f(x_0)+\\sum_{j=1}^{n/2-1}f(x_{2j})+4\\sum_{j=1}^{n/2}f(x_{2j-1})+f(x_n)\\right)\n",
        "\\end{equation}\n",
        "\n",
        "kde $x_j = a + jh$, $x_0=a$ a $x_n=b$.\n",
        "\n",
        "### Algoritmus\n",
        "\n",
        "* Předem určíme **sudý** počet bodů $N$ na daném intervalu $(a,b)$, v těchto bodech vyčíslíme integrovanou funkci\n",
        "* Určíme odhad integralu podle vzorce $\\frac{b-a}{2N}\\left(f(x_1)+2f(x_2)+2f(x_3)+\\dots 2f(x_N)+f(x_{N+1})\\right)$  \n",
        "\n",
        "---\n",
        "### Nástin odvození vzorce\n",
        "\n",
        "Nastíním jednodouché odvození vztahu integrace Simpsonovou metodou. Pro zjednodušení výpočtů umístíme startovní bod do bodu $(0,y_1)$\n",
        "\n",
        "Naším úkolem bude určit obsah plochy pod parabolou \n",
        "$$ \n",
        "y = ax^2+bx+c \n",
        "$$\n",
        "\n",
        "mezi body $ x_0 = -h$ a $x_3 =h$. Dle zadání parabola prochází body $(x_0,y_0),(x_1,y_1),(x_2,y_2)$ přičemž vzdálenosti mezi body $x_1-x_0 = x_2-x_1 =\\Delta x$\n",
        "\n",
        "\n",
        "Pro obsach plochy platí,\n",
        "\n",
        "\\begin{equation}\n",
        "A = \\int_{-h}^{h}(ax^2+bx+c){\\rm d}x = \\left[\\frac{ax^3}{3}+\\frac{bx^2}{2}+cx\\right]_{-h}^{h}\n",
        "\\end{equation}\n",
        "\n",
        "\\begin{equation}\n",
        "A = \\left(\\frac{ah^3}{3}+\\frac{bh^2}{2}+ch\\right)-\\left(-\\frac{ah^3}{3}+\\frac{bh^2}{2}-ch\\right) = \\frac{2ah^3}{3}+2ch = \\frac{h}{3}\\left(2ah^2+6c\\right)\n",
        "\\end{equation}\n",
        "\n",
        "Výraz dále upravíme a to použitím průchozích bodů, které dosadíme do obecné rovnice paraboly. \n",
        "\n",
        "\\begin{eqnarray}\n",
        "y_0 &=& ah^2-bh +c \\\\\n",
        "y_1 &=& c \\\\\n",
        "y_2 &=& ah^2+bh+c\n",
        "\\end{eqnarray}\n",
        "\n",
        "Z těchto rovnic můžeme vyjádřit \n",
        "\n",
        "\\begin{eqnarray}\n",
        "c &=& y_1 \\\\\n",
        "2ah^2 &=& y_0 - 2y_1 + y_2\n",
        "\\end{eqnarray}\n",
        "\n",
        "To nám umožńuje upravit vzorec \n",
        "\n",
        "\\begin{equation}\n",
        "A_1 = \\frac{h}{3}\\left(y_0-2y_1+y_2+6y_1\\right) = \\frac{h}{3}\\left(y_0+4y_1+y_2\\right)\n",
        "\\end{equation}\n",
        "\n",
        "Pro následující sadu tří bodu obdobně platí\n",
        "\n",
        "\\begin{equation}\n",
        "A_2 =  \\frac{h}{3}\\left(y_2+4y_3+y_4\\right)\n",
        "\\end{equation}\n",
        "\n",
        "\\begin{equation}\n",
        "A_{1+2} = \\frac{h}{3}\\left(y_0+4y_1+2y_2+4y_3+y_4\\right)\n",
        "\\end{equation}\n",
        "\n",
        "Přidámeli další sadu  tří bodů můžeme psát pro výslednou plochu\n",
        "\n",
        "\\begin{equation}\n",
        "A_{1+2+3} = \\frac{h}{3}\\left(y_0+4y_1+2y_2+4y_3+2y_4+4y_5+y_6\\right)\n",
        "\\end{equation}\n",
        "\n",
        "\n"
      ]
    },
    {
      "cell_type": "markdown",
      "metadata": {
        "id": "2fyhkgNCM5W9"
      },
      "source": [
        "## Gaussova kvadratura\n",
        "\n",
        "V předchozích vztazích jsme vždy hledali pro zadané body $x_0,x_1,x_2,\\dots x_{n-1},x_n$ odpovídající váhy $w_0,w_1,\\dots,w_{n-1},w_n$, tak abychom dosáhli co nejlepšího odhadu integrálu funkce $\\int_a^b f(x){\\rm d}x$ na zvoleném intervalu $(a,b)$. Fixace bodů, ve kterých vyčíslujeme integrovanou funkci může mít zásadní vliv na přesnost, bylo by tedy vhodné tuto restrikci uvolnit.\n",
        "\n",
        "Pro zjednodušení následujícího postupu uvažme funkci $f(x)=c_0+c_1x+c_2x^2+c_3x^3$ na interval $[-1,1]$. Naše nové zadání zní najít takovou sadu 2 bodů $x_0,x_1$ a odpovídající sadu vah $w_0,w_1$, pro které bude platit\n",
        "\n",
        "$$\n",
        "\\int_a^b f(x){\\rm d}x = w_0f(x_0)+w_1f(x_1)\n",
        "$$\n",
        "\n",
        "Z předchozího vztahu plyne\n",
        "$$\n",
        "\\int_{-1}^{1}(c_0+c_1x+c_2x^2+c_3x^3){\\rm d}x =  w_0(c_0+c_1x_0+c_2x_0^2+c_3x_0^3)+w_1(c_0+c_1x_1+c_2x_1^2+c_3x_1^3)\n",
        "$$\n",
        "\n",
        "Přeuspořádáním členů v rovnici, tak abychom k sobě dostali koeficienty $c_0,c_1,c_2,c_3$\n",
        "\n",
        "$$\n",
        "c_0\\left(w_0+w_1 - \\int_{-1}^1 {\\rm d}x\\right) +\n",
        "c_1\\left(w_0x_0+w_1x_1- \\int_{-1}^1 {x\\rm d}x\\right)+\n",
        "c_2\\left(w_0x_0^2+w_1x_1^2-\\int_{-1}^1 x^2 {\\rm d}x\\right)+\n",
        "c_3\\left(w_0x_0^3+w_1x_1^3-\\int_{-1}^1 x^3 {\\rm d}x\\right) = 0\n",
        "$$\n",
        "\n",
        "Členy $c_0,c_1,c_2,c_3$ jsou zvoleny náhodně, prot musí pro jejich koeficienty platit, že jsou nulové. Jinak řečeno\n",
        "\n",
        "\\begin{eqnarray}\n",
        "w_0 + w_1 = \\int_{-1}^1 {\\rm d}x = 2 \\\\\n",
        "w_0x_0+w_1x_1 = \\int_{-1}^1x{\\rm d}x = 0\\\\\n",
        "w_0x_0^2+w_1x_1^2 =\\int_{-1}^1x^2{\\rm d}x = \\frac{2}{3} \\\\\n",
        "w_0x_0^3+w_1x_1^3 = \\int_{-1}^1x^3{\\rm d}x = 0\n",
        "\\end{eqnarray}\n",
        "\n",
        "Řešení této nelineární soustavy rovnic je sada $w_0 = 1, w_1 = 1, x_0 = -\\frac{\\sqrt{3}}{3}, x_1 = \\frac{\\sqrt{3}}{3}$. Výsledný vztah pro výpočet integrálu \n",
        "$$\n",
        "\\int_{-1}^{1}f(x){\\rm d}x=f\\left(-\\frac{\\sqrt{3}}{3}\\right)+f\\left(\\frac{\\sqrt{3}}{3}\\right)\n",
        "$$"
      ]
    },
    {
      "cell_type": "markdown",
      "metadata": {
        "id": "dPHTGruCQur3"
      },
      "source": [
        "## Vybrané úlohy:\n",
        "\n",
        "### Příklad 1. Určení parametrů  exoplanety\n",
        "---\n",
        "Výzkum a hledání nových exoplanet prožívá v současné době bouřlivý rozvoj. Jedním ze základních úkolů je stanovení jejich základních fyzikálních vlastností. Naneštěstí přímo z pozorování lze většinou stanovit pouze jednu ze základních vlastností, nejčastěji její hmotnost resp. její poloměr. Ostatní vlastnosti musíme určit z modelování jejich vlastností. \n",
        "\n",
        "Pokud je známa hmotnost planety, velmi hrubý odhad jejího poloměru můžeme stanovit z předpokladu určitého složení (průměrné hustoty) a rovnoměrného rozložení (ne příliš přesný předpoklad). Například planeta [Gliese 832c](https://en.wikipedia.org/wiki/Gliese_832_c) s hmotností $M=5.40\\,M_{Země}$, pokud předpokládáme podobné složení jako má Země, tedy $\\rho_{Země}=5520$ $\\text{kg.m}^3$, dostáváme $R_{g832c}=(\\frac{3M}{4\\pi\\rho})^{1/3}≈1.75\\,R_{Země}$\n",
        "\n",
        "Tento odhad by platil za předpokladu, že je složení stejné jako Země. Realističtější odhad můžeme dostat použitím předpokládaného profilu hustoty\n",
        "\n",
        "$$\n",
        "\\rho(r) = \\rho_0 \\exp{(-rL)}\n",
        "$$\n",
        "\n",
        "kde $rho_0$ je hustota ve středu planety a $L$ je charakteristická délka, která závisí na složení. Z numerického modelování vnitřní struktury planet, odhad parametrů pro příklad planety s hmotností $M = 5.40\\,M_{Země}$ je zhruba $\\rho_0 = 18000$ kg/m3 a $L=6500$ km.\n",
        "\n",
        "* Integrací přes objem planety a hledáním kořene odhadněte poloměr planety\n",
        "$$\n",
        "M(R) = 4\\pi \\int_0^R R_0 \\rho(r) r^2 {\\rm d}r \n",
        "$$\n",
        " a hledáním kořene \n",
        "$$\n",
        "M(R) - M_{\\rm observe} = 0\n",
        "$$\n",
        " odhadněte poloměr planety.\n",
        "\n",
        "\n",
        "---\n",
        "\n"
      ]
    }
  ]
}