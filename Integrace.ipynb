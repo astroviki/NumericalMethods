{
  "nbformat": 4,
  "nbformat_minor": 0,
  "metadata": {
    "colab": {
      "name": "Integrace.ipynb",
      "provenance": [],
      "collapsed_sections": [],
      "toc_visible": true,
      "authorship_tag": "ABX9TyOuLbde2+xQ2YhnB8kvZYan",
      "include_colab_link": true
    },
    "kernelspec": {
      "name": "python3",
      "display_name": "Python 3"
    },
    "language_info": {
      "name": "python"
    }
  },
  "cells": [
    {
      "cell_type": "markdown",
      "metadata": {
        "id": "view-in-github",
        "colab_type": "text"
      },
      "source": [
        "<a href=\"https://colab.research.google.com/github/astroviki/NumericalMethods/blob/main/Integrace.ipynb\" target=\"_parent\"><img src=\"https://colab.research.google.com/assets/colab-badge.svg\" alt=\"Open In Colab\"/></a>"
      ]
    },
    {
      "cell_type": "code",
      "metadata": {
        "id": "aRPnXi_TKLZK"
      },
      "source": [
        "# for Table of Contents use:\n",
        "#\n",
        "# pip install jupyter_contrib_nbextensions\n",
        "# jupyter contrib nbextension install --sys-prefix\n",
        "# jupyter nbextension enable scratchpad/main --sys-prefix\n",
        "#\n",
        "%%capture\n",
        "!pip install jupyterthemes\n",
        "!pip install line_profiler\n",
        "!pip install psutil\n",
        "!pip install memory_profiler\n",
        "%matplotlib inline\n",
        "import numpy as np\n",
        "import scipy\n",
        "import matplotlib.pylab as plt\n",
        "import pandas as pd\n",
        "import plotly.express as px\n",
        "import plotly.graph_objects as go\n",
        "import plotly.io as pio\n",
        "\n",
        "from plotly.subplots import make_subplots\n",
        "from jupyterthemes import jtplot\n",
        "\n",
        "\n",
        "jtplot.style(theme='gruvboxd')"
      ],
      "execution_count": null,
      "outputs": []
    },
    {
      "cell_type": "markdown",
      "metadata": {
        "id": "JMy2Olp1KcvZ"
      },
      "source": [
        "# Integrace Funkce\n",
        "Integrace funkce patří mezi nejčastější problémy, se kterými se můžete setkat v praxi. Na rozdíl od učebnic, ve vetšině případů jsou funkce analyticky neintegrovatelné a jejich integrál je tak nutné hledat numerickou cestou. \n",
        "\n",
        "Celá podstata problému numerické integrace spočívá v obecně v aproximaci integrace funkce sumací jejich reprezentativních funkčních hodnot\n",
        "\n",
        "$$\n",
        "\\int_a^b f(x){\\rm d}x \\approx \\sum_{i=0}^{n-1}c_i f(x_i)\n",
        "$$\n",
        "\n",
        "Velkou skupinu tvoří integrační metody, které využívají k numerickému výpočtu interpolační funkci v podobě polynomu. Vzhledem k vlastnostem polynomu, především oscilaci polynomu vyšších řádu při interpolaci mezi body, jsou praxi využívány polynomy nižších řádu."
      ]
    },
    {
      "cell_type": "markdown",
      "metadata": {
        "id": "EF52Yi0_FS9Y"
      },
      "source": [
        "## Obdelníková metoda\n",
        "\n",
        "První metoda, kterí nás zcela jistě napadne, vychází z *Riemannovy* definice určitého integrálu. Integrál je nahrazen sumou ve tvaru\n",
        "\n",
        "\\begin{equation}\n",
        "\\sum_i^N f(x_i^*)(x_i-x_{i-1})\\,, x_i^* \\in [x_{i-1},x_i]\n",
        "\\end{equation}\n",
        "Výběr bodu je libovolný, v naší metodě použijeme střed intervalu\n",
        "\\begin{equation}\n",
        "\\int_a^b f(x){\\rm d}x = {\\Delta x}\\sum_{k=1}^N f\\left(\\frac{x_{k-1}+x_k}{2}\\right) \n",
        "\\end{equation}\n",
        "\n",
        "Když se zamyslíme, zjistíme že podstata metody je jednoduchá, nahrazujeme průběh funkce na daném intervalu konstantní funkcí, tedy polynomem nultého stupně."
      ]
    },
    {
      "cell_type": "code",
      "metadata": {
        "colab": {
          "base_uri": "https://localhost:8080/",
          "height": 388
        },
        "id": "OKQpvlOj7xVg",
        "outputId": "2d38db82-6524-4085-fc87-8ce5c909546a"
      },
      "source": [
        "a = 0    # left interval\n",
        "b = 1    # right interval\n",
        "N = 10  # number of points\n",
        "\n",
        "# Definition of function\n",
        "def fce(x):\n",
        "  return np.exp(-x**2)\n",
        "\n",
        "# Points for rectangle calculation\n",
        "x = np.linspace(a,b,N+1)\n",
        "\n",
        "# Points of graph\n",
        "x_plot = np.linspace(a,b,10*N+1)\n",
        "y_plot = fce(x_plot)\n",
        "\n",
        "plt.plot(x_plot,y_plot,'b')\n",
        "ax = plt.gca()\n",
        "ax.set_facecolor(\"w\")\n",
        "ax.grid(False)\n",
        "x_mid = (x[:-1] + x[1:])/2 # Midpoints\n",
        "y_mid = fce(x_mid)\n",
        "plt.plot(x_mid,y_mid,'b.',markersize=10,color='b')\n",
        "plt.bar(x_mid,y_mid,width=(b-a)/N,alpha=0.2,edgecolor='g', linewidth=1.0)\n",
        "plt.title('Obdelníková metoda, N = {}'.format(N))"
      ],
      "execution_count": null,
      "outputs": [
        {
          "output_type": "execute_result",
          "data": {
            "text/plain": [
              "Text(0.5, 1.0, 'Obdelníková metoda, N = 10')"
            ]
          },
          "metadata": {
            "tags": []
          },
          "execution_count": 30
        },
        {
          "output_type": "display_data",
          "data": {
            "image/png": "[encoded data removed]",
            "text/plain": [
              "<Figure size 460.8x403.2 with 1 Axes>"
            ]
          },
          "metadata": {
            "tags": []
          }
        }
      ]
    },
    {
      "cell_type": "markdown",
      "metadata": {
        "id": "tdiUXV3ZGs-k"
      },
      "source": [
        "### Algoritmus metody\n",
        "---\n",
        "* Stanovíme počet bodů $N+1$ na daném intervalu $(a,b)$.\n",
        "* Body $x_0,\\dots,x_{N+1}$ nám dělí interval na $N$ podintervalů.\n",
        "* V každém intervalu určíme střed $\\frac{x_{i-1}+x_{i}}{2}$ a v něm vyčíslíme integrovanou funkci.\n",
        "* Určíme odhad integralu podle vzorce $\\frac{b-a}{N}\\left(\n",
        "  \\sum_{i=1}^{N} f(\\frac{x_{i-1}+x_i}{2})\\right)$\n",
        "---\n",
        "### Úkol:\n",
        "S pomocí výše zmíněné metody integrujte funkci $e^{-x^2}$ na intervalu (0,1). Výsledek porovnejte s analytickým výrazem.\n"
      ]
    },
    {
      "cell_type": "code",
      "metadata": {
        "colab": {
          "base_uri": "https://localhost:8080/"
        },
        "id": "UYxHNNubyTRj",
        "outputId": "0051976b-5efc-4455-d964-0164b1e52e23"
      },
      "source": [
        "N = 1000\n",
        "\n",
        "# Function calculate integral using Riemann midpoint method\n",
        "def midpointInt(fce,a,b,n):\n",
        "  x = np.linspace(a,b,n+1)\n",
        "  sum_parentheses = (b-a)/((n))*(np.sum(fce((x[:-1]+x[1:])*0.5)))\n",
        "  return sum_parentheses\n",
        "\n",
        "midpointInt(fce,a,b,N)\n",
        "\n",
        "\n",
        "\n",
        "\n",
        "%timeit midpointInt(fce,a,b,N)\n",
        "\n",
        "%reload_ext line_profiler\n",
        "%lprun -f midpointInt midpointInt(fce,a,b,N)"
      ],
      "execution_count": null,
      "outputs": [
        {
          "output_type": "stream",
          "text": [
            "10000 loops, best of 5: 63.4 µs per loop\n"
          ],
          "name": "stdout"
        }
      ]
    },
    {
      "cell_type": "markdown",
      "metadata": {
        "id": "bh-2igxjK5IN"
      },
      "source": [
        "## Lichoběžníková metoda\n",
        "<img src='https://github.com/astroviki/NumericalMethods/blob/main/PDE/Images/trapez.png?raw=1' align='right'></img>\n",
        "Metoda spočívá v aproximaci určitého integrálu součtem obsahu lichoběžníků,\n",
        "\n",
        "\\begin{equation}\n",
        "\\int_a^b f(x){\\rm d}x = \\frac{\\Delta x}{2}\\sum_{k=1}^N (f(x_{k+1})+f(x_k)) = \\frac{b-a}{2N}\\left(f(x_1)+2f(x_2)+2f(x_3)+\\dots 2f(x_N)+f(x_{N+1})\\right),\n",
        "\\end{equation}\n",
        "\n",
        "které tvoří na daném intervalu $(a,b)$ sada $N$ ekvidistantních bodů.\n",
        "\n",
        "### Algoritmus\n",
        "\n",
        "* Stanovíme počet bodů $N$ na daném intervalu $(a,b)$, v těchto bodech vyčíslíme integrovanou funkci\n",
        "* Určíme odhad integralu podle vzorce $\\frac{b-a}{2N}\\left(f(x_1)+2f(x_2)+2f(x_3)+\\dots 2f(x_N)+f(x_{N+1})\\right)$"
      ]
    },
    {
      "cell_type": "code",
      "metadata": {
        "colab": {
          "base_uri": "https://localhost:8080/",
          "height": 354
        },
        "id": "Wxb8jnROIltS",
        "outputId": "6cf3605f-5a24-4f9d-9b20-4efc35aae92f"
      },
      "source": [
        "a = 0    # left interval\n",
        "b = 1    # right interval\n",
        "N = 4 # number of points\n",
        "\n",
        "# Definition of function\n",
        "def fce(x):\n",
        "  return np.exp(-x**2)\n",
        "\n",
        "# Points for rectangle calculation\n",
        "x = np.linspace(a,b,N+1)\n",
        "\n",
        "# Points of graph\n",
        "x_plot = np.linspace(a,b,10*N+1)\n",
        "y_plot = fce(x_plot)\n",
        "\n",
        "plt.plot(x_plot,y_plot,'black')\n",
        "ax = plt.gca()\n",
        "ax.set_facecolor('w')\n",
        "ax.grid(False)\n",
        "for i in range(N):\n",
        "  plt.fill_between([x[i],x[i+1]],[fce(x[i]),fce(x[i+1])],color='b',linewidth=0.1,edgecolor='black')\n"
      ],
      "execution_count": null,
      "outputs": [
        {
          "output_type": "display_data",
          "data": {
            "image/png": "[encoded data removed]",
            "text/plain": [
              "<Figure size 460.8x403.2 with 1 Axes>"
            ]
          },
          "metadata": {
            "tags": []
          }
        }
      ]
    },
    {
      "cell_type": "code",
      "metadata": {
        "id": "92fcJOTPts5N"
      },
      "source": [
        "def trapz(f,a,b,N=50):\n",
        "    '''Approximate the integral of f(x) from a to b by the trapezoid rule.\n",
        "\n",
        "    The trapezoid rule approximates the integral \\int_a^b f(x) dx by the sum:\n",
        "    (dx/2) \\sum_{k=1}^N (f(x_k) + f(x_{k-1}))\n",
        "    where x_k = a + k*dx and dx = (b - a)/N.\n",
        "\n",
        "    Parameters\n",
        "    ----------\n",
        "    f : function\n",
        "        Vectorized function of a single variable\n",
        "    a , b : numbers\n",
        "        Interval of integration [a,b]\n",
        "    N : integer\n",
        "        Number of subintervals of [a,b]\n",
        "\n",
        "    Returns\n",
        "    -------\n",
        "    float\n",
        "        Approximation of the integral of f(x) from a to b using the\n",
        "        trapezoid rule with N subintervals of equal length.\n",
        "\n",
        "    Examples\n",
        "    --------\n",
        "    >>> trapz(np.sin,0,np.pi/2,1000)\n",
        "    0.9999997943832332\n",
        "    '''\n",
        "    x = np.linspace(a,b,N+1) # N+1 points make N subintervals\n",
        "    y = f(x)\n",
        "    y_right = y[1:] # right endpoints\n",
        "    y_left = y[:-1] # left endpoints\n",
        "    dx = (b - a)/N\n",
        "    T = (dx/2) * np.sum(y_right + y_left)\n",
        "    return T"
      ],
      "execution_count": null,
      "outputs": []
    },
    {
      "cell_type": "markdown",
      "metadata": {
        "id": "Qvq0TksRsx65"
      },
      "source": [
        "### Úkoly:\n",
        "\n",
        "*   Opakujte integraci funkce $e^{-x^2}$ na intervalu (0,1)\n",
        "*   Porovnejte rychlost konvergence s předchozí metodou\n",
        "\n"
      ]
    },
    {
      "cell_type": "markdown",
      "metadata": {
        "id": "Dg6nHcuTQV1T"
      },
      "source": [
        "## Simpsonova metoda\n",
        " \n",
        " Metoda spočívá v aproximaci určitého integrálu součtem obsahu parabol,\n",
        "\n",
        "\\begin{equation}\n",
        "\\int_a^b f(x){\\rm d}x = \\frac{\\Delta x}{3}\\left(f(x_0)+\\sum_{j=1}^{n/2-1}f(x_{2j})+4\\sum_{j=1}^{n/2}f(x_{2j-1})+f(x_n)\\right)\n",
        "\\end{equation}\n",
        "\n",
        "kde $x_j = a + jh$, $x_0=a$ a $x_n=b$.\n",
        "\n",
        "### Algoritmus\n",
        "Oprava koeficientu\n",
        "* Předem určíme **sudý** počet bodů $N$ na daném intervalu $(a,b)$, v těchto bodech vyčíslíme integrovanou funkci\n",
        "* Určíme odhad integralu podle vzorce $\\frac{b-a}{3N}\\left(f(x_0)+f(x_2)+4f(x_3)+f(x_4)+4f(x_5)\\dots 4f(x_{N-1})+f(x_N)+f(x_{N+1})\\right)$  \n",
        "\n",
        "---\n",
        "### Nástin odvození vzorce\n",
        "\n",
        "Nastíním jednodouché odvození vztahu integrace Simpsonovou metodou. Pro zjednodušení výpočtů umístíme startovní bod do bodu $(0,y_1)$\n",
        "\n",
        "Naším úkolem bude určit obsah plochy pod parabolou \n",
        "$$ \n",
        "y = ax^2+bx+c \n",
        "$$\n",
        "\n",
        "mezi body $ x_0 = -h$ a $x_3 =h$. Dle zadání parabola prochází body $(x_0,y_0),(x_1,y_1),(x_2,y_2)$ přičemž vzdálenosti mezi body $x_1-x_0 = x_2-x_1 =\\Delta x$\n",
        "\n",
        "\n",
        "Pro obsach plochy platí,\n",
        "\n",
        "\\begin{equation}\n",
        "A = \\int_{-h}^{h}(ax^2+bx+c){\\rm d}x = \\left[\\frac{ax^3}{3}+\\frac{bx^2}{2}+cx\\right]_{-h}^{h}\n",
        "\\end{equation}\n",
        "\n",
        "\\begin{equation}\n",
        "A = \\left(\\frac{ah^3}{3}+\\frac{bh^2}{2}+ch\\right)-\\left(-\\frac{ah^3}{3}+\\frac{bh^2}{2}-ch\\right) = \\frac{2ah^3}{3}+2ch = \\frac{h}{3}\\left(2ah^2+6c\\right)\n",
        "\\end{equation}\n",
        "\n",
        "Výraz dále upravíme a to použitím průchozích bodů, které dosadíme do obecné rovnice paraboly. \n",
        "\n",
        "\\begin{eqnarray}\n",
        "y_0 &=& ah^2-bh +c \\\\\n",
        "y_1 &=& c \\\\\n",
        "y_2 &=& ah^2+bh+c\n",
        "\\end{eqnarray}\n",
        "\n",
        "Z těchto rovnic můžeme vyjádřit \n",
        "\n",
        "\\begin{eqnarray}\n",
        "c &=& y_1 \\\\\n",
        "2ah^2 &=& y_0 - 2y_1 + y_2\n",
        "\\end{eqnarray}\n",
        "\n",
        "To nám umožńuje upravit vzorec \n",
        "\n",
        "\\begin{equation}\n",
        "A_1 = \\frac{h}{3}\\left(y_0-2y_1+y_2+6y_1\\right) = \\frac{h}{3}\\left(y_0+4y_1+y_2\\right)\n",
        "\\end{equation}\n",
        "\n",
        "Pro následující sadu tří bodu obdobně platí\n",
        "\n",
        "\\begin{equation}\n",
        "A_2 =  \\frac{h}{3}\\left(y_2+4y_3+y_4\\right)\n",
        "\\end{equation}\n",
        "\n",
        "\\begin{equation}\n",
        "A_{1+2} = \\frac{h}{3}\\left(y_0+4y_1+2y_2+4y_3+y_4\\right)\n",
        "\\end{equation}\n",
        "\n",
        "Přidámeli další sadu  tří bodů můžeme psát pro výslednou plochu\n",
        "\n",
        "\\begin{equation}\n",
        "A_{1+2+3} = \\frac{h}{3}\\left(y_0+4y_1+2y_2+4y_3+2y_4+4y_5+y_6\\right)\n",
        "\\end{equation}\n",
        "\n",
        "---\n",
        "\n",
        "### Úkoly\n",
        "* Porovnejte rychlost konvergence s předchozími metodami na stejném příkladě.\n",
        "* Integrujte funkci $sin(x)$ na intervalu $0,\\pi$\n",
        "* Napište obecný algoritmus, který by vhodnou volbou parametru byl schopen integrovat jednou z uvedených metod. \n",
        "---"
      ]
    },
    {
      "cell_type": "code",
      "metadata": {
        "colab": {
          "base_uri": "https://localhost:8080/"
        },
        "id": "Go93EnpCu8b2",
        "outputId": "b3434d8e-76ad-486a-be78-97c851d21723"
      },
      "source": [
        "import numpy as np\n",
        "\n",
        "a = 0\n",
        "b = np.pi\n",
        "n = 11\n",
        "h = (b - a) / (n - 1)\n",
        "x = np.linspace(a, b, n)\n",
        "f = np.sin(x)\n",
        "\n",
        "def IntegralSimpson(fce,a,b,n):\n",
        "  h = (b - a) / (n - 1)\n",
        "  integral = h/3* (fce[0] + 2*sum(fce[:n-2:2]) \\\n",
        "            + 4*sum(fce[1:n-1:2]) + fce[n-1])\n",
        "  return integral\n",
        "\n",
        "chyba = IntegralSimpson(f,a,b,n) - 2.0\n",
        "print('Odhad integralu: %.4f s chybou %.4f' % (IntegralSimpson(f,a,b,n),chyba))"
      ],
      "execution_count": null,
      "outputs": [
        {
          "output_type": "stream",
          "text": [
            "Odhad integralu: 2.0001 s chybou 0.0001\n"
          ],
          "name": "stdout"
        }
      ]
    },
    {
      "cell_type": "markdown",
      "metadata": {
        "id": "rnyg3KnPBms2"
      },
      "source": [
        "## Newtonův - Cotesův vzorec\n",
        "Připomeňme si postup numerické integrace, úlohu můžeme formulovat jako\n",
        "$$\n",
        "\\int_a^b f(x) \\approx \\sum_{i=0}^n w_i f(x_i)\n",
        "$$\n",
        "\n",
        "Klíčové je určení vah $w_i$. Jedoduše si ukážeme,že váhy jsou odvozené z Lagrangeových interpolačních polynomů. Nezávisejí na funkci $f$, ale pouze na $x_i$. Nechť $L(x)$ je interpolační polynom v Lagrangeově tvaru pro dané datové body $(x_0, f(x_0)), …, (x_n, f(x_n))$, pak \n",
        "$$\n",
        "\\int_a^b f(x) \\approx \\int_a^b L(x){\\rm d}x = \\int_a^b \\left( \\sum_{i=0}^n f(x_i) l_i(x)\\right) {\\rm d}x = \\sum_{i=0}^n f(x_i) \\int_a^b l_i(x){\\rm d}x\n",
        "$$\n",
        "tedy váhy jsou dány integrálem z lagrangeových monomialů\n",
        "$$\n",
        "w_i = \\int_a^b l_i(x){\\rm d}x\n",
        "$$"
      ]
    },
    {
      "cell_type": "markdown",
      "metadata": {
        "id": "2fyhkgNCM5W9"
      },
      "source": [
        "## Gaussova metoda\n",
        "\n",
        "V předchozích vztazích jsme vždy hledali pro zadané body $x_0,x_1,x_2,\\dots x_{n-1},x_n$ odpovídající váhy $w_0,w_1,\\dots,w_{n-1},w_n$, tak abychom dosáhli co nejlepšího odhadu integrálu funkce $\\int_a^b f(x){\\rm d}x$ na zvoleném intervalu $(a,b)$. Fixace bodů, ve kterých vyčíslujeme integrovanou funkci může mít zásadní vliv na přesnost, bylo by tedy vhodné tuto restrikci uvolnit.\n",
        "\n",
        "Přesně tuto myšlenku využívá *Gaussova metoda*, která požaduje aby numerická integrace \n",
        "\n",
        "$$\n",
        "\\int_a^b f(x){\\rm d}x = \\sum_{m=1}^N w_m f(x_m)\n",
        "$$\n",
        "\n",
        "byla exaktní pro polynom řádu $2N-1$. Tento požadavek určuje velikost vah i pozice bodů. Pro zjednodušení liustrace postupu uvažme funkci $f(x)=c_0+c_1x+c_2x^2+c_3x^3$ na intervalu $[-1,1]$. Naše nové zadání zní najít takovou sadu 2 bodů $x_0,x_1$ a odpovídající sadu vah $w_0,w_1$, pro které bude platit\n",
        "\n",
        "$$\n",
        "\\int_a^b f(x){\\rm d}x = w_0f(x_0)+w_1f(x_1)\n",
        "$$\n",
        "\n",
        "Z předchozího vztahu plyne\n",
        "$$\n",
        "\\int_{-1}^{1}(c_0+c_1x+c_2x^2+c_3x^3){\\rm d}x =  w_0(c_0+c_1x_0+c_2x_0^2+c_3x_0^3)+w_1(c_0+c_1x_1+c_2x_1^2+c_3x_1^3)\n",
        "$$\n",
        "\n",
        "Přeuspořádáním členů v rovnici, tak abychom k sobě dostali koeficienty $c_0,c_1,c_2,c_3$\n",
        "\n",
        "$$\n",
        "c_0\\left(w_0+w_1 - \\int_{-1}^1 {\\rm d}x\\right) +\n",
        "c_1\\left(w_0x_0+w_1x_1- \\int_{-1}^1 {x\\rm d}x\\right)+\n",
        "c_2\\left(w_0x_0^2+w_1x_1^2-\\int_{-1}^1 x^2 {\\rm d}x\\right)+\n",
        "c_3\\left(w_0x_0^3+w_1x_1^3-\\int_{-1}^1 x^3 {\\rm d}x\\right) = 0\n",
        "$$\n",
        "\n",
        "Členy $c_0,c_1,c_2,c_3$ jsou zvoleny náhodně, prot musí pro jejich koeficienty platit, že jsou nulové. Jinak řečeno\n",
        "\n",
        "\\begin{eqnarray}\n",
        "w_0 + w_1 = \\int_{-1}^1 {\\rm d}x = 2 \\\\\n",
        "w_0x_0+w_1x_1 = \\int_{-1}^1x{\\rm d}x = 0\\\\\n",
        "w_0x_0^2+w_1x_1^2 =\\int_{-1}^1x^2{\\rm d}x = \\frac{2}{3} \\\\\n",
        "w_0x_0^3+w_1x_1^3 = \\int_{-1}^1x^3{\\rm d}x = 0\n",
        "\\end{eqnarray}\n",
        "\n",
        "Řešení této nelineární soustavy rovnic je sada $w_0 = 1, w_1 = 1, x_0 = -\\frac{\\sqrt{3}}{3}, x_1 = \\frac{\\sqrt{3}}{3}$. Výsledný vztah pro výpočet integrálu \n",
        "\n",
        "$$\n",
        "\\int_{-1}^{1}f(x){\\rm d}x=f\\left(-\\frac{\\sqrt{3}}{3}\\right)+f\\left(\\frac{\\sqrt{3}}{3}\\right)\n",
        "$$\n",
        "\n",
        "Hodnoty vah a bodů lye určit pro libovolný počet bodů. \n",
        "<img src='https://github.com/astroviki/NumericalMethods/blob/main/PDE/Images/GaussLookUpTable.PNG?raw=1' align='right'></img>"
      ]
    },
    {
      "cell_type": "code",
      "metadata": {
        "id": "s6AUekYqwdO0"
      },
      "source": [
        "def my_f(x):\n",
        "    return 2*x**2 - 3*x +15 \n",
        "    \n",
        "def gauss(f,n,a,b):\n",
        "    [x,w] = p_roots(n+1)\n",
        "    G=0.5*(b-a)*sum(w*f(0.5*(b-a)*x+0.5*(b+a)))\n",
        "    return G"
      ],
      "execution_count": null,
      "outputs": []
    },
    {
      "cell_type": "markdown",
      "metadata": {
        "id": "5GF3sv72aqOh"
      },
      "source": [
        "## Monte Carlo metoda\n",
        "\n",
        "Všechny předchozí diskutované metody použivali pro určení odhadu integrálu aproximaci funkce s pomocí polynomu. Následující metoda využívá úplně jiného principu a to náhodných čísel. Podle svého principu, který je založen na náhodných číslech a statistice se nazývá metodou *Monte Carlo*\n",
        "\n",
        "Pro ilustraci principu si integrál funkce napíšeme trochu jinak. Řekněme, že chceme zjistit průměrnou hodnotu funkce $f(x)$ na intervalu $[a,b]$. Z definice platí\n",
        "\n",
        "$$\n",
        "\\frac{1}{b-a}\\int_{a}^bf(x){\\rm d}x =<f>\n",
        "$$\n",
        "\n",
        "To ale znamená, že pokud známě průměrnou hodnotu funkce, můžeme určit hodnotu integrálu\n",
        "\n",
        "$$\n",
        "\\int_{a}^{b}f(x){\\rm d}x = (b-a)<f>\n",
        "$$\n",
        "\n",
        "Takže náš úkol je, jak nalézt nejlepší odhad průměrné hodnoty zadané funkce. A zde přichází na scénu náhodná čísla. Mějme sadu náhodných čísel, rovnoměrně rozložených v rámci intervalu $[a,b]$. K určení průměrné hodnoty funkce nám stačí spočítat hodnotu funkce v náhodných bodech $f(x_i)$\n",
        "\n",
        "$$\n",
        "<f>_N=\\frac{1}{N}\\sum_{i=1}^{N}f(x_i)\n",
        "$$\n",
        "\n",
        "a pro výsledný odhad integrálu metodou *Monte Carlo* můžeme psát\n",
        "\n",
        "$$\n",
        "\\int_a^bf(x){\\rm d}x \\approx (b-a)\\frac{1}{N}\\sum_{i=1}^N f(x_i).\n",
        "$$"
      ]
    },
    {
      "cell_type": "code",
      "metadata": {
        "colab": {
          "base_uri": "https://localhost:8080/"
        },
        "id": "e2MMBD2kB0Km",
        "outputId": "b73639e8-df1a-4171-8b7c-fdf9ec45c214"
      },
      "source": [
        "N = 1000\n",
        "a = 0.0\n",
        "b = 1.0\n",
        "\n",
        "# Integrovaná funkce\n",
        "def fce(x):\n",
        "  return np.exp(x)\n",
        "\n",
        "# Funkce pro výpočet integrálu metodou MonteCarlo\n",
        "#\n",
        "def integralMC(fce,a,b,n):\n",
        "  x = np.random.uniform(a,b,n)\n",
        "  return 1.0/n*np.sum(fce(x))*(b-a)\n",
        "\n",
        "print('Integral odhad: %.4f versus analytický výpočet: %.4f' % (integralMC(fce,a,b,N),np.exp(1)-1.0))"
      ],
      "execution_count": null,
      "outputs": [
        {
          "output_type": "stream",
          "text": [
            "Integral odhad: 1.6986 versus analytický výpočet: 1.7183\n"
          ],
          "name": "stdout"
        }
      ]
    },
    {
      "cell_type": "markdown",
      "metadata": {
        "id": "dPHTGruCQur3"
      },
      "source": [
        "## Vybrané úlohy:\n",
        "\n",
        "### Příklad 1. Určení parametrů  exoplanety\n",
        "Oprava ulohy, sptane vzorec , chybne\n",
        "---\n",
        "Výzkum a hledání nových exoplanet prožívá v současné době bouřlivý rozvoj. Jedním ze základních úkolů je stanovení jejich základních fyzikálních vlastností. Naneštěstí přímo z pozorování lze většinou stanovit pouze jednu ze základních vlastností, nejčastěji její hmotnost resp. její poloměr. Ostatní vlastnosti musíme určit z modelování jejich vlastností. \n",
        "\n",
        "Pokud je známa hmotnost planety, velmi hrubý odhad jejího poloměru můžeme stanovit z předpokladu určitého složení (průměrné hustoty) a rovnoměrného rozložení (ne příliš přesný předpoklad). Například planeta [Gliese 832c](https://en.wikipedia.org/wiki/Gliese_832_c) s hmotností $M=5.40\\,M_{Země}$, pokud předpokládáme podobné složení jako má Země, tedy $\\rho_{Země}=5520$ $\\text{kg.m}^3$, dostáváme $R_{g832c}=(\\frac{3M}{4\\pi\\rho})^{1/3}≈1.75\\,R_{Země}$\n",
        "\n",
        "Tento odhad by platil za předpokladu, že je složení stejné jako Země. Realističtější odhad můžeme dostat použitím předpokládaného profilu hustoty\n",
        "\n",
        "$$\n",
        "\\rho(r) = \\rho_0 \\exp{(-rL)}\n",
        "$$\n",
        "\n",
        "kde $rho_0$ je hustota ve středu planety a $L$ je charakteristická délka, která závisí na složení. Z numerického modelování vnitřní struktury planet, odhad parametrů pro příklad planety s hmotností $M = 5.40\\,M_{Země}$ je zhruba $\\rho_0 = 18000$ kg/m3 a $L=6500$ km.\n",
        "\n",
        "* Integrací přes objem planety a hledáním kořene odhadněte poloměr planety\n",
        "$$\n",
        "M(R) = 4\\pi \\int_0^R R_0 \\rho(r) r^2 {\\rm d}r \n",
        "$$\n",
        " a hledáním kořene \n",
        "$$\n",
        "M(R) - M_{\\rm observe} = 0\n",
        "$$\n",
        " odhadněte poloměr planety.\n",
        "\n",
        "\n",
        "---\n",
        "### Příklad 2. Model vesmíru\n",
        "\n",
        "Řešením Friedmanových rovnic můžeme studovat chování vesmíru, jeho vývoj v čase a to v závislosti na množství a typu hmoty, kterou obsahuje. Než se pustíme do vlastního studia, připomeneme pár veličin a vzorců, charakteristických pro tuto problematiku. \n",
        "\n",
        "Množství hmoty ve vesmíru se udává v poměru ke kritické hustotě vesmíru\n",
        "$$\n",
        "\\rho_c = \\frac{3H_0^2}{8\\pi G}\n",
        "$$ \n",
        "kde $H_0$ je aktuální hodnota Hubblovy konstanty na rozdíl od \n",
        "$$\n",
        "H(t)=\\frac{\\dot{a}}{a}\n",
        "$$\n",
        "vývoje Hubbleova parametru na čase, vyjádřeném jako poměr mezi rychlostí změny škálovacího parametru $\\dot{a}$ a škálovacího parametru samotného $a$.\n",
        "\n",
        "Kritická hustota $\\rho_c$ je hustota hmoty vesmíru, při kterém je vesmír plochý, euklidovský. Hustotní parameter \n",
        "$$\n",
        "\\Omega_{i,0}=\\frac{\\rho_{i,0}}{\\rho_{\\rm crit}}\n",
        "$$ \n",
        "nám vyjadřuje aktuální ($z=0$) daného množství (typ $i$) hmoty. Friedmanovu rovnici můžeme přepsat s pomocí hustotního parametru na následující tvar\n",
        "$$\n",
        "\\frac{H^2(t)}{H_0^2}=(1-\\Omega_0)(1+z)^2+\\Omega_{m,0}(1+z)^3+\\Omega_{r,0}(1+z)^4+\\Omega_{\\Lambda,0}\n",
        "$$\n",
        "kde $\\Omega_{m,0},\\Omega_{r,0},\\Omega_{\\Lambda,0}$ označují hustotní parametr pro hmotu, záření a energii vakua. $\\Omega_0$ je celková hustota včetně energie vakua. Místo závislosti na rudém posuvu, lze výraz vyjádřit jako funkci škalovacího faktoru s pomocí vztahu\n",
        "$$\n",
        "1+z = \\frac{1}{a}\n",
        "$$\n",
        " uprávama dostáváme\n",
        " $$\n",
        " H_0^{-1}\\dot{a}=\\left[\\frac{\\Omega_{r,0}}{a^2}+\\frac{\\Omega_{m,0}}{a}+\\Omega_{\\Lambda,0}a^2+(1-\\Omega_0)\\right]^{1/2}\n",
        " $$\n",
        "Z takto upravené Friedmanovy rovnice lze zjistit stáří vesmíru. Stačí provést integraci\n",
        "$$\n",
        "t_{\\rm age} =\\int_0^{a}\\frac{{\\rm d}a}{\\left[\\Omega_{r,0}/a^2+\\Omega_{m,0}/a+\\Omega_{\\Lambda,0}a^2+(1-\\Omega_0)\\right]^{1/2}}\n",
        "$$\n",
        "Stačí jen znát hodnoty hustotních parametrů. \n",
        "** Určete stáří vesmíru na základě hodnot hustotních parametrů změřených družicí WMPAP: $\\Omega_M = 0.266,\\Omega_R=8.24\\,10^{-5},\\,\\Omega_{\\Lambda}=0.734$.\n"
      ]
    },
    {
      "cell_type": "markdown",
      "metadata": {
        "id": "8DehcU3wA7eq"
      },
      "source": [
        "## Lagrangeův interpolační polynom\n",
        "\n",
        "Chceme-li interpolovat funkci, která je dána $n+1$ hodnotami v $f(x_0),f(x_1),..f(x_n)$.  Body $x i$ nazýváme uzly interpolace. Jinak řečeno požadujeme, aby hledaná funkce procházela zadanými body. K řešení úkolu můžeme použít interpolaci Lagrangeovým interpolačním polynomem. Interpolační funkce nám potom poslouží k získání polynomu procházejícím všemi body na intervalu $<x_0, x_n >$.\n",
        "\n",
        "Máme-li zadány hodnoty funkce $f$ v $n + 1$ různých bodech, tzn. máme zadáno $n + 1$  tzv. interpolačních podmínek pro polynom, je zřejmé, že stupeň hledaného polynomu bude n. Lze ukázat, že mezi všemi polynomy nejvýše n-tého stupně existuje právě jeden, který je interpolačním polynomem pro zadanou funkci. Pro určení interpolačního polynomu existuje několik postupů, ale je třeba si uvědomit, že pro zadanou funkci všechny postupy určí stejný polynom.\n",
        "\n",
        "Lagrangeův interpolační polynom je jedním ze známějších a také snadných způsobů interpolace funkce zadané pouze v diskrétních bodech. "
      ]
    },
    {
      "cell_type": "code",
      "metadata": {
        "colab": {
          "base_uri": "https://localhost:8080/"
        },
        "id": "CTI10xF18QpV",
        "outputId": "26ce8d63-7375-4cfe-a827-ab1ae7d75485"
      },
      "source": [
        "## Lagrangeov polynom - konstrukce\n",
        "def lagrange_polynomial(x_points,y_points):\n",
        "  order = 3\n",
        "  matrix= np.zeros((order,order))\n",
        "  for j in range(order):\n",
        "    for i in range(order):\n",
        "      matrix[i,j] = x_points[j]**(i)\n",
        "  rhs = y_points\n",
        "  return np.linalg.solve(matrix,rhs)\n",
        "\n",
        "# Test interpolace\n",
        "x_points = np.array([-1,0,1])\n",
        "y_points = np.array([1,0,1])\n",
        "\n",
        "print(lagrange_polynomial(x_points,y_points))\n",
        "\n",
        "\n",
        "\n"
      ],
      "execution_count": null,
      "outputs": [
        {
          "output_type": "stream",
          "text": [
            "[[ 1.  1.  1.]\n",
            " [-1.  0.  1.]\n",
            " [ 1.  0.  1.]]\n",
            "[0.5 0.  0.5]\n"
          ],
          "name": "stdout"
        }
      ]
    }
  ]
}