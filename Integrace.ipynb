{
  "nbformat": 4,
  "nbformat_minor": 0,
  "metadata": {
    "colab": {
      "name": "Integrace.ipynb",
      "provenance": [],
      "toc_visible": true,
      "authorship_tag": "ABX9TyOvWapWyuRjbvRf+JlnxN0j",
      "include_colab_link": true
    },
    "kernelspec": {
      "name": "python3",
      "display_name": "Python 3"
    },
    "language_info": {
      "name": "python"
    }
  },
  "cells": [
    {
      "cell_type": "markdown",
      "metadata": {
        "id": "view-in-github",
        "colab_type": "text"
      },
      "source": [
        "<a href=\"https://colab.research.google.com/github/astroviki/NumericalMethods/blob/main/Integrace.ipynb\" target=\"_parent\"><img src=\"https://colab.research.google.com/assets/colab-badge.svg\" alt=\"Open In Colab\"/></a>"
      ]
    },
    {
      "cell_type": "code",
      "metadata": {
        "colab": {
          "base_uri": "https://localhost:8080/"
        },
        "id": "aRPnXi_TKLZK",
        "outputId": "66995471-c509-4132-8e34-5496ad9ffcbb"
      },
      "source": [
        "# for Table of Contents use:\n",
        "#\n",
        "# pip install jupyter_contrib_nbextensions\n",
        "# jupyter contrib nbextension install --sys-prefix\n",
        "# jupyter nbextension enable scratchpad/main --sys-prefix\n",
        "#\n",
        "!pip install jupyterthemes\n",
        "%matplotlib inline\n",
        "import numpy as np\n",
        "import scipy\n",
        "import matplotlib.pylab as plt\n",
        "import pandas as pd\n",
        "import plotly.express as px\n",
        "import plotly.graph_objects as go\n",
        "import plotly.io as pio\n",
        "\n",
        "from plotly.subplots import make_subplots\n",
        "from jupyterthemes import jtplot\n",
        "\n",
        "\n",
        "jtplot.style(theme='gruvboxd')"
      ],
      "execution_count": 1,
      "outputs": [
        {
          "output_type": "stream",
          "text": [
            "Requirement already satisfied: jupyterthemes in /usr/local/lib/python3.7/dist-packages (0.20.0)\n",
            "Requirement already satisfied: notebook>=5.6.0 in /usr/local/lib/python3.7/dist-packages (from jupyterthemes) (6.3.0)\n",
            "Requirement already satisfied: lesscpy>=0.11.2 in /usr/local/lib/python3.7/dist-packages (from jupyterthemes) (0.14.0)\n",
            "Requirement already satisfied: matplotlib>=1.4.3 in /usr/local/lib/python3.7/dist-packages (from jupyterthemes) (3.2.2)\n",
            "Requirement already satisfied: ipython>=5.4.1 in /usr/local/lib/python3.7/dist-packages (from jupyterthemes) (5.5.0)\n",
            "Requirement already satisfied: jupyter-core in /usr/local/lib/python3.7/dist-packages (from jupyterthemes) (4.7.1)\n",
            "Requirement already satisfied: argon2-cffi in /usr/local/lib/python3.7/dist-packages (from notebook>=5.6.0->jupyterthemes) (20.1.0)\n",
            "Requirement already satisfied: jupyter-client>=5.3.4 in /usr/local/lib/python3.7/dist-packages (from notebook>=5.6.0->jupyterthemes) (5.3.5)\n",
            "Requirement already satisfied: nbconvert in /usr/local/lib/python3.7/dist-packages (from notebook>=5.6.0->jupyterthemes) (5.6.1)\n",
            "Requirement already satisfied: jinja2 in /usr/local/lib/python3.7/dist-packages (from notebook>=5.6.0->jupyterthemes) (2.11.3)\n",
            "Requirement already satisfied: ipykernel in /usr/local/lib/python3.7/dist-packages (from notebook>=5.6.0->jupyterthemes) (4.10.1)\n",
            "Requirement already satisfied: traitlets>=4.2.1 in /usr/local/lib/python3.7/dist-packages (from notebook>=5.6.0->jupyterthemes) (5.0.5)\n",
            "Requirement already satisfied: nbformat in /usr/local/lib/python3.7/dist-packages (from notebook>=5.6.0->jupyterthemes) (5.1.2)\n",
            "Requirement already satisfied: Send2Trash>=1.5.0 in /usr/local/lib/python3.7/dist-packages (from notebook>=5.6.0->jupyterthemes) (1.5.0)\n",
            "Requirement already satisfied: ipython-genutils in /usr/local/lib/python3.7/dist-packages (from notebook>=5.6.0->jupyterthemes) (0.2.0)\n",
            "Requirement already satisfied: pyzmq>=17 in /usr/local/lib/python3.7/dist-packages (from notebook>=5.6.0->jupyterthemes) (22.0.3)\n",
            "Requirement already satisfied: terminado>=0.8.3 in /usr/local/lib/python3.7/dist-packages (from notebook>=5.6.0->jupyterthemes) (0.9.3)\n",
            "Requirement already satisfied: prometheus-client in /usr/local/lib/python3.7/dist-packages (from notebook>=5.6.0->jupyterthemes) (0.9.0)\n",
            "Requirement already satisfied: tornado>=6.1 in /usr/local/lib/python3.7/dist-packages (from notebook>=5.6.0->jupyterthemes) (6.1)\n",
            "Requirement already satisfied: six in /usr/local/lib/python3.7/dist-packages (from lesscpy>=0.11.2->jupyterthemes) (1.15.0)\n",
            "Requirement already satisfied: ply in /usr/local/lib/python3.7/dist-packages (from lesscpy>=0.11.2->jupyterthemes) (3.11)\n",
            "Requirement already satisfied: pyparsing!=2.0.4,!=2.1.2,!=2.1.6,>=2.0.1 in /usr/local/lib/python3.7/dist-packages (from matplotlib>=1.4.3->jupyterthemes) (2.4.7)\n",
            "Requirement already satisfied: cycler>=0.10 in /usr/local/lib/python3.7/dist-packages (from matplotlib>=1.4.3->jupyterthemes) (0.10.0)\n",
            "Requirement already satisfied: kiwisolver>=1.0.1 in /usr/local/lib/python3.7/dist-packages (from matplotlib>=1.4.3->jupyterthemes) (1.3.1)\n",
            "Requirement already satisfied: numpy>=1.11 in /usr/local/lib/python3.7/dist-packages (from matplotlib>=1.4.3->jupyterthemes) (1.19.5)\n",
            "Requirement already satisfied: python-dateutil>=2.1 in /usr/local/lib/python3.7/dist-packages (from matplotlib>=1.4.3->jupyterthemes) (2.8.1)\n",
            "Requirement already satisfied: pexpect; sys_platform != \"win32\" in /usr/local/lib/python3.7/dist-packages (from ipython>=5.4.1->jupyterthemes) (4.8.0)\n",
            "Requirement already satisfied: decorator in /usr/local/lib/python3.7/dist-packages (from ipython>=5.4.1->jupyterthemes) (4.4.2)\n",
            "Requirement already satisfied: prompt-toolkit<2.0.0,>=1.0.4 in /usr/local/lib/python3.7/dist-packages (from ipython>=5.4.1->jupyterthemes) (1.0.18)\n",
            "Requirement already satisfied: setuptools>=18.5 in /usr/local/lib/python3.7/dist-packages (from ipython>=5.4.1->jupyterthemes) (54.2.0)\n",
            "Requirement already satisfied: pickleshare in /usr/local/lib/python3.7/dist-packages (from ipython>=5.4.1->jupyterthemes) (0.7.5)\n",
            "Requirement already satisfied: pygments in /usr/local/lib/python3.7/dist-packages (from ipython>=5.4.1->jupyterthemes) (2.6.1)\n",
            "Requirement already satisfied: simplegeneric>0.8 in /usr/local/lib/python3.7/dist-packages (from ipython>=5.4.1->jupyterthemes) (0.8.1)\n",
            "Requirement already satisfied: cffi>=1.0.0 in /usr/local/lib/python3.7/dist-packages (from argon2-cffi->notebook>=5.6.0->jupyterthemes) (1.14.5)\n",
            "Requirement already satisfied: entrypoints>=0.2.2 in /usr/local/lib/python3.7/dist-packages (from nbconvert->notebook>=5.6.0->jupyterthemes) (0.3)\n",
            "Requirement already satisfied: mistune<2,>=0.8.1 in /usr/local/lib/python3.7/dist-packages (from nbconvert->notebook>=5.6.0->jupyterthemes) (0.8.4)\n",
            "Requirement already satisfied: defusedxml in /usr/local/lib/python3.7/dist-packages (from nbconvert->notebook>=5.6.0->jupyterthemes) (0.7.1)\n",
            "Requirement already satisfied: bleach in /usr/local/lib/python3.7/dist-packages (from nbconvert->notebook>=5.6.0->jupyterthemes) (3.3.0)\n",
            "Requirement already satisfied: pandocfilters>=1.4.1 in /usr/local/lib/python3.7/dist-packages (from nbconvert->notebook>=5.6.0->jupyterthemes) (1.4.3)\n",
            "Requirement already satisfied: testpath in /usr/local/lib/python3.7/dist-packages (from nbconvert->notebook>=5.6.0->jupyterthemes) (0.4.4)\n",
            "Requirement already satisfied: MarkupSafe>=0.23 in /usr/local/lib/python3.7/dist-packages (from jinja2->notebook>=5.6.0->jupyterthemes) (1.1.1)\n",
            "Requirement already satisfied: jsonschema!=2.5.0,>=2.4 in /usr/local/lib/python3.7/dist-packages (from nbformat->notebook>=5.6.0->jupyterthemes) (2.6.0)\n",
            "Requirement already satisfied: ptyprocess; os_name != \"nt\" in /usr/local/lib/python3.7/dist-packages (from terminado>=0.8.3->notebook>=5.6.0->jupyterthemes) (0.7.0)\n",
            "Requirement already satisfied: wcwidth in /usr/local/lib/python3.7/dist-packages (from prompt-toolkit<2.0.0,>=1.0.4->ipython>=5.4.1->jupyterthemes) (0.2.5)\n",
            "Requirement already satisfied: pycparser in /usr/local/lib/python3.7/dist-packages (from cffi>=1.0.0->argon2-cffi->notebook>=5.6.0->jupyterthemes) (2.20)\n",
            "Requirement already satisfied: webencodings in /usr/local/lib/python3.7/dist-packages (from bleach->nbconvert->notebook>=5.6.0->jupyterthemes) (0.5.1)\n",
            "Requirement already satisfied: packaging in /usr/local/lib/python3.7/dist-packages (from bleach->nbconvert->notebook>=5.6.0->jupyterthemes) (20.9)\n"
          ],
          "name": "stdout"
        }
      ]
    },
    {
      "cell_type": "markdown",
      "metadata": {
        "id": "JMy2Olp1KcvZ"
      },
      "source": [
        "# Integrace Funkce\n",
        "Integrace funkce patří mezi nejčastější problémy, se kterými se můžete setkat v praxi. Na rozdíl od učebnic, ve vetšině případů jsou funkce analyticky neintegrovatelné a jejich integrál je tak nutné hledat numerickou cestou. \n",
        "\n",
        "Celá podstata problému numerické integrace spočívá v obecně v aproximaci integrace funkce sumací jejich reprezentativních funkčních hodnot\n",
        "\n",
        "$$\n",
        "\\int_a^b f(x){\\rm d}x \\approx \\sum_{i=0}^{n-1}c_i f(x_i)\n",
        "$$\n",
        "\n",
        "Velkou skupinu tvoří integrační metody, které využívají k numerickému výpočtu interpolační funkci v podobě polynomu. Vzhledem k vlastnostem polynomu, především oscilaci polynomu vyšších řádu při interpolaci mezi body, jsou praxi využívány polynomy nižších řádu."
      ]
    },
    {
      "cell_type": "markdown",
      "metadata": {
        "id": "EF52Yi0_FS9Y"
      },
      "source": [
        "## Obdelníková metoda"
      ]
    },
    {
      "cell_type": "markdown",
      "metadata": {
        "id": "bh-2igxjK5IN"
      },
      "source": [
        "## Lichoběžníkové pravidlo\n",
        "<img src='https://github.com/astroviki/NumericalMethods/blob/main/PDE/Images/trapez.png?raw=1' align='right'></img>\n",
        "Metoda spočívá v aproximaci určitého integrálu součtem obsahu lichoběžníků,\n",
        "\n",
        "\\begin{equation}\n",
        "\\int_a^b f(x){\\rm d}x = \\frac{h}{2}\\sum_{k=1}^N (f(x_{k+1})+f(x_k)) = \\frac{b-a}{2N}\\left(f(x_1)+2f(x_2)+2f(x_3)+\\dots 2f(x_N)+f(x_{N+1})\\right),\n",
        "\\end{equation}\n",
        "\n",
        "které tvoří na daném intervalu $(a,b)$ sada $N$ ekvidistantních bodů.\n",
        "\n",
        "### Algoritmus\n",
        "\n",
        "* Stanovíme počet bodů $N$ na daném intervalu $(a,b)$, v těchto bodech vyčíslíme integrovanou funkci\n",
        "* Určíme odhad integralu podle vzorce $\\frac{b-a}{2N}\\left(f(x_1)+2f(x_2)+2f(x_3)+\\dots 2f(x_N)+f(x_{N+1})\\right)$"
      ]
    },
    {
      "cell_type": "markdown",
      "metadata": {
        "id": "2fyhkgNCM5W9"
      },
      "source": [
        "## Gaussova kvadratura"
      ]
    }
  ]
}