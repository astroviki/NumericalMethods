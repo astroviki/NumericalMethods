{
  "nbformat": 4,
  "nbformat_minor": 0,
  "metadata": {
    "colab": {
      "name": "Integrace.ipynb",
      "provenance": [],
      "collapsed_sections": [],
      "toc_visible": true,
      "authorship_tag": "ABX9TyMcr2cXEix2ERxlViTtX8A9",
      "include_colab_link": true
    },
    "kernelspec": {
      "name": "python3",
      "display_name": "Python 3"
    },
    "language_info": {
      "name": "python"
    }
  },
  "cells": [
    {
      "cell_type": "markdown",
      "metadata": {
        "id": "view-in-github",
        "colab_type": "text"
      },
      "source": [
        "<a href=\"https://colab.research.google.com/github/astroviki/NumericalMethods/blob/main/Integrace.ipynb\" target=\"_parent\"><img src=\"https://colab.research.google.com/assets/colab-badge.svg\" alt=\"Open In Colab\"/></a>"
      ]
    },
    {
      "cell_type": "code",
      "metadata": {
        "id": "aRPnXi_TKLZK"
      },
      "source": [
        "# for Table of Contents use:\n",
        "#\n",
        "# pip install jupyter_contrib_nbextensions\n",
        "# jupyter contrib nbextension install --sys-prefix\n",
        "# jupyter nbextension enable scratchpad/main --sys-prefix\n",
        "#\n",
        "%%capture\n",
        "!pip install jupyterthemes\n",
        "%matplotlib inline\n",
        "import numpy as np\n",
        "import scipy\n",
        "import matplotlib.pylab as plt\n",
        "import pandas as pd\n",
        "import plotly.express as px\n",
        "import plotly.graph_objects as go\n",
        "import plotly.io as pio\n",
        "\n",
        "from plotly.subplots import make_subplots\n",
        "from jupyterthemes import jtplot\n",
        "\n",
        "\n",
        "jtplot.style(theme='gruvboxd')"
      ],
      "execution_count": 3,
      "outputs": []
    },
    {
      "cell_type": "markdown",
      "metadata": {
        "id": "JMy2Olp1KcvZ"
      },
      "source": [
        "# Integrace Funkce\n",
        "Integrace funkce patří mezi nejčastější problémy, se kterými se můžete setkat v praxi. Na rozdíl od učebnic, ve vetšině případů jsou funkce analyticky neintegrovatelné a jejich integrál je tak nutné hledat numerickou cestou. \n",
        "\n",
        "Celá podstata problému numerické integrace spočívá v obecně v aproximaci integrace funkce sumací jejich reprezentativních funkčních hodnot\n",
        "\n",
        "$$\n",
        "\\int_a^b f(x){\\rm d}x \\approx \\sum_{i=0}^{n-1}c_i f(x_i)\n",
        "$$\n",
        "\n",
        "Velkou skupinu tvoří integrační metody, které využívají k numerickému výpočtu interpolační funkci v podobě polynomu. Vzhledem k vlastnostem polynomu, především oscilaci polynomu vyšších řádu při interpolaci mezi body, jsou praxi využívány polynomy nižších řádu."
      ]
    },
    {
      "cell_type": "markdown",
      "metadata": {
        "id": "EF52Yi0_FS9Y"
      },
      "source": [
        "## Obdelníková metoda\n",
        "\n",
        "\\begin{equation}\n",
        "\\int_a^b f(x){\\rm d}x = \\frac{\\Delta x}{2}\\sum_{k=1}^N f\\left(\\frac{x_{k+1}+x_k}{2}\\right) = \\frac{b-a}{2N}\\left(x_1+2x_2+2x_3+\\dots 2x_N+x_{N+1}\\right),\n",
        "\\end{equation}\n"
      ]
    },
    {
      "cell_type": "markdown",
      "metadata": {
        "id": "bh-2igxjK5IN"
      },
      "source": [
        "## Lichoběžníková metoda\n",
        "<img src='https://github.com/astroviki/NumericalMethods/blob/main/PDE/Images/trapez.png?raw=1' align='right'></img>\n",
        "Metoda spočívá v aproximaci určitého integrálu součtem obsahu lichoběžníků,\n",
        "\n",
        "\\begin{equation}\n",
        "\\int_a^b f(x){\\rm d}x = \\frac{\\Delta x}{2}\\sum_{k=1}^N (f(x_{k+1})+f(x_k)) = \\frac{b-a}{2N}\\left(f(x_1)+2f(x_2)+2f(x_3)+\\dots 2f(x_N)+f(x_{N+1})\\right),\n",
        "\\end{equation}\n",
        "\n",
        "které tvoří na daném intervalu $(a,b)$ sada $N$ ekvidistantních bodů.\n",
        "\n",
        "### Algoritmus\n",
        "\n",
        "* Stanovíme počet bodů $N$ na daném intervalu $(a,b)$, v těchto bodech vyčíslíme integrovanou funkci\n",
        "* Určíme odhad integralu podle vzorce $\\frac{b-a}{2N}\\left(f(x_1)+2f(x_2)+2f(x_3)+\\dots 2f(x_N)+f(x_{N+1})\\right)$"
      ]
    },
    {
      "cell_type": "code",
      "metadata": {
        "id": "92fcJOTPts5N"
      },
      "source": [
        "def trapz(f,a,b,N=50):\n",
        "    '''Approximate the integral of f(x) from a to b by the trapezoid rule.\n",
        "\n",
        "    The trapezoid rule approximates the integral \\int_a^b f(x) dx by the sum:\n",
        "    (dx/2) \\sum_{k=1}^N (f(x_k) + f(x_{k-1}))\n",
        "    where x_k = a + k*dx and dx = (b - a)/N.\n",
        "\n",
        "    Parameters\n",
        "    ----------\n",
        "    f : function\n",
        "        Vectorized function of a single variable\n",
        "    a , b : numbers\n",
        "        Interval of integration [a,b]\n",
        "    N : integer\n",
        "        Number of subintervals of [a,b]\n",
        "\n",
        "    Returns\n",
        "    -------\n",
        "    float\n",
        "        Approximation of the integral of f(x) from a to b using the\n",
        "        trapezoid rule with N subintervals of equal length.\n",
        "\n",
        "    Examples\n",
        "    --------\n",
        "    >>> trapz(np.sin,0,np.pi/2,1000)\n",
        "    0.9999997943832332\n",
        "    '''\n",
        "    x = np.linspace(a,b,N+1) # N+1 points make N subintervals\n",
        "    y = f(x)\n",
        "    y_right = y[1:] # right endpoints\n",
        "    y_left = y[:-1] # left endpoints\n",
        "    dx = (b - a)/N\n",
        "    T = (dx/2) * np.sum(y_right + y_left)\n",
        "    return T"
      ],
      "execution_count": 3,
      "outputs": []
    },
    {
      "cell_type": "markdown",
      "metadata": {
        "id": "Dg6nHcuTQV1T"
      },
      "source": [
        "## Simpsonova metoda\n",
        " \n",
        " Metoda spočívá v aproximaci určitého integrálu součtem obsahu parabol,\n",
        "\n",
        "\\begin{equation}\n",
        "\\int_a^b f(x){\\rm d}x = \\frac{\\Delta x}{3}\\left(f(x_0)+\\sum_{j=1}^{n/2-1}f(x_{2j})+4\\sum_{j=1}^{n/2}f(x_{2j-1})+f(x_n)\\right)\n",
        "\\end{equation}\n",
        "\n",
        "kde $x_j = a + jh$, $x_0=a$ a $x_n=b$.\n",
        "\n",
        "### Algoritmus\n",
        "\n",
        "* Předem určíme **sudý** počet bodů $N$ na daném intervalu $(a,b)$, v těchto bodech vyčíslíme integrovanou funkci\n",
        "* Určíme odhad integralu podle vzorce $\\frac{b-a}{2N}\\left(f(x_1)+2f(x_2)+2f(x_3)+\\dots 2f(x_N)+f(x_{N+1})\\right)$  \n",
        "\n",
        "---\n",
        "### Nástin odvození vzorce\n",
        "\n",
        "Nastíním jednodouché odvození vztahu integrace Simpsonovou metodou. Pro zjednodušení výpočtů umístíme startovní bod do bodu $(0,y_1)$\n",
        "\n",
        "Naším úkolem bude určit obsah plochy pod parabolou \n",
        "$$ \n",
        "y = ax^2+bx+c \n",
        "$$\n",
        "\n",
        "mezi body $ x_0 = -h$ a $x_3 =h$. Dle zadání parabola prochází body $(x_0,y_0),(x_1,y_1),(x_2,y_2)$ přičemž vzdálenosti mezi body $x_1-x_0 = x_2-x_1 =\\Delta x$\n",
        "\n",
        "\n",
        "Pro obsach plochy platí,\n",
        "\n",
        "\\begin{equation}\n",
        "A = \\int_{-h}^{h}(ax^2+bx+c){\\rm d}x = \\left[\\frac{ax^3}{3}+\\frac{bx^2}{2}+cx\\right]_{-h}^{h}\n",
        "\\end{equation}\n",
        "\n",
        "\\begin{equation}\n",
        "A = \\left(\\frac{ah^3}{3}+\\frac{bh^2}{2}+ch\\right)-\\left(-\\frac{ah^3}{3}+\\frac{bh^2}{2}-ch\\right) = \\frac{2ah^3}{3}+2ch = \\frac{h}{3}\\left(2ah^2+6c\\right)\n",
        "\\end{equation}\n",
        "\n",
        "Výraz dále upravíme a to použitím průchozích bodů, které dosadíme do obecné rovnice paraboly. \n",
        "\n",
        "\\begin{eqnarray}\n",
        "y_0 &=& ah^2-bh +c \\\\\n",
        "y_1 &=& c \\\\\n",
        "y_2 &=& ah^2+bh+c\n",
        "\\end{eqnarray}\n",
        "\n",
        "Z těchto rovnic můžeme vyjádřit \n",
        "\n",
        "\\begin{eqnarray}\n",
        "c &=& y_1 \\\\\n",
        "2ah^2 &=& y_0 - 2y_1 + y_2\n",
        "\\end{eqnarray}\n",
        "\n",
        "To nám umožńuje upravit vzorec \n",
        "\n",
        "\\begin{equation}\n",
        "A_1 = \\frac{h}{3}\\left(y_0-2y_1+y_2+6y_1\\right) = \\frac{h}{3}\\left(y_0+4y_1+y_2\\right)\n",
        "\\end{equation}\n",
        "\n",
        "Pro následující sadu tří bodu obdobně platí\n",
        "\n",
        "\\begin{equation}\n",
        "A_2 =  \\frac{h}{3}\\left(y_2+4y_3+y_4\\right)\n",
        "\\end{equation}\n",
        "\n",
        "\\begin{equation}\n",
        "A_{1+2} = \\frac{h}{3}\\left(y_0+4y_1+2y_2+4y_3+y_4\\right)\n",
        "\\end{equation}\n",
        "\n",
        "Přidámeli další sadu  tří bodů můžeme psát pro výslednou plochu\n",
        "\n",
        "\\begin{equation}\n",
        "A_{1+2+3} = \\frac{h}{3}\\left(y_0+4y_1+2y_2+4y_3+2y_4+4y_5+y_6\\right)\n",
        "\\end{equation}\n",
        "\n",
        "\n"
      ]
    },
    {
      "cell_type": "code",
      "metadata": {
        "colab": {
          "base_uri": "https://localhost:8080/"
        },
        "id": "Go93EnpCu8b2",
        "outputId": "05e7a6df-dc64-486e-dbdf-c66cb70a700e"
      },
      "source": [
        "import numpy as np\n",
        "\n",
        "a = 0\n",
        "b = np.pi\n",
        "n = 11\n",
        "h = (b - a) / (n - 1)\n",
        "x = np.linspace(a, b, n)\n",
        "f = np.sin(x)\n",
        "\n",
        "I_simp = (h/3) * (f[0] + 2*sum(f[:n-2:2]) \\\n",
        "            + 4*sum(f[1:n-1:2]) + f[n-1])\n",
        "err_simp = 2 - I_simp\n",
        "\n",
        "print(I_simp)\n",
        "print(err_simp)"
      ],
      "execution_count": 6,
      "outputs": [
        {
          "output_type": "stream",
          "text": [
            "2.0001095173150043\n",
            "-0.00010951731500430384\n"
          ],
          "name": "stdout"
        }
      ]
    },
    {
      "cell_type": "code",
      "metadata": {
        "id": "qmGFe4cguttK"
      },
      "source": [
        "def simpsonsRule(n):\n",
        "\n",
        "    \"\"\"\n",
        "    simpsonsRule: (int) -> float\n",
        "    Parameters:\n",
        "        n: integer representing the number of segments being used to \n",
        "           approximate the integral\n",
        "    Pre conditions:\n",
        "        Function bounds() declared that returns lower and upper bounds of integral.\n",
        "        Function f(x) declared that returns the evaluated equation at point x.\n",
        "        Parameters passed.\n",
        "    Post conditions:\n",
        "        Returns float equal to the approximate integral of f(x) from a to b\n",
        "        using Simpson's rule.\n",
        "    Description:\n",
        "        Returns the approximation of an integral. Works as of python 3.3.2\n",
        "        REQUIRES NO MODULES to be imported, especially not non standard ones.\n",
        "        -Code by TechnicalFox\n",
        "    \"\"\"\n",
        "\n",
        "    a,b = bounds()\n",
        "    sum = float()\n",
        "    sum += f(a) #evaluating first point\n",
        "    sum += f(b) #evaluating last point\n",
        "    width=(b-a)/(2*n) #width of segments\n",
        "    oddSum = float()\n",
        "    evenSum = float()\n",
        "    for i in range(1,n): #evaluating all odd values of n (not first and last)\n",
        "        oddSum += f(2*width*i+a)\n",
        "    sum += oddSum * 2\n",
        "    for i in range(1,n+1): #evaluating all even values of n (not first and last)\n",
        "        evenSum += f(width*(-1+2*i)+a)\n",
        "    sum += evenSum * 4\n",
        "    return sum * width/3"
      ],
      "execution_count": 5,
      "outputs": []
    },
    {
      "cell_type": "markdown",
      "metadata": {
        "id": "2fyhkgNCM5W9"
      },
      "source": [
        "## Gaussova metoda\n",
        "\n",
        "V předchozích vztazích jsme vždy hledali pro zadané body $x_0,x_1,x_2,\\dots x_{n-1},x_n$ odpovídající váhy $w_0,w_1,\\dots,w_{n-1},w_n$, tak abychom dosáhli co nejlepšího odhadu integrálu funkce $\\int_a^b f(x){\\rm d}x$ na zvoleném intervalu $(a,b)$. Fixace bodů, ve kterých vyčíslujeme integrovanou funkci může mít zásadní vliv na přesnost, bylo by tedy vhodné tuto restrikci uvolnit.\n",
        "\n",
        "Pro zjednodušení následujícího postupu uvažme funkci $f(x)=c_0+c_1x+c_2x^2+c_3x^3$ na intervalu $[-1,1]$. Naše nové zadání zní najít takovou sadu 2 bodů $x_0,x_1$ a odpovídající sadu vah $w_0,w_1$, pro které bude platit\n",
        "\n",
        "$$\n",
        "\\int_a^b f(x){\\rm d}x = w_0f(x_0)+w_1f(x_1)\n",
        "$$\n",
        "\n",
        "Z předchozího vztahu plyne\n",
        "$$\n",
        "\\int_{-1}^{1}(c_0+c_1x+c_2x^2+c_3x^3){\\rm d}x =  w_0(c_0+c_1x_0+c_2x_0^2+c_3x_0^3)+w_1(c_0+c_1x_1+c_2x_1^2+c_3x_1^3)\n",
        "$$\n",
        "\n",
        "Přeuspořádáním členů v rovnici, tak abychom k sobě dostali koeficienty $c_0,c_1,c_2,c_3$\n",
        "\n",
        "$$\n",
        "c_0\\left(w_0+w_1 - \\int_{-1}^1 {\\rm d}x\\right) +\n",
        "c_1\\left(w_0x_0+w_1x_1- \\int_{-1}^1 {x\\rm d}x\\right)+\n",
        "c_2\\left(w_0x_0^2+w_1x_1^2-\\int_{-1}^1 x^2 {\\rm d}x\\right)+\n",
        "c_3\\left(w_0x_0^3+w_1x_1^3-\\int_{-1}^1 x^3 {\\rm d}x\\right) = 0\n",
        "$$\n",
        "\n",
        "Členy $c_0,c_1,c_2,c_3$ jsou zvoleny náhodně, prot musí pro jejich koeficienty platit, že jsou nulové. Jinak řečeno\n",
        "\n",
        "\\begin{eqnarray}\n",
        "w_0 + w_1 = \\int_{-1}^1 {\\rm d}x = 2 \\\\\n",
        "w_0x_0+w_1x_1 = \\int_{-1}^1x{\\rm d}x = 0\\\\\n",
        "w_0x_0^2+w_1x_1^2 =\\int_{-1}^1x^2{\\rm d}x = \\frac{2}{3} \\\\\n",
        "w_0x_0^3+w_1x_1^3 = \\int_{-1}^1x^3{\\rm d}x = 0\n",
        "\\end{eqnarray}\n",
        "\n",
        "Řešení této nelineární soustavy rovnic je sada $w_0 = 1, w_1 = 1, x_0 = -\\frac{\\sqrt{3}}{3}, x_1 = \\frac{\\sqrt{3}}{3}$. Výsledný vztah pro výpočet integrálu \n",
        "\n",
        "$$\n",
        "\\int_{-1}^{1}f(x){\\rm d}x=f\\left(-\\frac{\\sqrt{3}}{3}\\right)+f\\left(\\frac{\\sqrt{3}}{3}\\right)\n",
        "$$"
      ]
    },
    {
      "cell_type": "code",
      "metadata": {
        "id": "s6AUekYqwdO0"
      },
      "source": [
        "def my_f(x):\n",
        "    return 2*x**2 - 3*x +15 \n",
        "    \n",
        "def gauss(f,n,a,b):\n",
        "    [x,w] = p_roots(n+1)\n",
        "    G=0.5*(b-a)*sum(w*f(0.5*(b-a)*x+0.5*(b+a)))\n",
        "    return G"
      ],
      "execution_count": 8,
      "outputs": []
    },
    {
      "cell_type": "markdown",
      "metadata": {
        "id": "5GF3sv72aqOh"
      },
      "source": [
        "## Monte Carlo metoda\n",
        "\n",
        "Všechny předchozí diskutované metody použivali pro určení odhadu integrálu aproximaci funkce s pomocí polynomu. Následující metoda využívá úplně jiného principu a to náhodných čísel. Podle svého principu, který je založen na náhodných číslech a statistice se nazývá metodou *Monte Carlo*\n",
        "\n",
        "Pro ilustraci principu si integrál funkce napíšeme trochu jinak. Řekněme, že chceme zjistit průměrnou hodnotu funkce $f(x)$ na intervalu $[a,b]$. Z definice platí\n",
        "\n",
        "$$\n",
        "\\frac{1}{b-a}\\int_{a}^bf(x){\\rm d}x =<f>\n",
        "$$\n",
        "\n",
        "To ale znamená, že pokud známě průměrnou hodnotu funkce, můžeme určit hodnotu integrálu\n",
        "\n",
        "$$\n",
        "\\int_{a}^{b}f(x){\\rm d}x = (b-a)<f>\n",
        "$$\n",
        "\n",
        "Takže náš úkol je, jak nalézt nejlepší odhad průměrné hodnoty zadané funkce. A zde přichází na scénu náhodná čísla. Mějme sadu náhodných čísel, rovnoměrně rozložených v rámci intervalu $[a,b]$. K určení průměrné hodnoty funkce nám stačí spočítat hodnotu funkce v náhodných bodech $f(x_i)$\n",
        "\n",
        "$$\n",
        "<f>_N=\\frac{1}{N}\\sum_{i=1}^{N}f(x_i)\n",
        "$$\n",
        "\n",
        "a pro výsledný odhad integrálu metodou *Monte Carlo* můžeme psát\n",
        "\n",
        "$$\n",
        "\\int_a^bf(x){\\rm d}x \\approx (b-a)\\frac{1}{N}\\sum_{i=1}^N f(x_i).\n",
        "$$"
      ]
    },
    {
      "cell_type": "code",
      "metadata": {
        "colab": {
          "base_uri": "https://localhost:8080/"
        },
        "id": "e2MMBD2kB0Km",
        "outputId": "b73639e8-df1a-4171-8b7c-fdf9ec45c214"
      },
      "source": [
        "N = 1000\n",
        "a = 0.0\n",
        "b = 1.0\n",
        "\n",
        "# Integrovaná funkce\n",
        "def fce(x):\n",
        "  return np.exp(x)\n",
        "\n",
        "# Funkce pro výpočet integrálu metodou MonteCarlo\n",
        "#\n",
        "def integralMC(fce,a,b,n):\n",
        "  x = np.random.uniform(a,b,n)\n",
        "  return 1.0/n*np.sum(fce(x))*(b-a)\n",
        "\n",
        "print('Integral odhad: %.4f versus analytický výpočet: %.4f' % (integralMC(fce,a,b,N),np.exp(1)-1.0))"
      ],
      "execution_count": 11,
      "outputs": [
        {
          "output_type": "stream",
          "text": [
            "Integral odhad: 1.6986 versus analytický výpočet: 1.7183\n"
          ],
          "name": "stdout"
        }
      ]
    },
    {
      "cell_type": "markdown",
      "metadata": {
        "id": "dPHTGruCQur3"
      },
      "source": [
        "## Vybrané úlohy:\n",
        "\n",
        "### Příklad 1. Určení parametrů  exoplanety\n",
        "---\n",
        "Výzkum a hledání nových exoplanet prožívá v současné době bouřlivý rozvoj. Jedním ze základních úkolů je stanovení jejich základních fyzikálních vlastností. Naneštěstí přímo z pozorování lze většinou stanovit pouze jednu ze základních vlastností, nejčastěji její hmotnost resp. její poloměr. Ostatní vlastnosti musíme určit z modelování jejich vlastností. \n",
        "\n",
        "Pokud je známa hmotnost planety, velmi hrubý odhad jejího poloměru můžeme stanovit z předpokladu určitého složení (průměrné hustoty) a rovnoměrného rozložení (ne příliš přesný předpoklad). Například planeta [Gliese 832c](https://en.wikipedia.org/wiki/Gliese_832_c) s hmotností $M=5.40\\,M_{Země}$, pokud předpokládáme podobné složení jako má Země, tedy $\\rho_{Země}=5520$ $\\text{kg.m}^3$, dostáváme $R_{g832c}=(\\frac{3M}{4\\pi\\rho})^{1/3}≈1.75\\,R_{Země}$\n",
        "\n",
        "Tento odhad by platil za předpokladu, že je složení stejné jako Země. Realističtější odhad můžeme dostat použitím předpokládaného profilu hustoty\n",
        "\n",
        "$$\n",
        "\\rho(r) = \\rho_0 \\exp{(-rL)}\n",
        "$$\n",
        "\n",
        "kde $rho_0$ je hustota ve středu planety a $L$ je charakteristická délka, která závisí na složení. Z numerického modelování vnitřní struktury planet, odhad parametrů pro příklad planety s hmotností $M = 5.40\\,M_{Země}$ je zhruba $\\rho_0 = 18000$ kg/m3 a $L=6500$ km.\n",
        "\n",
        "* Integrací přes objem planety a hledáním kořene odhadněte poloměr planety\n",
        "$$\n",
        "M(R) = 4\\pi \\int_0^R R_0 \\rho(r) r^2 {\\rm d}r \n",
        "$$\n",
        " a hledáním kořene \n",
        "$$\n",
        "M(R) - M_{\\rm observe} = 0\n",
        "$$\n",
        " odhadněte poloměr planety.\n",
        "\n",
        "\n",
        "---\n",
        "\n"
      ]
    }
  ]
}