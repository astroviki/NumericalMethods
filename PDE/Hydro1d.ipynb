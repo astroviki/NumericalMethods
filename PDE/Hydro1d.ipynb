{
 "cells": [
  {
   "cell_type": "markdown",
   "metadata": {},
   "source": [
    " # Jednoduchý 1D hydrodynamický kód\n",
    " \n",
    " ## Základní rovnice hydrodynamiky"
   ]
  },
  {
   "cell_type": "markdown",
   "metadata": {},
   "source": [
    "K popisu pohybu kontinua můžeme použít dva alternativní přístupy, Eulerův popis a Langrangeův popis. V Eulerově popisu je pohyb popsán vůči pevnému souřadnicovému systému (ne nutně inerciálnímu). Hydrodynamické rovnice jsou potom parciální diferenciální rovnice vzhledem k prostoru a času, popisující vývoj jednotlivých hydrodynamických veličin. Naproti tomu v Lagrangeově popisu je celé kontinuum rozděleno na určité elementární části objemu a je sledován pohyb každé této elementární části. Oba dva tyto přístupy mají své výhody a nevýhody. V našem popisu a kódu se omezíme na první, tedy Eulerův přístup.\n",
    "\n",
    "Nejprve zavedeme značení jednotlivých hydrodynamických veličin, kterého se budeme držet v celém dalším textu. Základními hydrodynamickými veličinami jsou skalární hustota $\\rho$, tlak $p$, vektorová rychlost elementu kontinua $\\vec{v}$ a vnitřní energie plynu $U$. Tyto veličiny jsou vzájemně svázány pomocí hydrodynamických rovnic. Dále se v našem přístupu omezíme na ideální tekutinu, nebudeme tedy započítávat vazkost tekutiny. To je v případě drtivé většiny astrofyzikálních aplikací zcela oprávněná aproximace. V~takovém případě lze kontiunum popsat Eulerovými rovnicemi: rovnicí kontinuity, rovnicí pro hybnost a rovnicí pro energii.\n",
    "\n",
    "<p style=\"text-align: center;\">\n",
    "    <img src=\"./Images/hydrodynamics.png\" width=300px>\n",
    "    <br>\n",
    "    <em>Snapshots of mass flows in a binary white dwar - neutron stars with a 0.15 MWD, and 1.4 MNS, and e=0.04 (see more <a href=https://arxiv.org/pdf/1702.02377.pdf>[Bobrick et al. (2017)]</a>.</em> "
   ]
  },
  {
   "cell_type": "markdown",
   "metadata": {},
   "source": [
    "### **Paralelní výpočty**###\n",
    "\n",
    "Hydrodynamické výpočty patří mezi výpočetně velmi náročné úlohy, nejen z hlediska nároků na pamět ale především z hlediska výpočetního výkonu, počtu matematických operací za jednotku času. Při simulaci reálných problémů se většinou využívá superpočítačů, ve kterých se výpočetní úloha paralelizovala na více procesorů. Díky technologickému pokroku se takový superpočítač nachází i na vašem stole, většina moderních počítačů má v sobě procesory více jader, na kterých můžeme provádět samostatné výpočty. Vhodnou algoritmizací úlohy, může paralelizace výrazně zkrátit výpočetní dobu programu.\n",
    "\n",
    "Paralelizaci si můžeme jednoduše ukázat i v prostředí *Jupyter* s použitím balíku [*IPython Parallel*] (https://ipyparallel.readthedocs.io/en/latest/process.html). Pokud jej nemáte naistalované, doinstalujte je s pomocí příkazu \n",
    "\n",
    "`pip install ipyparallel` \n",
    "\n",
    "a následně povolte rozšíření *ipyparallel* v prostředí *Jupyter* příkazy\n",
    "\n",
    "\n",
    "`jupyter serverextension enable --py ipyparallel\n",
    " jupyter nbextension install --py ipyparallel\n",
    " jupyter nbextension enable --py ipyparallel`\n",
    "\n",
    " spustťe kontroler příkazem\n",
    " \n",
    "`ipcluster start --n=4`\n",
    "\n",
    "kde $n$ vyjadřuje počet procesorů (jader). Více informací o paralelizaci na stránkách [Paralle Magic Command](https://ipython.org/ipython-doc/stable/parallel/magics.html)"
   ]
  },
  {
   "cell_type": "markdown",
   "metadata": {},
   "source": [
    "### Nastavení výpočetní sítě (diskretizace)"
   ]
  },
  {
   "cell_type": "markdown",
   "metadata": {},
   "source": [
    "*Fortran* array starting from 1 .. number of points + 4\n",
    "\n",
    "*Python* numpy array starting from 0 .. number of points + 3\n",
    "\n",
    "'0 0 1 1 2 2 3 3 4 4 ...i  i i+1...ig+1 ig+1 ig+2 ig+2 ig+3 ig+3'  \n",
    "'| : | : | : | : | : |  |  :  |      |    :    |    :    |    :'  \n",
    "'  S S B B I I I I I I  I     I      I    I    B    B    S    S'  \n",
    "  \n",
    "where *S* mean symmetry points, *B* boundary points and *I* inner points"
   ]
  },
  {
   "cell_type": "code",
   "execution_count": 1,
   "metadata": {},
   "outputs": [],
   "source": [
    "%matplotlib inline\n",
    "\n",
    "import numpy as np\n",
    "import matplotlib.pylab as plt\n",
    "\n",
    "import os\n",
    "import ipyparallel as ipp\n",
    "rc = ipp.Client()\n",
    "\n",
    "all_engines = rc[:]\n",
    "view = rc.load_balanced_view()"
   ]
  },
  {
   "cell_type": "code",
   "execution_count": 7,
   "metadata": {},
   "outputs": [
    {
     "name": "stdout",
     "output_type": "stream",
     "text": [
      "[stdout:0] Populating the interactive namespace from numpy and matplotlib\n",
      "[stdout:1] Populating the interactive namespace from numpy and matplotlib\n",
      "[stdout:2] Populating the interactive namespace from numpy and matplotlib\n",
      "[stdout:3] Populating the interactive namespace from numpy and matplotlib\n"
     ]
    }
   ],
   "source": [
    "%px %pylab inline"
   ]
  },
  {
   "cell_type": "code",
   "execution_count": 2,
   "metadata": {},
   "outputs": [],
   "source": [
    "class Hydro1D:\n",
    "    \n",
    "    def __init__(self, number_of_points=100, time_end=200., xmin=1.0, xmax=10.0, sound_speed = 1.0, cfl=0.2, vi1=2./9.,\\\n",
    "                 subsonic_inflow = True, subsonic_outflow = False, viscosity =0.0):\n",
    "        '''\n",
    "        Initializing of the internal variables and settings parameters of the problem\n",
    "        \n",
    "        Parameters:\n",
    "        -----------\n",
    "        \n",
    "        number_of_points:       integer type         number of grid points\n",
    "        xmin,xmax:              integer type         minimal and maximal physical value of on x-grid\n",
    "        \n",
    "        subsonic_inflow         boolean type         boundary condition according to characteristics, \n",
    "                                                     true value mean that density on inner boundary\n",
    "                                                     is fixed and momentum flux is extrapolated, false\n",
    "                                                     mean both variables are fixed\n",
    "                                                     \n",
    "        subsonic_outflow        boolean type         boundary condition according to characteristics,\n",
    "                                                     true value mean that density on outer boundary mean\n",
    "                                                     is fixed and momentum flux is extrapolated, false \n",
    "                                                     mean both variables ar fixed\n",
    "        \n",
    "        viscosity               float type           setting value of numerical viscosity\n",
    "        '''\n",
    "        self.number_of_points = number_of_points\n",
    "        self.time_end = time_end\n",
    "        \n",
    "        self.xmin = xmin\n",
    "        self.xmax = xmax\n",
    "        \n",
    "        self.subsonic_inflow = subsonic_inflow\n",
    "        self.subsonic_outflow = subsonic_outflow\n",
    "\n",
    "        self.rho = np.empty(number_of_points+4)\n",
    "        self.rho_u = np.empty(number_of_points+4)\n",
    "\n",
    "        self.u_a = np.empty(number_of_points+4)\n",
    "        self.u_b = np.empty(number_of_points+4)\n",
    "\n",
    "        self.g = np.zeros(number_of_points+4)\n",
    "        \n",
    "        self.dv_a = np.empty(number_of_points+4)\n",
    "        self.dv_b = np.empty(number_of_points+4)\n",
    "        \n",
    "        self.ti = 0.\n",
    "        self.dt = 0.\n",
    "        \n",
    "        self.number_of_output = 50\n",
    "        self.time_output = 0.\n",
    "        self.time_step_output = self.time_end/self.number_of_output\n",
    "        \n",
    "        self.vi1 = vi1\n",
    "        \n",
    "        self.a = sound_speed\n",
    "        self.cfl = cfl\n",
    "        \n",
    "        self.vis = viscosity\n",
    "        self.is_radforce = False\n",
    "        \n",
    "\n",
    "    def grid(self):\n",
    "        ''' \n",
    "        Method fo generating 1D - spherical spatial mesh. Scalars (r) reside at cell centers (termed b),\n",
    "        vectors (ru) at cell interfaces (termed a)\n",
    "        \n",
    "        self.x_a         spatial coordinate zone-faces\n",
    "        self.x_b         spatial coordinate zone-centers\n",
    "        \n",
    "        self.df_a        interface area zone-faces\n",
    "        self.df_a        interface area zone-centers\n",
    "        \n",
    "        self.dv_a        spherical volume zone-faces        \n",
    "        self.dv_b        spherical volume zone-centers\n",
    "        \n",
    "        Spherical volume is volume of the shell between two x-grid points\n",
    "        '''\n",
    "    \n",
    "        step = (self.xmax - self.xmin)/self.number_of_points\n",
    "        self.x_a = np.linspace(self.xmin - 2.0*step,self.xmax+step,self.number_of_points+4)\n",
    "    \n",
    "        start = (self.x_a[0]+self.x_a[1])/2.0\n",
    "        end = (self.x_a[self.number_of_points+2]+self.x_a[self.number_of_points+3])/2.0\n",
    "        self.x_b = np.linspace(start,end+step,self.number_of_points+4)\n",
    "\n",
    "        self.df_a = self.x_a**2.0\n",
    "        self.df_b = self.x_b**2.0\n",
    "    \n",
    "        self.dv_a[1:] = (self.x_b[1:]**3.0-self.x_b[:self.number_of_points+3]**3.0)/3.0\n",
    "        self.dv_a[0] = self.dv_a[1]\n",
    "    \n",
    "        self.dv_b[:self.number_of_points+3] = (self.x_a[1:]**3.0-self.x_a[:self.number_of_points+3]**3.0)/3.0\n",
    "        self.dv_b[self.number_of_points+3] = self.dv_b[self.number_of_points+2]\n",
    "    \n",
    "        return \n",
    "    \n",
    "    def van_leer_rho(self):\n",
    "        '''\n",
    "        \n",
    "        van Leer (1977) advection for density rho (b grid) for 1D\n",
    "\n",
    "        '''\n",
    "        ri = np.zeros(self.number_of_points+4)\n",
    "    \n",
    "        for i in range(2,self.number_of_points+3):\n",
    "        \n",
    "            if self.u_a[i] > 0.:\n",
    "                ii = i - 1\n",
    "            else:\n",
    "                ii = i\n",
    "        \n",
    "            dm = (self.rho[ii]-self.rho[ii-1])/(self.x_b[ii]-self.x_b[ii-1])\n",
    "            dp = (self.rho[ii+1]-self.rho[ii])/(self.x_b[ii+1]-self.x_b[ii])\n",
    "        \n",
    "            dd = dm*dp\n",
    "        \n",
    "            if dd > 0:\n",
    "                vl = 2.0*dd/(dm+dp)\n",
    "            else:\n",
    "                vl = 0.\n",
    "            \n",
    "            ri[i] = self.rho[ii]+vl*(self.x_a[i]-self.x_b[ii]-self.u_a[i]*self.dt/2.0)\n",
    "        \n",
    "        self.rho[2:self.number_of_points+2] = self.rho[2:self.number_of_points+2]-self.dt/self.dv_b[2:self.number_of_points+2]* \\\n",
    "        (ri[3:self.number_of_points+3]*self.u_a[3:self.number_of_points+3]*self.df_a[3:self.number_of_points+3]-\\\n",
    "         ri[2:self.number_of_points+2]*self.u_a[2:self.number_of_points+2]*self.df_a[2:self.number_of_points+2])\n",
    "            \n",
    "        return\n",
    "    \n",
    "    def van_leer_rho_u(self):\n",
    "        '''\n",
    "        \n",
    "        van Leer (1977) advection for momentum density rho_u (a grid) for 1D\n",
    "\n",
    "        '''\n",
    "        rui = np.zeros(self.number_of_points+4)\n",
    "        \n",
    "        for i in range (2,self.number_of_points+2):\n",
    "        \n",
    "            if self.u_b[i] > 0:\n",
    "                ii = i\n",
    "            else:\n",
    "                ii = i + 1\n",
    "        \n",
    "            dm = (self.rho_u[ii]-self.rho_u[ii-1])/(self.x_a[ii]-self.x_a[ii-1])\n",
    "            dp = (self.rho_u[ii+1]-self.rho_u[ii])/(self.x_a[ii+1]-self.x_a[ii])\n",
    "        \n",
    "            dd = dm*dp\n",
    "        \n",
    "            if dd > 0:\n",
    "                vl = 2.*dd/(dm+dp)\n",
    "            else:\n",
    "                vl = 0.\n",
    "        \n",
    "            rui[i] = self.rho_u[ii]+vl*(self.x_b[i]-self.x_a[ii]-self.u_b[i]*self.dt/2.0)\n",
    "        \n",
    "        self.rho_u[3:self.number_of_points+2] = self.rho_u[3:self.number_of_points+2]-self.dt/self.dv_a[3:self.number_of_points+2]* \\\n",
    "        (rui[3:self.number_of_points+2]*self.u_b[3:self.number_of_points+2]*self.df_b[3:self.number_of_points+2]-\\\n",
    "        rui[2:self.number_of_points+1]*self.u_b[2:self.number_of_points+1]*self.df_b[2:self.number_of_points+1])\n",
    "    \n",
    "        return\n",
    "\n",
    "    def boundary(self):\n",
    "    \n",
    "    # Inflow subsonic\n",
    "        if self.subsonic_inflow:\n",
    "            self.rho[1] = self.rho[1]\n",
    "            self.rho_u[2] = self.rho_u[3]\n",
    "        \n",
    "    # Inflow supersonic\n",
    "        else:\n",
    "            rho[1] = rho[1]\n",
    "            rho_u[2] = rho_u[2]\n",
    "    \n",
    "    # Outflow subsonic\n",
    "    \n",
    "        if self.subsonic_outflow:\n",
    "            self.rho[self.number_of_points+2] = self.rho[self.number_of_points+1]\n",
    "            self.rho_u[self.number_of_points+2] = self.rho_u[self.number_of_points+2]\n",
    "        else:\n",
    "            self.rho[self.number_of_points+2] = self.rho[self.number_of_points+1]\n",
    "            self.rho_u[self.number_of_points+2] = self.rho_u[self.number_of_points+1]\n",
    "    \n",
    "        self.rho[0] = self.rho[1]\n",
    "        self.rho[self.number_of_points+3] = self.rho[self.number_of_points+2]\n",
    "    \n",
    "        self.rho_u[1] = self.rho_u[2]\n",
    "        self.rho_u[self.number_of_points+3] = self.rho_u[self.number_of_points+2]\n",
    "\n",
    "        return\n",
    "\n",
    "    def speed(self):\n",
    "        '''\n",
    "    \n",
    "        Linear interpolation of the advection speed to the a,b grid \n",
    "    \n",
    "        '''\n",
    "        self.u_a[2:self.number_of_points+3]=2.0*self.rho_u[2:self.number_of_points+3]/(self.rho[1:self.number_of_points+2]+self.rho[2:self.number_of_points+3])\n",
    "        self.u_b[2:self.number_of_points+2]=(self.u_a[2:self.number_of_points+2]+self.u_a[3:self.number_of_points+3])/2.0\n",
    "    \n",
    "        return\n",
    "    \n",
    "    def clock(self):\n",
    "        '''\n",
    "    \n",
    "        Method for setting time step according to the Courant condition of \n",
    "        stability. Negative Courant number means fixed time step\n",
    "    \n",
    "       dt < = cfl * dx / (u + a)\n",
    "    \n",
    "        '''\n",
    "        if self.cfl < 0.:\n",
    "            self.dt = -self.cfl\n",
    "        else:\n",
    "            dtt = np.empty(self.number_of_points+4)\n",
    "    \n",
    "            dtt[2:self.number_of_points+2] = self.cfl*(self.x_a[3:self.number_of_points+3]-\\\n",
    "                        self.x_a[2:self.number_of_points+2])/(np.abs(self.u_b[2:self.number_of_points+2])+self.a)\n",
    "    \n",
    "            self.dt = np.min(dtt[2:self.number_of_points+2])\n",
    "    \n",
    "        self.ti = self.ti + self.dt\n",
    "    \n",
    "        return\n",
    "\n",
    "    def pressure(self):\n",
    "        '''\n",
    "        Method calculate pressure on scalar mesh\n",
    "        ''' \n",
    "        b = np.copy(self.rho_u)\n",
    "        b[3:self.number_of_points+2]=self.rho_u[3:self.number_of_points+2]-self.a**2.0*self.dt*\\\n",
    "        (self.rho[3:self.number_of_points+2]-self.rho[2:self.number_of_points+1])/\\\n",
    "        (self.x_b[3:self.number_of_points+2]-self.x_b[2:self.number_of_points+1])\n",
    "        \n",
    "        return b\n",
    "\n",
    "    def gravity(self):\n",
    "        b = np.copy(self.rho_u)\n",
    "        b[3:self.number_of_points+2]=self.rho_u[3:self.number_of_points+2]-self.dt*(self.rho[2:self.number_of_points+1]\\\n",
    "                                        +self.rho[3:self.number_of_points+2])/2.*self.g[3:self.number_of_points+2]\n",
    "        return b\n",
    "\n",
    "    def radforce(self):\n",
    "        b = np.copy(self.rho_u)\n",
    "        rgl = np.empty(self.number_of_points+4)\n",
    "    \n",
    "        rgl[3:self.number_of_points+2] = self.vi1*np.sqrt(0.5*(self.rho[2:self.number_of_points+1]+self.rho[3:self.number_of_points+2])*\\\n",
    "        np.abs(self.u_b[3:self.number_of_points+2]-self.u_b[2:self.number_of_points+1])/(self.x_b[3:self.number_of_points+2]-self.x_b[2:self.number_of_points+1]))\n",
    "    \n",
    "        rgl[3:self.number_of_points+2] = rgl[3:self.number_of_points+2]/self.x_a[3:self.number_of_points+2]**2\n",
    "    \n",
    "        b[3:self.number_of_points+2] =  self.rho_u[3:self.number_of_points+2]+self.dt*rgl[3:self.number_of_points+2]\n",
    "    \n",
    "        return b\n",
    "\n",
    "    def visco(self):\n",
    "        '''\n",
    "        Add artifical viscosity to solver which helps us to keep stability of the code (shock waves, discontinuity)\n",
    "        '''\n",
    "        self.vis = 0.0\n",
    "        q = np.empty(number_of_points+4)\n",
    "    \n",
    "        q[2:self.number_of_points+2]=self.rho[2:self.number_of_points+2]*\\\n",
    "        self.vis*np.minimum(0,self.u_a[3:self.number_of_points+3]-self.u_a[2:self.number_of_points+2])**2\n",
    "    \n",
    "        self.rho_u[3:self.number_of_points+2] = self.rho_u[3:self.number_of_points+2]-self.dt*((q[3:self.number_of_points+2]-\\\n",
    "                    q[2:self.number_of_points+1])/(self.x_b[3:self.number_of_points+2]-self.x_b[2:self.number_of_points+1]))\n",
    "        return\n",
    "    \n",
    "    def initial(self,f):\n",
    "    \n",
    "        self.rho, self.rho_u = f\n",
    "        \n",
    "        # Reduction at ghost cell\n",
    "        self.rho[0] = self.rho[1]\n",
    "        self.rho_u[1] = self.rho_u[2]\n",
    "        self.rho[self.number_of_points+3] = self.rho[self.number_of_points+2]\n",
    "        self.rho_u[self.number_of_points+3] = self.rho_u[self.number_of_points+2]\n",
    "        \n",
    "        return \n",
    "    \n",
    "    def setup_gravity(self,g):\n",
    "        \n",
    "        self.g = g\n",
    "        \n",
    "        return \n",
    "\n",
    "    def initial_solar(self):\n",
    "\n",
    "        int1=np.int(self.number_of_points/(2.*self.vi1*self.xmax)-1)\n",
    "        self.rho[:int1+1] = np.exp((1./self.x_b[:int1+1]-1./self.xmin)/self.vi1)\n",
    "    \n",
    "        au1 = self.rho[int1]*self.x_b[int1]**2\n",
    "        self.rho[int1+1:self.number_of_points+3] = au1/self.x_b[int1+1:self.number_of_points+3]**2\n",
    "    \n",
    "        au1 = np.sqrt(2./self.vi1)\n",
    "        self.rho_u[1:self.number_of_points+3]=self.rho[1:self.number_of_points+3]*(0.1+0.1*au1*\\\n",
    "               (self.x_a[1:self.number_of_points+3]-self.xmin)/(self.xmax-self.xmin))\n",
    "    \n",
    "    \n",
    "        self.rho[self.number_of_points+3] = self.rho[self.number_of_points+2]\n",
    "        return self.rho,self.rho_u\n",
    "    \n",
    "    def initial_cak(self):\n",
    "        self.vi2 = 1.0\n",
    "        self.is_radforce = True\n",
    "        c =  np.copy(self.rho)\n",
    "        b = np.copy(self.rho_u)\n",
    "        \n",
    "        b = self.vi2/self.x_a**2\n",
    "        \n",
    "        au1 = 0.0\n",
    "        au2 = 0.0\n",
    "        \n",
    "        for i in range(self.number_of_points+4):\n",
    "            if au1 < self.a:\n",
    "                \n",
    "                au2 = self.x_b[i]\n",
    "                au1 = self.a/10.*np.exp((au2-self.xmin)/self.a**2)\n",
    "                \n",
    "            else:\n",
    "                au1 = self.a+2.*(self.x_b[i]-au2)/(self.xmax-au2)\n",
    "        \n",
    "            c[i] = self.vi2/au1/self.x_b[i]**2\n",
    "            \n",
    "        return c,b\n",
    "    \n",
    "    def setup_gravity_solar(self):\n",
    "        return 1./(self.vi1*self.x_a**2.0)\n",
    "    \n",
    "    def setup_gravity_cak(self):\n",
    "        return 1./self.x_a**2.0\n",
    "\n",
    "    \n",
    "    def store_data_netCDF(self):\n",
    "        print(self.ti)\n",
    "        return\n",
    "    \n",
    "    def output(self):\n",
    "        if self.ti > self.time_output:\n",
    "            self.store_data_netCDF()\n",
    "            self.time_output = self.time_output + self.time_step_output\n",
    "        if self.ti > self.time_end:\n",
    "            self.is_not_end = False\n",
    "        return \n",
    "            \n",
    "    def print_output(self):\n",
    "            \n",
    "        x = np.empty(self.number_of_points+4)\n",
    "        u = np.empty(self.number_of_points+4)\n",
    "        \n",
    "        x[2:self.number_of_points+2] = self.x_b[2:self.number_of_points+2]\n",
    "        u[2:self.number_of_points+2] = 0.5*(self.rho_u[2:self.number_of_points+2]+self.rho_u[3:self.number_of_points+3])/ \\\n",
    "            (self.rho[2:self.number_of_points+2])\n",
    "\n",
    "        return x[2:self.number_of_points+2],self.rho[2:self.number_of_points+2],u[2:self.number_of_points+2]\n",
    "    \n",
    "    def run(self):\n",
    "\n",
    "        self.ti = 0.\n",
    "        self.is_not_end = True\n",
    "\n",
    "        while self.is_not_end:\n",
    "            \n",
    "            self.speed()\n",
    "            self.clock()\n",
    "            \n",
    "            self.van_leer_rho()\n",
    "            self.van_leer_rho_u()\n",
    "            \n",
    "            self.rho_u = self.pressure()\n",
    "            self.rho_u = self.gravity()\n",
    "            \n",
    "            if self.is_radforce:\n",
    "                self.rho_u = self.radforce()\n",
    "            \n",
    "            self.boundary()\n",
    "            self.output()\n",
    "            self.ti = self.ti + self.dt\n",
    "        return\n",
    "    "
   ]
  },
  {
   "cell_type": "markdown",
   "metadata": {},
   "source": [
    "## Hvězdný vítr hnaný zářením"
   ]
  },
  {
   "cell_type": "code",
   "execution_count": 3,
   "metadata": {},
   "outputs": [],
   "source": [
    "# Run code with choosen set of parameters\n",
    "g = Hydro1D(number_of_points=400,time_end=50.,xmin=1.0,xmax=5.0,sound_speed=0.1,cfl=0.35,vi1=2.0)\n",
    "\n",
    "# Init block of the astrophysical pp\n",
    "g.grid()\n",
    "g.g = g.setup_gravity_cak()\n",
    "g.initial(g.initial_cak())"
   ]
  },
  {
   "cell_type": "code",
   "execution_count": 4,
   "metadata": {},
   "outputs": [
    {
     "data": {
      "image/png": "[encoded data removed]",
      "text/plain": [
       "<Figure size 432x288 with 1 Axes>"
      ]
     },
     "metadata": {
      "needs_background": "light"
     },
     "output_type": "display_data"
    },
    {
     "data": {
      "image/png": "[encoded data removed]",
      "text/plain": [
       "<Figure size 432x288 with 1 Axes>"
      ]
     },
     "metadata": {
      "needs_background": "light"
     },
     "output_type": "display_data"
    }
   ],
   "source": [
    "g.g = g.setup_gravity_cak()\n",
    "g.initial(g.initial_cak())\n",
    "\n",
    "x,rho,vel = g.print_output()\n",
    "\n",
    "plt.plot(x,vel,'.')\n",
    "plt.show()\n",
    "\n",
    "plt.plot(x,rho,'r-')\n",
    "plt.show()"
   ]
  },
  {
   "cell_type": "markdown",
   "metadata": {},
   "source": [
    "Nic nám už nebrání ve spuštění simulace slunečního větru"
   ]
  },
  {
   "cell_type": "code",
   "execution_count": 6,
   "metadata": {},
   "outputs": [
    {
     "name": "stdout",
     "output_type": "stream",
     "text": [
      "0.0015927408022883617\n",
      "1.0008040608788635\n",
      "2.000882179367182\n",
      "3.000128768177568\n",
      "4.004167109956498\n",
      "5.003126145696811\n",
      "6.001035141227889\n",
      "7.001017436046922\n",
      "8.003167863498879\n",
      "9.003030756147\n",
      "10.000959572510345\n",
      "11.002414172289189\n",
      "12.00237270157837\n",
      "13.000444767082975\n",
      "14.002079258582565\n",
      "15.001859290426875\n",
      "16.00032870555705\n",
      "17.005248750518124\n",
      "18.00412214743522\n",
      "19.00058867331569\n",
      "20.000905614776322\n",
      "21.004046089961797\n",
      "22.004315628763756\n",
      "23.001431933265188\n",
      "24.000476363893\n",
      "25.00124055601553\n",
      "26.003503471540615\n",
      "27.0015825459948\n",
      "28.000787437443396\n",
      "29.00096734965217\n",
      "30.00198897914822\n",
      "31.003733393659886\n",
      "32.00058414653318\n",
      "33.00346039015757\n",
      "34.00125568187083\n",
      "35.004917291544345\n",
      "36.00334588491879\n",
      "37.00199192323542\n",
      "38.00079796318988\n",
      "39.00523082343429\n",
      "40.00420496687752\n",
      "41.003195594180276\n",
      "42.002163045676845\n",
      "43.00107104287295\n",
      "44.005404363747644\n",
      "45.004095787207845\n",
      "46.00263597830813\n",
      "47.00099928174163\n",
      "48.00467623353139\n",
      "49.00261564047347\n",
      "50.0003128491775\n"
     ]
    }
   ],
   "source": [
    "%px \n",
    "g.run()"
   ]
  },
  {
   "cell_type": "markdown",
   "metadata": {},
   "source": [
    "Po skončení simulace se podíváme na výsledek simulace, zda odpovídá našemu předpokládanému výsledku, tedy *hvězdnému větru hnaného zářením*. Je zapotřebí si uvědomit, že rychlost i poloha (tedy vzdálenost od Slunce) jsou uváděny v bezrozměrných jednotkách."
   ]
  },
  {
   "cell_type": "code",
   "execution_count": 9,
   "metadata": {},
   "outputs": [
    {
     "data": {
      "text/plain": [
       "Text(0.5, 0, 'r/R_s')"
      ]
     },
     "execution_count": 9,
     "metadata": {},
     "output_type": "execute_result"
    },
    {
     "data": {
      "image/png": "[encoded data removed]",
      "text/plain": [
       "<Figure size 432x288 with 1 Axes>"
      ]
     },
     "metadata": {
      "needs_background": "light"
     },
     "output_type": "display_data"
    }
   ],
   "source": [
    "x,rho,u = g.print_output()\n",
    "\n",
    "plt.plot(x,u,'b-')\n",
    "plt.xlabel('r/R_s')\n",
    "plt.ylabel('u')"
   ]
  },
  {
   "cell_type": "code",
   "execution_count": 32,
   "metadata": {
    "collapsed": true
   },
   "outputs": [],
   "source": [
    "g = Hydro1D(number_of_points=100,time_end=50.,xmin=1.0,xmax=10.0,sound_speed=1.0,cfl=0.4,vi1=2./9.)\n",
    "g.grid()"
   ]
  },
  {
   "cell_type": "markdown",
   "metadata": {},
   "source": [
    "### **Sluneční vítr**\n",
    "\n",
    "Před spuštěním simulace je nutné zvolit vhodné počáteční podmínky, tak aby mohl systém snadno dokonvergovat ke stacionárnímu řešení, které bude reprezentovat [**Parkerův sluneční vítr**](./PDF/solar_wind.pdf)"
   ]
  },
  {
   "cell_type": "code",
   "execution_count": 33,
   "metadata": {},
   "outputs": [
    {
     "data": {
      "image/png": "[encoded data removed]",
      "text/plain": [
       "<matplotlib.figure.Figure at 0x7f0156374d90>"
      ]
     },
     "metadata": {},
     "output_type": "display_data"
    },
    {
     "data": {
      "image/png": "[encoded data removed]",
      "text/plain": [
       "<matplotlib.figure.Figure at 0x7f0153f9cc90>"
      ]
     },
     "metadata": {},
     "output_type": "display_data"
    }
   ],
   "source": [
    "g.g = g.setup_gravity_solar()\n",
    "g.initial(g.initial_solar())\n",
    "\n",
    "x,rho,vel = g.print_output()\n",
    "\n",
    "## Initial profile of velocity\n",
    "plt.plot(x,vel,'.')\n",
    "plt.show()\n",
    "\n",
    "plt.plot(x,rho,'r-')\n",
    "plt.show()"
   ]
  },
  {
   "cell_type": "code",
   "execution_count": null,
   "metadata": {},
   "outputs": [],
   "source": [
    "###"
   ]
  },
  {
   "cell_type": "code",
   "execution_count": 35,
   "metadata": {},
   "outputs": [
    {
     "name": "stdout",
     "output_type": "stream",
     "text": [
      "0.0258083507172\n",
      "1.02574250039\n",
      "2.00705867107\n",
      "3.00857499521\n",
      "4.02047009543\n",
      "5.00047447982\n",
      "6.02335673524\n",
      "7.02359578077\n",
      "8.01596719195\n",
      "9.01762213024\n",
      "10.0264824324\n",
      "11.0036321167\n",
      "12.0028098306\n",
      "13.022920359\n",
      "14.0273809024\n",
      "15.0104006915\n",
      "16.0063734696\n",
      "17.0181923245\n",
      "18.0168175356\n",
      "19.0017548816\n",
      "20.023739677\n",
      "21.0216787261\n",
      "22.0233540326\n",
      "23.0032126653\n",
      "24.0128238879\n",
      "25.0017247753\n",
      "26.0194733733\n",
      "27.0177200761\n",
      "28.020129754\n",
      "29.0003900224\n",
      "30.0065452682\n",
      "31.0197453365\n",
      "32.0004770902\n",
      "33.0172409562\n",
      "34.0072028816\n",
      "35.0149953137\n",
      "36.0201301507\n",
      "37.0020263418\n",
      "38.0038958159\n",
      "39.0047532999\n",
      "40.0048698647\n",
      "41.0044411114\n",
      "42.0036093257\n",
      "43.0024787873\n",
      "44.0011264246\n",
      "45.0208521215\n",
      "46.0192103303\n",
      "47.017478277\n",
      "48.0156793227\n",
      "49.0138308572\n",
      "50.0119458086\n"
     ]
    }
   ],
   "source": [
    "%px \n",
    "g.run()"
   ]
  },
  {
   "cell_type": "code",
   "execution_count": 36,
   "metadata": {},
   "outputs": [
    {
     "data": {
      "text/plain": [
       "[<matplotlib.lines.Line2D at 0x7f0153e63450>]"
      ]
     },
     "execution_count": 36,
     "metadata": {},
     "output_type": "execute_result"
    },
    {
     "data": {
      "image/png": "[encoded data removed]",
      "text/plain": [
       "<matplotlib.figure.Figure at 0x7f01540d12d0>"
      ]
     },
     "metadata": {},
     "output_type": "display_data"
    }
   ],
   "source": [
    "x,rho,u = g.print_output()\n",
    "\n",
    "plt.plot(x,u,'b-')"
   ]
  },
  {
   "cell_type": "code",
   "execution_count": 34,
   "metadata": {},
   "outputs": [
    {
     "name": "stdout",
     "output_type": "stream",
     "text": [
      "Documentation for the profile module can be found \n",
      "in the Python Library Reference, section 'The Python Profiler'.\n"
     ]
    }
   ],
   "source": [
    "import profile; profile.help()"
   ]
  },
  {
   "cell_type": "code",
   "execution_count": null,
   "metadata": {
    "collapsed": true
   },
   "outputs": [],
   "source": []
  }
 ],
 "metadata": {
  "kernelspec": {
   "display_name": "Python 3",
   "language": "python",
   "name": "python3"
  },
  "language_info": {
   "codemirror_mode": {
    "name": "ipython",
    "version": 3
   },
   "file_extension": ".py",
   "mimetype": "text/x-python",
   "name": "python",
   "nbconvert_exporter": "python",
   "pygments_lexer": "ipython3",
   "version": "3.7.3"
  }
 },
 "nbformat": 4,
 "nbformat_minor": 2
}
