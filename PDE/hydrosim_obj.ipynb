{
 "cells": [
  {
   "cell_type": "markdown",
   "metadata": {},
   "source": [
    "## **Skelet hydrodynamického kódu**"
   ]
  },
  {
   "cell_type": "code",
   "execution_count": 1,
   "metadata": {},
   "outputs": [],
   "source": [
    "import numpy as np\n",
    "import matplotlib.pyplot as plt\n",
    "from ipywidgets import interact, FloatSlider\n",
    "%matplotlib inline"
   ]
  },
  {
   "cell_type": "markdown",
   "metadata": {},
   "source": [
    "Pro simulace a zkoušení různých schémat by se nám hodil nějaký \"obal\" pro naše schémata, který by se zároveň mohl postarat o uchování dat. Zárověň by nám mohl umožnit relativně snadné napojení na interaktivní widget kde bychom výsledky simulace mohli pohodlně sledovat. K takovému účelu nám velice dobře může posloužit námi definovaná třída. Jednotlivé funkce v této třídě budou mít pohodlně přístup k datům a při vytvíření instance můžeme vložit zvenčí definované schéma (případně ho později změnit).\n",
    "\n",
    "Začneme tedy tím, že si nejprve definujeme funkci našeho (zatím testovacího) schématu."
   ]
  },
  {
   "cell_type": "code",
   "execution_count": 2,
   "metadata": {},
   "outputs": [],
   "source": [
    "'''\n",
    "Up-wind\n",
    "'''\n",
    "def upwind(data, dx, dt, v):\n",
    "    u = np.copy(data[:,1])\n",
    "    data[1:-2,1] = u[1:-2]-(v*dt/dx) * (u[1:-2]-u[:-3])\n",
    "    return data"
   ]
  },
  {
   "cell_type": "markdown",
   "metadata": {},
   "source": [
    "Připravíme si také testovací profil. V tomto případě poměrně jednoduchý."
   ]
  },
  {
   "cell_type": "code",
   "execution_count": 3,
   "metadata": {},
   "outputs": [],
   "source": [
    "def profile(x):\n",
    "    tmp = np.ones_like(x) + 1.0\n",
    "    tmp[x<0.5] = 1.0\n",
    "    tmp[x>1.0] = 1.0\n",
    "    return tmp"
   ]
  },
  {
   "cell_type": "markdown",
   "metadata": {},
   "source": [
    "Nyní se můžeme pustit do implementace naší vysněné třídy. Pohledem na její kód zjistíme, že naše třída má několik důležitých funkcí. První z nich je funkce __init__ , která je zavolána vždy jako první při vytvoření nové instance třídy. Tato fukce očekává několik argumentů ... scheme - což je přímo funkce schématu (např. ta námi výše definovaná), data - počátační stav profilu, c - Courantovo-Friedrichsovo-Lewyho číslo ovlivňující přesnost řesení (nepovinný argument s deafaultní hodnotou c=0.4).\n",
    "\n",
    "Další velice důležitou funkcí je get_dt, která na základě zadané rychlosti určí paramert dt tak, aby řešení bylo stabilní. \n",
    "\n",
    "Dále následují funkce solve a plot, jejichž význam je už z názvů zřejmý. Solve očekává jako argumenty t_end udávající konečný čas simulace a v určující rychlost. Zavoláním funkce solve se provede celý vypočet až do času t_end a všechny mezivýsledky v časových krocích jsou uloženy do \"kontejneru\" aby přístup k datům z interaktivního plotu nevyžadoval pokaždé přepočítávat od začátku.\n",
    "\n",
    "Funkce plot už pak pouze vykresluje graf v zadaném čase t."
   ]
  },
  {
   "cell_type": "code",
   "execution_count": 4,
   "metadata": {},
   "outputs": [],
   "source": [
    "class Solver:\n",
    "    def __init__(self, scheme, data, c=0.4):\n",
    "        self.set_scheme(scheme)\n",
    "        self.data = np.copy(data)\n",
    "        self.container = [np.copy(data)]\n",
    "        self.c = c\n",
    "        self.dx = abs(data[1,0]-data[0,0])\n",
    "    \n",
    "    def set_scheme(self, scheme):\n",
    "        self.scheme = scheme\n",
    "    \n",
    "    def get_dt(self, v):\n",
    "        return self.c*self.dx/v\n",
    "    \n",
    "    def solve(self, t_end, v):\n",
    "        dt = self.get_dt(v)\n",
    "        self.t_end = t_end\n",
    "        t = 0.0\n",
    "        while t <= t_end:\n",
    "            self.data = self.scheme(self.data, self.dx, dt, v)\n",
    "            self.container.append(np.copy(self.data))\n",
    "            t += dt\n",
    "    \n",
    "    def plot(self, t):\n",
    "        i = int((t/self.t_end)*len(self.container))\n",
    "        plt.xlim((0, 2))\n",
    "        plt.ylim((0,3))\n",
    "        plt.plot(self.container[i][:,0], self.container[i][:,1])"
   ]
  },
  {
   "cell_type": "markdown",
   "metadata": {},
   "source": [
    "Tak si naší skromně vypadající třídu vyzkoušíme s interativním plotem :)"
   ]
  },
  {
   "cell_type": "code",
   "execution_count": 5,
   "metadata": {},
   "outputs": [
    {
     "data": {
      "application/vnd.jupyter.widget-view+json": {
       "model_id": "070ac184a9224a4d8a003387ed633c6a",
       "version_major": 2,
       "version_minor": 0
      },
      "text/plain": [
       "interactive(children=(FloatSlider(value=0.0, description='t', max=2.5, step=0.016161616161616165), Output()), …"
      ]
     },
     "metadata": {},
     "output_type": "display_data"
    },
    {
     "data": {
      "text/plain": [
       "<function ipywidgets.widgets.interaction._InteractFactory.__call__.<locals>.<lambda>(*args, **kwargs)>"
      ]
     },
     "execution_count": 5,
     "metadata": {},
     "output_type": "execute_result"
    }
   ],
   "source": [
    "n = 100\n",
    "x = np.linspace(0.0, 2.0, n)\n",
    "data = np.column_stack((x, profile(x)))\n",
    "sol = Solver(upwind, data)\n",
    "\n",
    "t_end, v = 2.5, 0.5\n",
    "sol.solve(t_end, v)\n",
    "\n",
    "interact(sol.plot,\n",
    "         t=FloatSlider(min=0.0, max=t_end, step=sol.get_dt(v)))"
   ]
  },
  {
   "cell_type": "markdown",
   "metadata": {},
   "source": [
    "Použití tohoto přístupu k výpočtu nám dáva poměrně široké možnosti zkoušení, srovnávaní a ladění různých schémat bez nutnosti mnohokrát vypisovat stejný nebo velmi podobný kód. O všechny důležíté aspekty výpočtu se postará naše třída Solver a my se můžeme soustředit na hrátky se schématy. Schopnosti takové třídy je samozřejmě možné dále rozšiřovat např. o možnost výpisu vysledků do souboru apod."
   ]
  }
 ],
 "metadata": {
  "kernelspec": {
   "display_name": "Python 3",
   "language": "python",
   "name": "python3"
  },
  "language_info": {
   "codemirror_mode": {
    "name": "ipython",
    "version": 3
   },
   "file_extension": ".py",
   "mimetype": "text/x-python",
   "name": "python",
   "nbconvert_exporter": "python",
   "pygments_lexer": "ipython3",
   "version": "3.7.3"
  }
 },
 "nbformat": 4,
 "nbformat_minor": 2
}
