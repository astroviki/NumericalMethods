{
 "cells": [
  {
   "cell_type": "markdown",
   "metadata": {},
   "source": [
    "## Částicové metody simulace plazmatu\n",
    "\n",
    "V předchozích kapitolách jsme se zabývali popisem plazmatu pomocí hydrodynamických rovnic a jejich numerickým řešením. Na plasma se ale můžeme dívat i jiným pohledem, ne jako na spojitou tekutinu ale jako na velké množství vzájemně interagujících částic, které v jejich důsledku vykazují kolektivní chování.\n",
    "\n",
    "<p style=\"text-align: center;\">\n",
    "    <img src=\"./Images/two_stream_instability.png\" width=400px>\n",
    "    <br>\n",
    "    <em> Dvousložková nestabilita v plazmatu</em>\n",
    "    </p>"
   ]
  },
  {
   "cell_type": "markdown",
   "metadata": {},
   "source": [
    "1. [Smoothed Particle Hydrodynamics]()\n",
    "2. [Particle in Cell](./introPIC.ipynb)\n",
    "3. [Simulace n-částic]()"
   ]
  },
  {
   "cell_type": "code",
   "execution_count": null,
   "metadata": {},
   "outputs": [],
   "source": []
  }
 ],
 "metadata": {
  "kernelspec": {
   "display_name": "Python 3",
   "language": "python",
   "name": "python3"
  },
  "language_info": {
   "codemirror_mode": {
    "name": "ipython",
    "version": 3
   },
   "file_extension": ".py",
   "mimetype": "text/x-python",
   "name": "python",
   "nbconvert_exporter": "python",
   "pygments_lexer": "ipython3",
   "version": "3.7.3"
  }
 },
 "nbformat": 4,
 "nbformat_minor": 2
}
