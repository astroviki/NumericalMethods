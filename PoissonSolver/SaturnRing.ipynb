{
 "cells": [
  {
   "cell_type": "markdown",
   "metadata": {},
   "source": [
    "## Saturn ring stability simulation\n",
    "\n",
    "Check Maxwell criterion\n",
    "\n",
    "$$\n",
    "\\frac{M_{\\rm Saturn}}{M_{\\rm ring}} > 0.435n^2\n",
    "$$\n",
    "\n",
    "$$\n",
    "F_i = \\sum_{k=1}^{n}\\frac{G m_i m_k}{d_{ik}}^3 {\\bf{r}}_{ik}\n",
    "$$"
   ]
  },
  {
   "cell_type": "markdown",
   "metadata": {},
   "source": [
    "As the frist step we will simulate 2D two-body problem in cartesian coordinates, for example calculate small planet orbit around the Sun. \n",
    "\n",
    "Initial conditions are very simple: Sun is located on coordinates ($x=y=z=0$) and ($v_x=v_y=v_z=0$) and the Jupiter at ($x=r,y=z=0$) with the initial velocity ($v_x=v_z=0,v_y=v_c$), where $v_c$ is the velocity of a circular orbit with radius $r$."
   ]
  },
  {
   "cell_type": "code",
   "execution_count": 1,
   "metadata": {},
   "outputs": [],
   "source": [
    "import numpy as np\n",
    "\n",
    "r = 1.0\n",
    "vc = 1.0\n",
    "dt = 0.1\n",
    "\n",
    "number_of_planets = 2\n",
    "particles_x = np.array([0,r])\n",
    "particles_vx = np.array([0,0])\n",
    "particles_y = np.array([0,0])\n",
    "\n",
    "particles_vy = np.array([0,vc])\n",
    "particles_mass = np.array([1.0,0.1])\n",
    "\n",
    "\n",
    "ax=np.zeros(number_of_planets)\n",
    "ay=np.zeros(number_of_planets)\n"
   ]
  },
  {
   "cell_type": "code",
   "execution_count": 2,
   "metadata": {},
   "outputs": [],
   "source": [
    "from astropy.constants import G,au,M_sun\n",
    "\n",
    "year_sec = 365.0*24.0*3600.0\n",
    "const = 39.42\n",
    "time = 0.0\n",
    "\n",
    "while time < 5.0:\n",
    "    for i,x_i in enumerate(np.nditer(particles_x)):\n",
    "    # Force acting on i-point mass planet\n",
    "        for j,x_j in enumerate(np.nditer(particles_x)):\n",
    "        \n",
    "            if j != i:\n",
    "                square_distance_x = (x_i-x_j)*(x_i-x_j)\n",
    "            \n",
    "                a_x = particles_mass[i]*particles_mass[j]/square_distance_x*const\n",
    "\n",
    "            else:\n",
    "                a_x = 0\n",
    "            \n",
    "            ax[i]=ax[i]+a_x\n",
    "            particles_vx[i] = particles_vx[i]+ax[i]*dt\n",
    "            particles_x[i] = particles_x[i]+particles_vx[i]*dt\n",
    "        \n",
    "    for i,y_i in enumerate(np.nditer(particles_x)):\n",
    "        # Force acting on i-point mass planet\n",
    "        for j,y_j in enumerate(np.nditer(particles_x)):\n",
    "        \n",
    "            if j != i:\n",
    "                square_distance_y = (y_i-y_j)*(y_i-y_j)\n",
    "                a_y = particles_mass[i]*particles_mass[j]/square_distance_y*const\n",
    "            else:\n",
    "                a_y = 0\n",
    "            \n",
    "            ay[i]=ay[i]+a_y\n",
    "            particles_vy[i] = particles_vy[i]+ay[i]*dt\n",
    "            particles_x[i] = particles_x[i]+particles_vx[i]*dt\n",
    "    time = time + dt"
   ]
  },
  {
   "cell_type": "code",
   "execution_count": 3,
   "metadata": {},
   "outputs": [
    {
     "data": {
      "text/plain": [
       "array([ 955.5, 1873.8])"
      ]
     },
     "execution_count": 3,
     "metadata": {},
     "output_type": "execute_result"
    }
   ],
   "source": [
    "particles_x"
   ]
  },
  {
   "cell_type": "markdown",
   "metadata": {},
   "source": [
    "6.67408 × 10-11 m3 kg-1 s-2"
   ]
  },
  {
   "cell_type": "code",
   "execution_count": 4,
   "metadata": {},
   "outputs": [
    {
     "name": "stdout",
     "output_type": "stream",
     "text": [
      "1.9884754153381438e+30\n"
     ]
    }
   ],
   "source": [
    "print(M_sun.value)"
   ]
  },
  {
   "cell_type": "code",
   "execution_count": 5,
   "metadata": {},
   "outputs": [
    {
     "data": {
      "text/plain": [
       "39.42290393638956"
      ]
     },
     "execution_count": 5,
     "metadata": {},
     "output_type": "execute_result"
    }
   ],
   "source": [
    "G.value*M_sun.value*year_sec**2/au.value**3"
   ]
  },
  {
   "cell_type": "code",
   "execution_count": 6,
   "metadata": {},
   "outputs": [
    {
     "data": {
      "text/plain": [
       "6.673588379600597e-11"
      ]
     },
     "execution_count": 6,
     "metadata": {},
     "output_type": "execute_result"
    }
   ],
   "source": [
    "39.42*au.value**3/M_sun.value/year_sec**2"
   ]
  },
  {
   "cell_type": "code",
   "execution_count": 7,
   "metadata": {},
   "outputs": [
    {
     "name": "stdout",
     "output_type": "stream",
     "text": [
      "  Name   = Astronomical Unit\n",
      "  Value  = 149597870700.0\n",
      "  Uncertainty  = 0.0\n",
      "  Unit  = m\n",
      "  Reference = IAU 2012 Resolution B2\n"
     ]
    }
   ],
   "source": [
    "print(au)"
   ]
  },
  {
   "cell_type": "code",
   "execution_count": 8,
   "metadata": {},
   "outputs": [],
   "source": [
    "#!/usr/bin/env python3\n",
    "\n",
    "import math\n",
    "from turtle import *\n",
    "\n",
    "# The gravitational constant G\n",
    "G = 6.67428e-11\n",
    "\n",
    "# Assumed scale: 100 pixels = 1AU.\n",
    "AU = (149.6e6 * 1000)     # 149.6 million km, in meters.\n",
    "SCALE = 250 / AU\n",
    "\n",
    "class Body(Turtle):\n",
    "    \"\"\"Subclass of Turtle representing a gravitationally-acting body.\n",
    "\n",
    "    Extra attributes:\n",
    "    mass : mass in kg\n",
    "    vx, vy: x, y velocities in m/s\n",
    "    px, py: x, y positions in m\n",
    "    \"\"\"\n",
    "    \n",
    "    name = 'Body'\n",
    "    mass = None\n",
    "    vx = vy = 0.0\n",
    "    px = py = 0.0\n",
    "    \n",
    "    def attraction(self, other):\n",
    "        \"\"\"(Body): (fx, fy)\n",
    "\n",
    "        Returns the force exerted upon this body by the other body.\n",
    "        \"\"\"\n",
    "        # Report an error if the other object is the same as this one.\n",
    "        if self is other:\n",
    "            raise ValueError(\"Attraction of object %r to itself requested\"\n",
    "                             % self.name)\n",
    "\n",
    "        # Compute the distance of the other body.\n",
    "        sx, sy = self.px, self.py\n",
    "        ox, oy = other.px, other.py\n",
    "        dx = (ox-sx)\n",
    "        dy = (oy-sy)\n",
    "        d = math.sqrt(dx**2 + dy**2)\n",
    "\n",
    "        # Report an error if the distance is zero; otherwise we'll\n",
    "        # get a ZeroDivisionError exception further down.\n",
    "        if d == 0:\n",
    "            raise ValueError(\"Collision between objects %r and %r\"\n",
    "                             % (self.name, other.name))\n",
    "\n",
    "        # Compute the force of attraction\n",
    "        f = G * self.mass * other.mass / (d**2)\n",
    "\n",
    "        # Compute the direction of the force.\n",
    "        theta = math.atan2(dy, dx)\n",
    "        fx = math.cos(theta) * f\n",
    "        fy = math.sin(theta) * f\n",
    "        return fx, fy\n",
    "\n",
    "def update_info(step, bodies):\n",
    "    \"\"\"(int, [Body])\n",
    "    \n",
    "    Displays information about the status of the simulation.\n",
    "    \"\"\"\n",
    "    print('Step #{}'.format(step))\n",
    "    for body in bodies:\n",
    "        s = '{:<8}  Pos.={:>6.2f} {:>6.2f} Vel.={:>10.3f} {:>10.3f}'.format(\n",
    "            body.name, body.px/AU, body.py/AU, body.vx, body.vy)\n",
    "        print(s)\n",
    "    print()\n",
    "\n",
    "def loop(bodies):\n",
    "    \"\"\"([Body])\n",
    "\n",
    "    Never returns; loops through the simulation, updating the\n",
    "    positions of all the provided bodies.\n",
    "    \"\"\"\n",
    "    timestep = 24*3600  # One day\n",
    "    \n",
    "    #for body in bodies:\n",
    "        #body.penup()\n",
    "        #body.hideturtle()\n",
    "\n",
    "    step = 1\n",
    "    while step<10:\n",
    "        #update_info(step, bodies)\n",
    "        step += 1\n",
    "\n",
    "        force = {}\n",
    "        for body in bodies:\n",
    "            # Add up all of the forces exerted on 'body'.\n",
    "            total_fx = total_fy = 0.0\n",
    "            for other in bodies:\n",
    "                # Don't calculate the body's attraction to itself\n",
    "                if body is other:\n",
    "                    continue\n",
    "                fx, fy = body.attraction(other)\n",
    "                total_fx += fx\n",
    "                total_fy += fy\n",
    "\n",
    "            # Record the total force exerted.\n",
    "            force[body] = (total_fx, total_fy)\n",
    "\n",
    "        # Update velocities based upon on the force.\n",
    "        for body in bodies:\n",
    "            fx, fy = force[body]\n",
    "            body.vx += fx / body.mass * timestep\n",
    "            body.vy += fy / body.mass * timestep\n",
    "\n",
    "            # Update positions\n",
    "            body.px += body.vx * timestep\n",
    "            body.py += body.vy * timestep\n",
    "            body.goto(body.px*SCALE, body.py*SCALE)\n",
    "            body.dot(3)\n",
    "\n",
    "\n",
    "def main():\n",
    "    sun = Body()\n",
    "    sun.name = 'Sun'\n",
    "    sun.mass = 1.98892 * 10**30\n",
    "    sun.pencolor('yellow')\n",
    "\n",
    "    earth = Body()\n",
    "    earth.name = 'Earth'\n",
    "    earth.mass = 5.9742 * 10**24\n",
    "    earth.px = -1*AU\n",
    "    earth.vy = 29.783 * 1000            # 29.783 km/sec\n",
    "    earth.pencolor('blue')\n",
    "\n",
    "    # Venus parameters taken from\n",
    "    # http://nssdc.gsfc.nasa.gov/planetary/factsheet/venusfact.html\n",
    "    venus = Body()\n",
    "    venus.name = 'Venus'\n",
    "    venus.mass = 4.8685 * 10**24\n",
    "    venus.px = 0.723 * AU\n",
    "    venus.vy = -35.02 * 1000\n",
    "    venus.pencolor('red')\n",
    "\n",
    "    loop([sun, earth, venus])\n",
    "\n",
    "if __name__ == '__main__':\n",
    "    main()"
   ]
  },
  {
   "cell_type": "code",
   "execution_count": 1,
   "metadata": {},
   "outputs": [
    {
     "data": {
      "application/vnd.jupyter.widget-view+json": {
       "model_id": "c07ee3cf980643c18a74d65efccad0a5",
       "version_major": 2,
       "version_minor": 0
      },
      "text/plain": [
       "Turtle()"
      ]
     },
     "metadata": {},
     "output_type": "display_data"
    }
   ],
   "source": []
  },
  {
   "cell_type": "code",
   "execution_count": null,
   "metadata": {},
   "outputs": [],
   "source": []
  }
 ],
 "metadata": {
  "kernelspec": {
   "display_name": "Python 3",
   "language": "python",
   "name": "python3"
  },
  "language_info": {
   "codemirror_mode": {
    "name": "ipython",
    "version": 3
   },
   "file_extension": ".py",
   "mimetype": "text/x-python",
   "name": "python",
   "nbconvert_exporter": "python",
   "pygments_lexer": "ipython3",
   "version": "3.7.0"
  }
 },
 "nbformat": 4,
 "nbformat_minor": 4
}
