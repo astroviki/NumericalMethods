{
 "cells": [
  {
   "cell_type": "markdown",
   "metadata": {},
   "source": [
    "# Řešení soustavy lineárních rovnic\n",
    "\n",
    "Máme za úkol řešit soustavu rovnic \n",
    "$$\n",
    "{\\bf \\mathcal{A}}{\\bf x} = {\\bf b}\n",
    "$$\n",
    "kde $\\bf {\\mathcal{A}}$ je čtvercová matice $n \\times n$, ${\\bf x}$ je hledaný vektor řešení a $\\bf b$ je vektor pravých stran.\n",
    "\n",
    "Iterační metody se používají k nalezení řešení soustavy lineárních rovnic o $n$ neznámých, kde $n$ je velké číslo. Při řešení soustav lineárních rovnic pomocí iteračních metod nedostáváme přesné řešení soustavy. Počítáme posloupnost vektorů $x_k$, kde $k\\in N$, která konverguje, při splnění určitých předpokladů, k přesnému řešení $x_*$. Můžeme provést pouze konečný počet kroků dané iterační metody, a proto se tedy můžeme většinou jen přiblížit k přesnému řešení $x_∗$ a to s určitou přesností. Tu budeme označovat $\\varepsilon$. Iteračními metodami se snažíme tedy pouze nalézt dostatečně přesnou aproximaci přesného řešení."
   ]
  },
  {
   "cell_type": "markdown",
   "metadata": {},
   "source": [
    "### Testovací systém\n",
    "\n",
    "$$\n",
    "\\left(\n",
    "\\begin{matrix}\n",
    "10. & -1. & 2. & 0.\\\\\n",
    "-1. & 11. & -1. & 3. \\\\\n",
    "2. & -1. & 10. & -1. \\\\\n",
    "0. & 3. & -1. & 8. \\\\\n",
    "\\end{matrix}\n",
    "\\right)\\left(\n",
    "\\begin{matrix}\n",
    "x_1 \\\\\n",
    "x_2 \\\\\n",
    "x_3 \\\\\n",
    "x_4 \\\\\n",
    "\\end{matrix}\n",
    "\\right) = \\left(\\begin{matrix}\n",
    "6.\\\\\n",
    "25.\\\\ \n",
    "-11.\\\\\n",
    "15 \\\\\n",
    "\\end{matrix}\\right)\n",
    "$$\n",
    "\n",
    "Řešením soustavy je vektor \n",
    "$$\n",
    "x=\\left(\n",
    "1, 2, -1, 1\n",
    "\\right)\n",
    "$$"
   ]
  },
  {
   "cell_type": "code",
   "execution_count": 35,
   "metadata": {},
   "outputs": [],
   "source": [
    "import numpy as np\n",
    "#An example case that mirrors the one in the Wikipedia article\n",
    "residual_convergence = 1e-8\n",
    "omega = 0.5 #Relaxation factor\n",
    "\n",
    "A = np.array([[10., -1., 2., 0.],\n",
    "              [-1., 11., -1., 3.],\n",
    "              [2., -1., 10., -1.],\n",
    "              [0., 3., -1., 8.]])\n",
    "# initialize the RHS vector\n",
    "b = np.array([6., 25., -11., 15.])\n"
   ]
  },
  {
   "cell_type": "markdown",
   "metadata": {},
   "source": [
    "## Gaussova-Seidelova metoda"
   ]
  },
  {
   "cell_type": "code",
   "execution_count": 41,
   "metadata": {},
   "outputs": [
    {
     "name": "stdout",
     "output_type": "stream",
     "text": [
      "Iteration 1: [0. 0. 0. 0.]\n",
      "Iteration 2: [ 0.6         2.32727273 -0.98727273  0.87886364]\n",
      "Iteration 3: [ 1.03018182  2.03693802 -1.0144562   0.98434122]\n",
      "Iteration 4: [ 1.00658504  2.00355502 -1.00252738  0.99835095]\n",
      "Iteration 5: [ 1.00086098  2.00029825 -1.00030728  0.99984975]\n",
      "Iteration 6: [ 1.00009128  2.00002134 -1.00003115  0.9999881 ]\n",
      "Iteration 7: [ 1.00000836  2.00000117 -1.00000275  0.99999922]\n",
      "Iteration 8: [ 1.00000067  2.00000002 -1.00000021  0.99999996]\n",
      "Iteration 9: [ 1.00000004  1.99999999 -1.00000001  1.        ]\n",
      "Iteration 10: [ 1.  2. -1.  1.]\n"
     ]
    }
   ],
   "source": [
    "iter_limit = 1000\n",
    "\n",
    "def gauss_seidel(A,b,iter_limit):\n",
    "    \"\"\"Solves the equation Ax=b via the Gauss-Seidel iterative method.\"\"\"\n",
    "    x = np.zeros_like(b)\n",
    "    \n",
    "    for it_count in range(1, iter_limit):\n",
    "        x_new = np.zeros_like(x)\n",
    "        print(\"Iteration {0}: {1}\".format(it_count, x))\n",
    "        for i in range(A.shape[0]):\n",
    "            s1 = np.dot(A[i, :i], x_new[:i])\n",
    "            s2 = np.dot(A[i, i + 1:], x[i + 1:])\n",
    "            x_new[i] = (b[i] - s1 - s2) / A[i, i]\n",
    "        if np.allclose(x, x_new, rtol=1e-8):\n",
    "            break\n",
    "        x = x_new\n",
    "    return x\n",
    "    \n",
    "result = gauss_seidel(A,b,iter_limit)"
   ]
  },
  {
   "cell_type": "markdown",
   "metadata": {},
   "source": [
    "## Jacobiho metoda"
   ]
  },
  {
   "cell_type": "code",
   "execution_count": 42,
   "metadata": {},
   "outputs": [],
   "source": [
    "def jacobi(A,b,iter_limit):\n",
    "    \"\"\"Solves the equation Ax=b via the Jacobi iterative method.\"\"\"\n",
    "    # Create an initial guess if needed\n",
    "    n = np.size(b)\n",
    "    x = np.zeros_like(b)\n",
    "\n",
    "    # Create a vector of the diagonal elements of A                                                                                                                                                \n",
    "    # and subtract them from A                                                                                                                                                                     \n",
    "    D = np.diag(A)\n",
    "    R = A - np.diagflat(D)\n",
    "\n",
    "    # Iterate for N times                                                                                                                                                                          \n",
    "    for i in range(iter_limit):\n",
    "        x_new = np.zeros_like(x)\n",
    "        x_new = (b - np.dot(R,x)) / D\n",
    "        print(\"Iteration {0}: {1}\".format(i, x))\n",
    "        \n",
    "        if np.allclose(x, x_new, rtol=1e-9):\n",
    "            break\n",
    "        x = x_new\n",
    "    return x"
   ]
  },
  {
   "cell_type": "code",
   "execution_count": 43,
   "metadata": {},
   "outputs": [
    {
     "name": "stdout",
     "output_type": "stream",
     "text": [
      "Iteration 0: [0. 0. 0. 0.]\n",
      "Iteration 1: [ 0.6         2.27272727 -1.1         1.875     ]\n",
      "Iteration 2: [ 1.04727273  1.71590909 -0.80522727  0.88522727]\n",
      "Iteration 3: [ 0.93263636  2.05330579 -1.04934091  1.13088068]\n",
      "Iteration 4: [ 1.01519876  1.95369576 -0.96810863  0.97384272]\n",
      "Iteration 5: [ 0.9889913   2.01141473 -1.0102859   1.02135051]\n",
      "Iteration 6: [ 1.00319865  1.99224126 -0.99452174  0.99443374]\n",
      "Iteration 7: [ 0.99812847  2.00230688 -1.00197223  1.00359431]\n",
      "Iteration 8: [ 1.00062513  1.9986703  -0.99903558  0.99888839]\n",
      "Iteration 9: [ 0.99967415  2.00044767 -1.00036916  1.00061919]\n",
      "Iteration 10: [ 1.0001186   1.99976795 -0.99982814  0.99978598]\n",
      "Iteration 11: [ 0.99994242  2.00008477 -1.00006833  1.0001085 ]\n",
      "Iteration 12: [ 1.00002214  1.99995896 -0.99996916  0.99995967]\n",
      "Iteration 13: [ 0.99998973  2.00001582 -1.00001257  1.00001924]\n",
      "Iteration 14: [ 1.00000409  1.99999268 -0.99999444  0.9999925 ]\n",
      "Iteration 15: [ 0.99999816  2.00000292 -1.0000023   1.00000344]\n",
      "Iteration 16: [ 1.00000075  1.99999868 -0.99999899  0.99999862]\n",
      "Iteration 17: [ 0.99999967  2.00000054 -1.00000042  1.00000062]\n",
      "Iteration 18: [ 1.00000014  1.99999976 -0.99999982  0.99999975]\n",
      "Iteration 19: [ 0.99999994  2.0000001  -1.00000008  1.00000011]\n",
      "Iteration 20: [ 1.00000003  1.99999996 -0.99999997  0.99999995]\n",
      "Iteration 21: [ 0.99999999  2.00000002 -1.00000001  1.00000002]\n",
      "Iteration 22: [ 1.          1.99999999 -0.99999999  0.99999999]\n",
      "Iteration 23: [ 1.  2. -1.  1.]\n"
     ]
    },
    {
     "data": {
      "text/plain": [
       "array([ 1.,  2., -1.,  1.])"
      ]
     },
     "execution_count": 43,
     "metadata": {},
     "output_type": "execute_result"
    }
   ],
   "source": [
    "jacobi(A,b,iter_limit)"
   ]
  },
  {
   "cell_type": "markdown",
   "metadata": {},
   "source": [
    "## SOR (*Succesive over-relaxation*) metoda"
   ]
  },
  {
   "cell_type": "code",
   "execution_count": 39,
   "metadata": {},
   "outputs": [],
   "source": [
    "# Iterative Simultaneous Over-Relaxation Method\n",
    "def sor_solver(A, b, omega, initial_guess, convergence_criteria):\n",
    "  \"\"\"\n",
    "  This is an implementation of the pseduo-code provided in the Wikipedia article.\n",
    "  Inputs:\n",
    "    A: nxn numpy matrix\n",
    "    b: n dimensional numpy vector\n",
    "    omega: relaxation factor\n",
    "    initial_guess: An initial solution guess for the solver to start with\n",
    "  Returns:\n",
    "    phi: solution vector of dimension n\n",
    "  \"\"\"\n",
    "  count = 0\n",
    "  phi = initial_guess[:]\n",
    "  residual = np.linalg.norm(np.matmul(A, phi) - b) #Initial residual\n",
    "  while residual > convergence_criteria:\n",
    "    count = count + 1\n",
    "    \n",
    "    for i in range(A.shape[0]):\n",
    "      sigma = 0\n",
    "      for j in range(A.shape[1]):\n",
    "        if j != i:\n",
    "          sigma += A[i][j] * phi[j]\n",
    "      phi[i] = (1 - omega) * phi[i] + (omega / A[i][i]) * (b[i] - sigma)\n",
    "    residual = np.linalg.norm(np.matmul(A, phi) - b)\n",
    "    \n",
    "  return phi"
   ]
  },
  {
   "cell_type": "code",
   "execution_count": 40,
   "metadata": {},
   "outputs": [
    {
     "data": {
      "text/plain": [
       "array([ 1.,  2., -1.,  1.])"
      ]
     },
     "execution_count": 40,
     "metadata": {},
     "output_type": "execute_result"
    }
   ],
   "source": [
    "residual_convergence = 1e-8\n",
    "omega = 0.5 #Relaxation factor\n",
    "initial_guess = np.zeros(4)\n",
    "phi = sor_solver(A, b, omega, initial_guess, residual_convergence)\n",
    "\n",
    "phi"
   ]
  },
  {
   "cell_type": "code",
   "execution_count": null,
   "metadata": {},
   "outputs": [],
   "source": []
  },
  {
   "cell_type": "code",
   "execution_count": null,
   "metadata": {},
   "outputs": [],
   "source": []
  },
  {
   "cell_type": "markdown",
   "metadata": {},
   "source": [
    "\n",
    "1. **Příklad** Vyzkoušejte výše uvedené iterační metody na soustavě lineárních rovnic\n",
    "\n",
    "$$\n",
    "\\left(\n",
    "\\begin{matrix}\n",
    "4 & -1 & -6 &  0 \\\\\n",
    "-5 & -4 & 10 &  8 \\\\\n",
    "0 & 9 & 4 & -2 \\\\\n",
    "1 & 0 & -7 & 5 \\\\\n",
    "\\end{matrix}\n",
    "\\right)\\left(\n",
    "\\begin{matrix}\n",
    "x_1 \\\\\n",
    "x_2 \\\\\n",
    "x_3 \\\\\n",
    "x_4 \\\\\n",
    "\\end{matrix}\n",
    "\\right) = \\left(\\begin{matrix}\n",
    "2 \\\\\n",
    "21 \\\\\n",
    "-12 \\\\\n",
    "-6 \\\\\n",
    "\\end{matrix}\\right)\n",
    "$$\n",
    "\n",
    "Řešením soustavy je vektor \n",
    "$$\n",
    "x=\\left(\n",
    "3, -2, 2, 1\n",
    "\\right)\n",
    "$$"
   ]
  },
  {
   "cell_type": "code",
   "execution_count": null,
   "metadata": {},
   "outputs": [],
   "source": []
  }
 ],
 "metadata": {
  "kernelspec": {
   "display_name": "Python 3",
   "language": "python",
   "name": "python3"
  },
  "language_info": {
   "codemirror_mode": {
    "name": "ipython",
    "version": 3
   },
   "file_extension": ".py",
   "mimetype": "text/x-python",
   "name": "python",
   "nbconvert_exporter": "python",
   "pygments_lexer": "ipython3",
   "version": "3.7.0"
  }
 },
 "nbformat": 4,
 "nbformat_minor": 4
}
