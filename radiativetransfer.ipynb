{
  "nbformat": 4,
  "nbformat_minor": 0,
  "metadata": {
    "colab": {
      "name": "radiativetransfer.ipynb",
      "provenance": [],
      "authorship_tag": "ABX9TyMb2gSMLus6AS7wdOZD14H2",
      "include_colab_link": true
    },
    "kernelspec": {
      "name": "python3",
      "display_name": "Python 3"
    },
    "language_info": {
      "name": "python"
    }
  },
  "cells": [
    {
      "cell_type": "markdown",
      "metadata": {
        "id": "view-in-github",
        "colab_type": "text"
      },
      "source": [
        "<a href=\"https://colab.research.google.com/github/astroviki/NumericalMethods/blob/main/radiativetransfer.ipynb\" target=\"_parent\"><img src=\"https://colab.research.google.com/assets/colab-badge.svg\" alt=\"Open In Colab\"/></a>"
      ]
    },
    {
      "cell_type": "code",
      "metadata": {
        "id": "Pgvnj0y7GjWj"
      },
      "source": [
        "import numpy as np\n",
        "import matplotlib.pyplot as plt\n",
        "import pandas as pd\n",
        "from astropy import constants as const\n"
      ],
      "execution_count": 2,
      "outputs": []
    },
    {
      "cell_type": "markdown",
      "metadata": {
        "id": "GVIKYlFRGrXZ"
      },
      "source": [
        "# Jednoduchý model hvězdné atmosféry\n",
        "\n",
        "Příklad včetně postup výpočtu byl převzat z knihy [P. Hellings *Astrophysics with a PC*](https://www.amazon.com/gp/product/B010WFIZTK/ref=dbs_a_def_rwt_hsch_vapi_taft_p1_i0). Jedná se o velmi zjednodušený model hvězdné atmosféry, určené dvěma volnými parametry: Efektivní teplotou na povrchu $T_{\\rm eff}$ a gravitačním zrychlením $g_s$ na povrchu hvězdy.\n",
        "\n",
        "V rámci modelu uvažujeme pro zjednodušení uvažujeme chemické složení stejné jako v naší Galaxii. Na chemickém složení závisí především absorbční koeficient $\\kappa$ a výpočet střední molekoulové hmotnosti $\\mu$.\n",
        "\n"
      ]
    },
    {
      "cell_type": "markdown",
      "metadata": {
        "id": "-OmfX66HH9c_"
      },
      "source": [
        "Definujeme si funkce pro výpočet jednotlivých veličin, charakterizujících astmosféru: Teplotu $T$[K], zářivé zrychlení $g_{\\rm rad}$, tlak plynu $P_{\\rm g}$, tlak záření $P_{\\rm rad}$"
      ]
    },
    {
      "cell_type": "code",
      "metadata": {
        "id": "WKz9kxnNb-2z"
      },
      "source": [
        "def temperature(tau):\n",
        "  q = 0.7104-0.1331*np.exp(-3.4488*tau)\n",
        "  return (3.0/4.0*Teff**4*(tau+q))**0.25\n",
        "\n",
        "def rad_press(T):\n",
        "  return 1.0/3.0*a*T**4.0\n",
        "\n",
        "def eqstate(T):\n",
        "  return Pg*mu/(T*R)\n",
        "\n",
        "def absorb(rho,T):\n",
        "  return 1.984e24*rho*T**(-3.5)\n",
        "\n",
        "def rad_accel(kappa,tau):\n",
        "  return kappa/4.0*a*Teff**4*(1.0+0.459**np.exp(-3.4488*tau))\n",
        "\n",
        "def gefect(kappa,tau):\n",
        "  return gs-rad_accel(kappa,tau)\n",
        "\n",
        "def density(T,Pg):\n",
        "  return mu*Pg/(R*T)\n",
        "\n"
      ],
      "execution_count": 11,
      "outputs": []
    },
    {
      "cell_type": "markdown",
      "metadata": {
        "id": "gBrcEWc8ijHH"
      },
      "source": [
        "###Střední molekulová hmotnost \n",
        "\n",
        "| T/log g | 5000  | 6000  | 7000  | 8000  | 10000 | 12000 | 14000 | 16000 |\n",
        "|---------|-------|-------|-------|-------|-------|-------|-------|-------|\n",
        "| 4       | 1.289 | 1.287 | 1.285 | 1.277 | 1.048 | 0.724 | 0.682 | 0.672 |\n",
        "| 3       | 1.287 | 1.285 | 1.284 | 1.266 | 0.868 | 0.688 | 0.673 | 0.659 |\n",
        "| 2       | 1.285 | 1.285 | 1.280 | 1.232 | 0.738 | 0.675 |   -   |   -   |\n"
      ]
    },
    {
      "cell_type": "code",
      "metadata": {
        "id": "tRdThDjrR8DO"
      },
      "source": [
        "# Physical constants\n",
        "R = 8.314e7\n",
        "a = 7.56464e-15\n",
        "G = 6.673e-8\n",
        "Teff = 10000\n",
        "mu = 1.048\n",
        "rhoin = 1e-13 \n",
        "gs = 10**(4)\n",
        "N = 32\n",
        "\n",
        "tau = np.empty(N)\n",
        "T = np.empty(N)\n",
        "Pg = np.empty(N)\n",
        "Pr = np.empty(N)\n",
        "rho = np.empty(N)\n",
        "kappa = np.empty(N)\n",
        "gr = np.empty(N)\n",
        "ge = np.empty(N)\n",
        "z = np.zeros(N)\n",
        "\n",
        "tau[0] = 0.0\n",
        "tau[1] = 0.001\n",
        "\n",
        "for i in range(N-2):\n",
        "  tau[i+2]=1.25*tau[i+1]\n",
        "\n",
        "dtau = 0.25*tau\n",
        "dtau[0] = 0.001\n",
        "\n",
        "def initial(tau):\n",
        "  T = temperature(tau)\n",
        "  Pr = rad_press(T)\n",
        "  Pg = rhoin*R*T/mu\n",
        "  kappa = absorb(rhoin,T)\n",
        "  gr = rad_accel(kappa,tau)\n",
        "  ge = gefect(kappa,tau)\n",
        "  return T,Pr,Pg,kappa,gr,ge\n",
        "\n",
        "T[0],Pr[0],Pg[0],kappa[0],gr[0],ge[0] = initial(tau[0])\n",
        "\n",
        "rho[0] = rhoin\n"
      ],
      "execution_count": 12,
      "outputs": []
    },
    {
      "cell_type": "code",
      "metadata": {
        "id": "NNyOy34HkM6d"
      },
      "source": [
        "for i in range(N-1):\n",
        "\n",
        "  # half_point\n",
        "  tau_mid = tau[i]+0.5*dtau[i]\n",
        "  T_mid = temperature(tau_mid)\n",
        "  Pg_mid = Pg[i]+0.5*dtau[i]*ge[i]/kappa[i]\n",
        "  rho_mid = density(T_mid,Pg_mid)\n",
        "  kappa_mid = absorb(rho_mid,T_mid)\n",
        "  ge_mid = gefect(kappa_mid,tau_mid)\n",
        "\n",
        "  # full_point\n",
        "  tau[i+1] = tau[i]+dtau[i]\n",
        "  T[i+1] = temperature(tau[i+1])\n",
        "  Pg[i+1] = Pg[i]+dtau[i]*ge_mid/kappa_mid\n",
        "  rho[i+1] = density(T[i+1],Pg[i+1])\n",
        "  kappa[i+1] = absorb(rho[i+1],T[i+1])\n",
        "  ge[i+1] = gefect(kappa[i+1],tau[i+1])\n",
        "\n",
        "  dz = dtau[i]//(kappa_mid*rho_mid)\n",
        "  z[i+1] = z[i] + dz\n",
        "  Pr[i+1] = rad_press(T[i+1])\n"
      ],
      "execution_count": 22,
      "outputs": []
    },
    {
      "cell_type": "code",
      "metadata": {
        "colab": {
          "base_uri": "https://localhost:8080/"
        },
        "id": "2yHSa2ZUu65b",
        "outputId": "d9b52a59-a66c-48ae-c7fc-e96ff10926b1"
      },
      "source": [
        "for i in range(N):\n",
        "  print(\"%.2f\" % Pg[i])"
      ],
      "execution_count": 23,
      "outputs": [
        {
          "output_type": "stream",
          "text": [
            "0.06\n",
            "0.17\n",
            "0.49\n",
            "1.45\n",
            "4.16\n",
            "9.88\n",
            "16.38\n",
            "22.35\n",
            "28.18\n",
            "34.14\n",
            "40.40\n",
            "47.10\n",
            "54.36\n",
            "62.31\n",
            "71.06\n",
            "80.77\n",
            "91.59\n",
            "103.71\n",
            "117.34\n",
            "132.74\n",
            "150.23\n",
            "170.18\n",
            "193.07\n",
            "219.47\n",
            "250.10\n",
            "285.85\n",
            "327.82\n",
            "377.40\n",
            "436.30\n",
            "506.71\n",
            "591.36\n",
            "693.76\n"
          ],
          "name": "stdout"
        }
      ]
    },
    {
      "cell_type": "code",
      "metadata": {
        "colab": {
          "base_uri": "https://localhost:8080/",
          "height": 38
        },
        "id": "9cORRpu64U2O",
        "outputId": "f3782b25-770e-4d63-d380-a5ccd5d7c447"
      },
      "source": [
        "const.G.cgs*const.R_sun.cgs**2/const.M_sun.cgs*const.M_sun.cgs**2/const.R_sun.cgs**5\n"
      ],
      "execution_count": 6,
      "outputs": [
        {
          "output_type": "execute_result",
          "data": {
            "text/latex": "$3.9413556 \\times 10^{-7} \\; \\mathrm{\\frac{1}{s^{2}}}$",
            "text/plain": [
              "<Quantity 3.94135564e-07 1 / s2>"
            ]
          },
          "metadata": {
            "tags": []
          },
          "execution_count": 6
        }
      ]
    }
  ]
}